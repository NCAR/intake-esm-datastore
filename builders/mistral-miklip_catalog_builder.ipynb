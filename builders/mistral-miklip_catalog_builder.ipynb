{
 "cells": [
  {
   "cell_type": "code",
   "execution_count": 1,
   "metadata": {},
   "outputs": [],
   "source": [
    "import pandas as pd\n",
    "import fnmatch\n",
    "import dask.dataframe as dd\n",
    "from intake.source.utils import reverse_format\n",
    "import os\n",
    "import re\n",
    "import subprocess\n",
    "from tqdm.auto import tqdm\n",
    "from pathlib import Path\n",
    "import shutil\n",
    "import numpy as np"
   ]
  },
  {
   "cell_type": "code",
   "execution_count": 2,
   "metadata": {},
   "outputs": [
    {
     "name": "stdout",
     "output_type": "stream",
     "text": [
      "baseline0  baseline1  preop  preop-dcpp  prototype\n"
     ]
    }
   ],
   "source": [
    "!ls /work/bmx828/miklip-ces/data4miklip/model/global/miklip"
   ]
  },
  {
   "cell_type": "markdown",
   "metadata": {},
   "source": [
    "## Create text file containing all files available"
   ]
  },
  {
   "cell_type": "code",
   "execution_count": 5,
   "metadata": {},
   "outputs": [],
   "source": [
    "def get_file_list(persist_path):\n",
    "    root = Path(\"/work/bmx828/miklip-ces/data4miklip/model/global/miklip/\")\n",
    "    p_path = Path(persist_path)\n",
    "    p_path.mkdir(exist_ok=True)\n",
    "    dirs = [x for x in root.iterdir() if x.is_dir()]\n",
    "    for directory in tqdm(dirs):\n",
    "        print(directory)\n",
    "        stem = directory.stem\n",
    "        f = open(f\"{persist_path}/{stem}.txt\", \"w\")\n",
    "        cmd = [\"find\", \"-L\", directory.as_posix(), \"-name\", \"*.nc\"]\n",
    "        p = subprocess.Popen(cmd, stderr=subprocess.PIPE, stdout=f)\n",
    "        p.wait()"
   ]
  },
  {
   "cell_type": "code",
   "execution_count": 6,
   "metadata": {},
   "outputs": [],
   "source": [
    "persist_path = \"./miklip_filelist\"\n",
    "#get_file_list(persist_path)"
   ]
  },
  {
   "cell_type": "markdown",
   "metadata": {},
   "source": [
    "\n",
    "## Extract attributes of a file using information from CMIP5 DRS.\n",
    "\n",
    "\n",
    "\n",
    "Reference:\n",
    "- CMIP5 DRS: https://pcmdi.llnl.gov/mips/cmip5/docs/cmip5_data_reference_syntax.pdf?id=27\n",
    "\n",
    "Directory:\n",
    "```\n",
    "  <activity>/\n",
    "    <product>/\n",
    "        <institute>/\n",
    "            <model>/\n",
    "                <experiment>/\n",
    "                    <frequency>/\n",
    "                        <modeling realm>/\n",
    "                            <MIP table>/\n",
    "                                <ensemble member>/\n",
    "                                    <version number>/\n",
    "                                        <variable name>/\n",
    "                                            <CMOR filename>.nc\n",
    "```\n",
    "                                                \n",
    "CMOR filename: `<variable name>_<MIP table>_<model>_<experiment>_ <ensemble member>[_<temporal subset>][_<geographical info>].nc`\n",
    "\"\"\""
   ]
  },
  {
   "cell_type": "code",
   "execution_count": 7,
   "metadata": {},
   "outputs": [
    {
     "data": {
      "text/plain": [
       "['prototype',\n",
       " 'baseline1',\n",
       " 'baseline0',\n",
       " 'preop',\n",
       " 'preop-dcpp',\n",
       " 'baseline0-checkpoint']"
      ]
     },
     "execution_count": 7,
     "metadata": {},
     "output_type": "execute_result"
    }
   ],
   "source": [
    "generations = list(Path(persist_path).rglob(\"*.txt\"))\n",
    "generations = [generation.stem for generation in generations]\n",
    "generations"
   ]
  },
  {
   "cell_type": "code",
   "execution_count": 8,
   "metadata": {},
   "outputs": [
    {
     "data": {
      "text/html": [
       "<div>\n",
       "<style scoped>\n",
       "    .dataframe tbody tr th:only-of-type {\n",
       "        vertical-align: middle;\n",
       "    }\n",
       "\n",
       "    .dataframe tbody tr th {\n",
       "        vertical-align: top;\n",
       "    }\n",
       "\n",
       "    .dataframe thead th {\n",
       "        text-align: right;\n",
       "    }\n",
       "</style>\n",
       "<table border=\"1\" class=\"dataframe\">\n",
       "  <thead>\n",
       "    <tr style=\"text-align: right;\">\n",
       "      <th></th>\n",
       "      <th>path</th>\n",
       "    </tr>\n",
       "  </thead>\n",
       "  <tbody>\n",
       "    <tr>\n",
       "      <td>0</td>\n",
       "      <td>/work/bmx828/miklip-ces/data4miklip/model/glob...</td>\n",
       "    </tr>\n",
       "    <tr>\n",
       "      <td>1</td>\n",
       "      <td>/work/bmx828/miklip-ces/data4miklip/model/glob...</td>\n",
       "    </tr>\n",
       "    <tr>\n",
       "      <td>2</td>\n",
       "      <td>/work/bmx828/miklip-ces/data4miklip/model/glob...</td>\n",
       "    </tr>\n",
       "    <tr>\n",
       "      <td>3</td>\n",
       "      <td>/work/bmx828/miklip-ces/data4miklip/model/glob...</td>\n",
       "    </tr>\n",
       "    <tr>\n",
       "      <td>4</td>\n",
       "      <td>/work/bmx828/miklip-ces/data4miklip/model/glob...</td>\n",
       "    </tr>\n",
       "  </tbody>\n",
       "</table>\n",
       "</div>"
      ],
      "text/plain": [
       "                                                path\n",
       "0  /work/bmx828/miklip-ces/data4miklip/model/glob...\n",
       "1  /work/bmx828/miklip-ces/data4miklip/model/glob...\n",
       "2  /work/bmx828/miklip-ces/data4miklip/model/glob...\n",
       "3  /work/bmx828/miklip-ces/data4miklip/model/glob...\n",
       "4  /work/bmx828/miklip-ces/data4miklip/model/glob..."
      ]
     },
     "execution_count": 8,
     "metadata": {},
     "output_type": "execute_result"
    }
   ],
   "source": [
    "df = dd.read_csv(f\"{persist_path}/*.txt\", header=None).compute()\n",
    "df.columns = [\"path\"]\n",
    "df.head()"
   ]
  },
  {
   "cell_type": "code",
   "execution_count": 9,
   "metadata": {},
   "outputs": [
    {
     "data": {
      "text/plain": [
       "1859769"
      ]
     },
     "execution_count": 9,
     "metadata": {},
     "output_type": "execute_result"
    }
   ],
   "source": [
    "len(df)"
   ]
  },
  {
   "cell_type": "code",
   "execution_count": 11,
   "metadata": {},
   "outputs": [],
   "source": [
    "def _reverse_filename_format(file_basename, filename_template=None, gridspec_template=None):\n",
    "    \"\"\"\n",
    "    Uses intake's ``reverse_format`` utility to reverse the string method format.\n",
    "    Given format_string and resolved_string, find arguments\n",
    "    that would give format_string.format(arguments) == resolved_string\n",
    "    \"\"\"\n",
    "    try:\n",
    "        return reverse_format(filename_template, file_basename)\n",
    "    except ValueError:\n",
    "        try:\n",
    "            return reverse_format(gridspec_template, file_basename)\n",
    "        except:\n",
    "            print(\n",
    "                f'Failed to parse file: {file_basename} using patterns: {filename_template} and {gridspec_template}'\n",
    "            )\n",
    "            return {}\n",
    "            \n",
    "def _extract_attr_with_regex(input_str, regex, strip_chars=None):\n",
    "    pattern = re.compile(regex, re.IGNORECASE)\n",
    "    match = re.findall(pattern, input_str)\n",
    "    if match:\n",
    "        match = max(match, key=len)\n",
    "        if strip_chars:\n",
    "            match = match.strip(strip_chars)\n",
    "\n",
    "        else:\n",
    "            match = match.strip()\n",
    "\n",
    "        return match\n",
    "\n",
    "    else:\n",
    "        return None\n",
    "    \n",
    "\n",
    "exclude_patterns = ['*/files/*', '*/latest/*']\n",
    "def _filter_func(path):\n",
    "    return not any(\n",
    "        fnmatch.fnmatch(path, pat=exclude_pattern) for exclude_pattern in exclude_patterns\n",
    "    )\n",
    "\n"
   ]
  },
  {
   "cell_type": "code",
   "execution_count": 12,
   "metadata": {},
   "outputs": [
    {
     "name": "stdout",
     "output_type": "stream",
     "text": [
      "CPU times: user 7.74 s, sys: 9 ms, total: 7.74 s\n",
      "Wall time: 7.73 s\n"
     ]
    }
   ],
   "source": [
    "%%time\n",
    "files = df.path.tolist()\n",
    "filelist = list(filter(_filter_func, files))"
   ]
  },
  {
   "cell_type": "code",
   "execution_count": 13,
   "metadata": {},
   "outputs": [
    {
     "data": {
      "text/plain": [
       "1859769"
      ]
     },
     "execution_count": 13,
     "metadata": {},
     "output_type": "execute_result"
    }
   ],
   "source": [
    "len(filelist)"
   ]
  },
  {
   "cell_type": "code",
   "execution_count": 16,
   "metadata": {},
   "outputs": [
    {
     "data": {
      "text/plain": [
       "'/work/bmx828/miklip-ces/data4miklip/model/global/miklip/baseline0/output1/MPI-M/MPI-ESM-LR/decadal2001/day/atmos/day/r2i1p1/v20111122/psl/psl_day_MPI-ESM-LR_decadal2001_r2i1p1_20020101-20111231.nc'"
      ]
     },
     "execution_count": 16,
     "metadata": {},
     "output_type": "execute_result"
    }
   ],
   "source": [
    "filelist[2]"
   ]
  },
  {
   "cell_type": "code",
   "execution_count": 22,
   "metadata": {},
   "outputs": [],
   "source": [
    "def get_attrs(filepath):\n",
    "    \"\"\" Extract attributes of a file using information from CMIP5 DRS.\n",
    "    Notes\n",
    "    -----\n",
    "    Reference:\n",
    "    - CMIP5 DRS: https://pcmdi.llnl.gov/mips/cmip5/docs/cmip5_data_reference_syntax.pdf?id=27\n",
    "    \"\"\"\n",
    "\n",
    "    fileparts = {}\n",
    "\n",
    "    freq_regex = r'/3hr/|/6hr/|/day/|/fx/|/mon/|/monClim/|/subhr/|/yr/'\n",
    "    realm_regex = r'aerosol|atmos|land|landIce|ocean|ocnBgchem|seaIce'\n",
    "    version_regex = r'v\\d{4}\\d{2}\\d{2}|v\\d{1}'\n",
    "\n",
    "    file_basename = os.path.basename(filepath)\n",
    "    fileparts['path'] = filepath\n",
    "\n",
    "    filename_template = (\n",
    "        '{variable}_{mip_table}_{model}_{experiment}_{ensemble_member}_{temporal_subset}.nc'\n",
    "    )\n",
    "    gridspec_template = '{variable}_{mip_table}_{model}_{experiment}_{ensemble_member}.nc'\n",
    "    f = _reverse_filename_format(\n",
    "        file_basename, filename_template=filename_template, gridspec_template=gridspec_template\n",
    "    )\n",
    "    fileparts.update(f)\n",
    "\n",
    "    frequency = _extract_attr_with_regex(\n",
    "        filepath, regex=freq_regex, strip_chars='/'\n",
    "    )\n",
    "    realm = _extract_attr_with_regex(filepath, regex=realm_regex)\n",
    "    version = _extract_attr_with_regex(filepath, regex=version_regex) or 'v0'\n",
    "    fileparts['frequency'] = frequency\n",
    "    fileparts['modeling_realm'] = realm\n",
    "    fileparts['version'] = version\n",
    "    try:\n",
    "        part1, part2 = os.path.dirname(filepath).split(fileparts['experiment'])\n",
    "        part1 = part1.strip(\"/\").split(\"/\")\n",
    "        #print(part1,part2)\n",
    "        fileparts['institute'] = part1[-2]\n",
    "        fileparts['product_id'] = part1[-3]\n",
    "        fileparts['generation'] = part1[-4]\n",
    "    except Exception:\n",
    "        print(fileparts)\n",
    "    \n",
    "\n",
    "    return fileparts"
   ]
  },
  {
   "cell_type": "code",
   "execution_count": 23,
   "metadata": {},
   "outputs": [
    {
     "data": {
      "text/plain": [
       "{'path': '/work/bmx828/miklip-ces/data4miklip/model/global/miklip/baseline0/output1/MPI-M/MPI-ESM-LR/decadal2001/day/atmos/day/r2i1p1/v20111122/sfcWind/sfcWind_day_MPI-ESM-LR_decadal2001_r2i1p1_20020101-20111231.nc',\n",
       " 'variable': 'sfcWind',\n",
       " 'mip_table': 'day',\n",
       " 'model': 'MPI-ESM-LR',\n",
       " 'experiment': 'decadal2001',\n",
       " 'ensemble_member': 'r2i1p1',\n",
       " 'temporal_subset': '20020101-20111231',\n",
       " 'frequency': 'day',\n",
       " 'modeling_realm': 'atmos',\n",
       " 'version': 'v20111122',\n",
       " 'institute': 'MPI-M',\n",
       " 'product_id': 'output1',\n",
       " 'generation': 'baseline0'}"
      ]
     },
     "execution_count": 23,
     "metadata": {},
     "output_type": "execute_result"
    }
   ],
   "source": [
    "get_attrs(filelist[0])"
   ]
  },
  {
   "cell_type": "code",
   "execution_count": 24,
   "metadata": {},
   "outputs": [
    {
     "name": "stdout",
     "output_type": "stream",
     "text": [
      "Failed to parse file: test.nc using patterns: {variable}_{mip_table}_{model}_{experiment}_{ensemble_member}_{temporal_subset}.nc and {variable}_{mip_table}_{model}_{experiment}_{ensemble_member}.nc\n",
      "{'path': '/work/bmx828/miklip-ces/data4miklip/model/global/miklip/preop-dcpp/output/MPIM-DWD/MPI-ESM-HR/hicast2006/mon/atmos/zg/r6i1p1/test.nc', 'frequency': 'mon', 'modeling_realm': 'atmos', 'version': 'v0'}\n",
      "Failed to parse file: evspsbl_6hr_MPI-ESM-HR_dcppA2001_r7i1p1f using patterns: {variable}_{mip_table}_{model}_{experiment}_{ensemble_member}_{temporal_subset}.nc and {variable}_{mip_table}_{model}_{experiment}_{ensemble_member}.nc\n",
      "{'path': '/work/bmx828/miklip-ces/data4miklip/model/global/miklip/preop/output/DWD/MPI-ESM-HR/dcppA2001/6hr/atmos/evspsbl/r7i1p1f1/evspsbl_6hr_MPI-ESM-HR_dcppA2001_r7i1p1f', 'frequency': '6hr', 'modeling_realm': 'atmos', 'version': 'v0'}\n",
      "CPU times: user 1min 36s, sys: 1.61 s, total: 1min 38s\n",
      "Wall time: 1min 37s\n"
     ]
    }
   ],
   "source": [
    "%%time\n",
    "entries = list(map(get_attrs, filelist))"
   ]
  },
  {
   "cell_type": "code",
   "execution_count": 25,
   "metadata": {},
   "outputs": [
    {
     "data": {
      "text/plain": [
       "{'path': '/work/bmx828/miklip-ces/data4miklip/model/global/miklip/baseline0/output1/MPI-M/MPI-ESM-LR/decadal2001/day/atmos/day/r5i1p1/v20111122/tasmin/tasmin_day_MPI-ESM-LR_decadal2001_r5i1p1_20020101-20111231.nc',\n",
       " 'variable': 'tasmin',\n",
       " 'mip_table': 'day',\n",
       " 'model': 'MPI-ESM-LR',\n",
       " 'experiment': 'decadal2001',\n",
       " 'ensemble_member': 'r5i1p1',\n",
       " 'temporal_subset': '20020101-20111231',\n",
       " 'frequency': 'day',\n",
       " 'modeling_realm': 'atmos',\n",
       " 'version': 'v20111122',\n",
       " 'institute': 'MPI-M',\n",
       " 'product_id': 'output1',\n",
       " 'generation': 'baseline0'}"
      ]
     },
     "execution_count": 25,
     "metadata": {},
     "output_type": "execute_result"
    }
   ],
   "source": [
    "entries[10]"
   ]
  },
  {
   "cell_type": "code",
   "execution_count": 26,
   "metadata": {},
   "outputs": [
    {
     "data": {
      "text/plain": [
       "1859769"
      ]
     },
     "execution_count": 26,
     "metadata": {},
     "output_type": "execute_result"
    }
   ],
   "source": [
    "len(entries)"
   ]
  },
  {
   "cell_type": "code",
   "execution_count": 56,
   "metadata": {},
   "outputs": [],
   "source": [
    "df = pd.DataFrame(entries)"
   ]
  },
  {
   "cell_type": "code",
   "execution_count": 80,
   "metadata": {},
   "outputs": [
    {
     "data": {
      "text/html": [
       "<div>\n",
       "<style scoped>\n",
       "    .dataframe tbody tr th:only-of-type {\n",
       "        vertical-align: middle;\n",
       "    }\n",
       "\n",
       "    .dataframe tbody tr th {\n",
       "        vertical-align: top;\n",
       "    }\n",
       "\n",
       "    .dataframe thead th {\n",
       "        text-align: right;\n",
       "    }\n",
       "</style>\n",
       "<table border=\"1\" class=\"dataframe\">\n",
       "  <thead>\n",
       "    <tr style=\"text-align: right;\">\n",
       "      <th></th>\n",
       "      <th>path</th>\n",
       "      <th>variable</th>\n",
       "      <th>mip_table</th>\n",
       "      <th>model</th>\n",
       "      <th>experiment</th>\n",
       "      <th>ensemble_member</th>\n",
       "      <th>temporal_subset</th>\n",
       "      <th>frequency</th>\n",
       "      <th>modeling_realm</th>\n",
       "      <th>version</th>\n",
       "      <th>institute</th>\n",
       "      <th>product_id</th>\n",
       "      <th>generation</th>\n",
       "    </tr>\n",
       "  </thead>\n",
       "  <tbody>\n",
       "    <tr>\n",
       "      <td>93</td>\n",
       "      <td>/work/bmx828/miklip-ces/data4miklip/model/glob...</td>\n",
       "      <td>ps</td>\n",
       "      <td>Amon</td>\n",
       "      <td>MPI-ESM-LR</td>\n",
       "      <td>decadal2001</td>\n",
       "      <td>r2i1p1</td>\n",
       "      <td>200201-201112</td>\n",
       "      <td>mon</td>\n",
       "      <td>atmos</td>\n",
       "      <td>v20111122</td>\n",
       "      <td>MPI-M</td>\n",
       "      <td>output1</td>\n",
       "      <td>baseline0</td>\n",
       "    </tr>\n",
       "    <tr>\n",
       "      <td>141</td>\n",
       "      <td>/work/bmx828/miklip-ces/data4miklip/model/glob...</td>\n",
       "      <td>ps</td>\n",
       "      <td>Amon</td>\n",
       "      <td>MPI-ESM-LR</td>\n",
       "      <td>decadal2001</td>\n",
       "      <td>r2i1p1</td>\n",
       "      <td>200201-201112</td>\n",
       "      <td>mon</td>\n",
       "      <td>atmos</td>\n",
       "      <td>v20120529</td>\n",
       "      <td>MPI-M</td>\n",
       "      <td>output1</td>\n",
       "      <td>baseline0</td>\n",
       "    </tr>\n",
       "    <tr>\n",
       "      <td>188</td>\n",
       "      <td>/work/bmx828/miklip-ces/data4miklip/model/glob...</td>\n",
       "      <td>ps</td>\n",
       "      <td>Amon</td>\n",
       "      <td>MPI-ESM-LR</td>\n",
       "      <td>decadal2001</td>\n",
       "      <td>r5i1p1</td>\n",
       "      <td>200201-201112</td>\n",
       "      <td>mon</td>\n",
       "      <td>atmos</td>\n",
       "      <td>v20111122</td>\n",
       "      <td>MPI-M</td>\n",
       "      <td>output1</td>\n",
       "      <td>baseline0</td>\n",
       "    </tr>\n",
       "    <tr>\n",
       "      <td>236</td>\n",
       "      <td>/work/bmx828/miklip-ces/data4miklip/model/glob...</td>\n",
       "      <td>ps</td>\n",
       "      <td>Amon</td>\n",
       "      <td>MPI-ESM-LR</td>\n",
       "      <td>decadal2001</td>\n",
       "      <td>r5i1p1</td>\n",
       "      <td>200201-201112</td>\n",
       "      <td>mon</td>\n",
       "      <td>atmos</td>\n",
       "      <td>v20120529</td>\n",
       "      <td>MPI-M</td>\n",
       "      <td>output1</td>\n",
       "      <td>baseline0</td>\n",
       "    </tr>\n",
       "    <tr>\n",
       "      <td>283</td>\n",
       "      <td>/work/bmx828/miklip-ces/data4miklip/model/glob...</td>\n",
       "      <td>ps</td>\n",
       "      <td>Amon</td>\n",
       "      <td>MPI-ESM-LR</td>\n",
       "      <td>decadal2001</td>\n",
       "      <td>r1i1p1</td>\n",
       "      <td>200201-201112</td>\n",
       "      <td>mon</td>\n",
       "      <td>atmos</td>\n",
       "      <td>v20111122</td>\n",
       "      <td>MPI-M</td>\n",
       "      <td>output1</td>\n",
       "      <td>baseline0</td>\n",
       "    </tr>\n",
       "    <tr>\n",
       "      <td>...</td>\n",
       "      <td>...</td>\n",
       "      <td>...</td>\n",
       "      <td>...</td>\n",
       "      <td>...</td>\n",
       "      <td>...</td>\n",
       "      <td>...</td>\n",
       "      <td>...</td>\n",
       "      <td>...</td>\n",
       "      <td>...</td>\n",
       "      <td>...</td>\n",
       "      <td>...</td>\n",
       "      <td>...</td>\n",
       "      <td>...</td>\n",
       "    </tr>\n",
       "    <tr>\n",
       "      <td>1856509</td>\n",
       "      <td>/work/bmx828/miklip-ces/data4miklip/model/glob...</td>\n",
       "      <td>ps</td>\n",
       "      <td>6hrPlev</td>\n",
       "      <td>MPI-ESM-LR</td>\n",
       "      <td>dffg2e2000</td>\n",
       "      <td>r15i1p1</td>\n",
       "      <td>2009010100-2009123118</td>\n",
       "      <td>6hr</td>\n",
       "      <td>atmos</td>\n",
       "      <td>v0</td>\n",
       "      <td>MPI-M</td>\n",
       "      <td>miklip-extra</td>\n",
       "      <td>prototype</td>\n",
       "    </tr>\n",
       "    <tr>\n",
       "      <td>1856510</td>\n",
       "      <td>/work/bmx828/miklip-ces/data4miklip/model/glob...</td>\n",
       "      <td>ps</td>\n",
       "      <td>6hrPlev</td>\n",
       "      <td>MPI-ESM-LR</td>\n",
       "      <td>dffg2e2000</td>\n",
       "      <td>r15i1p1</td>\n",
       "      <td>2005010100-2005123118</td>\n",
       "      <td>6hr</td>\n",
       "      <td>atmos</td>\n",
       "      <td>v0</td>\n",
       "      <td>MPI-M</td>\n",
       "      <td>miklip-extra</td>\n",
       "      <td>prototype</td>\n",
       "    </tr>\n",
       "    <tr>\n",
       "      <td>1856511</td>\n",
       "      <td>/work/bmx828/miklip-ces/data4miklip/model/glob...</td>\n",
       "      <td>ps</td>\n",
       "      <td>6hrPlev</td>\n",
       "      <td>MPI-ESM-LR</td>\n",
       "      <td>dffg2e2000</td>\n",
       "      <td>r15i1p1</td>\n",
       "      <td>2002010100-2002123118</td>\n",
       "      <td>6hr</td>\n",
       "      <td>atmos</td>\n",
       "      <td>v0</td>\n",
       "      <td>MPI-M</td>\n",
       "      <td>miklip-extra</td>\n",
       "      <td>prototype</td>\n",
       "    </tr>\n",
       "    <tr>\n",
       "      <td>1856512</td>\n",
       "      <td>/work/bmx828/miklip-ces/data4miklip/model/glob...</td>\n",
       "      <td>ps</td>\n",
       "      <td>6hrPlev</td>\n",
       "      <td>MPI-ESM-LR</td>\n",
       "      <td>dffg2e2000</td>\n",
       "      <td>r15i1p1</td>\n",
       "      <td>2007010100-2007123118</td>\n",
       "      <td>6hr</td>\n",
       "      <td>atmos</td>\n",
       "      <td>v0</td>\n",
       "      <td>MPI-M</td>\n",
       "      <td>miklip-extra</td>\n",
       "      <td>prototype</td>\n",
       "    </tr>\n",
       "    <tr>\n",
       "      <td>1856513</td>\n",
       "      <td>/work/bmx828/miklip-ces/data4miklip/model/glob...</td>\n",
       "      <td>ps</td>\n",
       "      <td>6hrPlev</td>\n",
       "      <td>MPI-ESM-LR</td>\n",
       "      <td>dffg2e2000</td>\n",
       "      <td>r15i1p1</td>\n",
       "      <td>2003010100-2003123118</td>\n",
       "      <td>6hr</td>\n",
       "      <td>atmos</td>\n",
       "      <td>v0</td>\n",
       "      <td>MPI-M</td>\n",
       "      <td>miklip-extra</td>\n",
       "      <td>prototype</td>\n",
       "    </tr>\n",
       "  </tbody>\n",
       "</table>\n",
       "<p>47236 rows × 13 columns</p>\n",
       "</div>"
      ],
      "text/plain": [
       "                                                      path variable mip_table  \\\n",
       "93       /work/bmx828/miklip-ces/data4miklip/model/glob...       ps      Amon   \n",
       "141      /work/bmx828/miklip-ces/data4miklip/model/glob...       ps      Amon   \n",
       "188      /work/bmx828/miklip-ces/data4miklip/model/glob...       ps      Amon   \n",
       "236      /work/bmx828/miklip-ces/data4miklip/model/glob...       ps      Amon   \n",
       "283      /work/bmx828/miklip-ces/data4miklip/model/glob...       ps      Amon   \n",
       "...                                                    ...      ...       ...   \n",
       "1856509  /work/bmx828/miklip-ces/data4miklip/model/glob...       ps   6hrPlev   \n",
       "1856510  /work/bmx828/miklip-ces/data4miklip/model/glob...       ps   6hrPlev   \n",
       "1856511  /work/bmx828/miklip-ces/data4miklip/model/glob...       ps   6hrPlev   \n",
       "1856512  /work/bmx828/miklip-ces/data4miklip/model/glob...       ps   6hrPlev   \n",
       "1856513  /work/bmx828/miklip-ces/data4miklip/model/glob...       ps   6hrPlev   \n",
       "\n",
       "              model   experiment ensemble_member        temporal_subset  \\\n",
       "93       MPI-ESM-LR  decadal2001          r2i1p1          200201-201112   \n",
       "141      MPI-ESM-LR  decadal2001          r2i1p1          200201-201112   \n",
       "188      MPI-ESM-LR  decadal2001          r5i1p1          200201-201112   \n",
       "236      MPI-ESM-LR  decadal2001          r5i1p1          200201-201112   \n",
       "283      MPI-ESM-LR  decadal2001          r1i1p1          200201-201112   \n",
       "...             ...          ...             ...                    ...   \n",
       "1856509  MPI-ESM-LR   dffg2e2000         r15i1p1  2009010100-2009123118   \n",
       "1856510  MPI-ESM-LR   dffg2e2000         r15i1p1  2005010100-2005123118   \n",
       "1856511  MPI-ESM-LR   dffg2e2000         r15i1p1  2002010100-2002123118   \n",
       "1856512  MPI-ESM-LR   dffg2e2000         r15i1p1  2007010100-2007123118   \n",
       "1856513  MPI-ESM-LR   dffg2e2000         r15i1p1  2003010100-2003123118   \n",
       "\n",
       "        frequency modeling_realm    version institute    product_id generation  \n",
       "93            mon          atmos  v20111122     MPI-M       output1  baseline0  \n",
       "141           mon          atmos  v20120529     MPI-M       output1  baseline0  \n",
       "188           mon          atmos  v20111122     MPI-M       output1  baseline0  \n",
       "236           mon          atmos  v20120529     MPI-M       output1  baseline0  \n",
       "283           mon          atmos  v20111122     MPI-M       output1  baseline0  \n",
       "...           ...            ...        ...       ...           ...        ...  \n",
       "1856509       6hr          atmos         v0     MPI-M  miklip-extra  prototype  \n",
       "1856510       6hr          atmos         v0     MPI-M  miklip-extra  prototype  \n",
       "1856511       6hr          atmos         v0     MPI-M  miklip-extra  prototype  \n",
       "1856512       6hr          atmos         v0     MPI-M  miklip-extra  prototype  \n",
       "1856513       6hr          atmos         v0     MPI-M  miklip-extra  prototype  \n",
       "\n",
       "[47236 rows x 13 columns]"
      ]
     },
     "execution_count": 80,
     "metadata": {},
     "output_type": "execute_result"
    }
   ],
   "source": [
    "df[df['variable']=='ps']"
   ]
  },
  {
   "cell_type": "code",
   "execution_count": 73,
   "metadata": {},
   "outputs": [
    {
     "data": {
      "text/plain": [
       "array(['output1', 'output', 'miklip-extra', nan, 'preop'], dtype=object)"
      ]
     },
     "execution_count": 73,
     "metadata": {},
     "output_type": "execute_result"
    }
   ],
   "source": [
    "df.product_id.unique()"
   ]
  },
  {
   "cell_type": "code",
   "execution_count": 74,
   "metadata": {},
   "outputs": [
    {
     "data": {
      "text/plain": [
       "array(['baseline0', 'baseline1', 'preop-dcpp', nan, 'preop', 'miklip',\n",
       "       'prototype'], dtype=object)"
      ]
     },
     "execution_count": 74,
     "metadata": {},
     "output_type": "execute_result"
    }
   ],
   "source": [
    "df.generation.unique()"
   ]
  },
  {
   "cell_type": "code",
   "execution_count": 75,
   "metadata": {},
   "outputs": [
    {
     "data": {
      "text/plain": [
       "array(['mrso', 'tauu', 'ps', 'rsdt', 'rlut', 'zg', 'va', 'clt', 'pr',\n",
       "       'rsut', 'wap', 'rsds', 'rlds', 'uas', 'rls', 'ta', 'hus',\n",
       "       'sfcWind', 'hfss', 'rsus', 'tas', 'prsn', 'tdps', 'tasmax',\n",
       "       'sfcWindmax', 'rlus', 'psl', 'prc', 'ua', 'vas', 'hur', 'tasmin',\n",
       "       'hfls', 'tauv', 'evspsbl', 'zos', 'sic', 'so', 'vsi', 'uo', 'usi',\n",
       "       'snd', 'mlotst', 'sivol', 'strairx', 'msftmyz', 'vsf', 'zossq',\n",
       "       'thetao', 'tos', 'strairy', 'wmo', 'hfds', 'sos', 'tossq', 'vo',\n",
       "       'mrro', 'prw', 'albedo', 'rldscs', 'rsutcs', 'ts', 'rss', 'al',\n",
       "       'rsdscs', 'rsuscs', 'rlutcs', 'clivi', 'rtmt', 'clwvi', 'seaice',\n",
       "       'areacello', 'deptho', 'sftof', 'mlotstsq', 'hfy', 'hfxba', 'pbo',\n",
       "       'tauvo', 'wfo', 'hfyba', 'hfxdiff', 'msftbarot', 'hfx', 'rsntds',\n",
       "       'tauuo', 'hfydiff', 'snm', 'snw', 'transiy', 'sim', 'sit',\n",
       "       'transix'], dtype=object)"
      ]
     },
     "execution_count": 75,
     "metadata": {},
     "output_type": "execute_result"
    }
   ],
   "source": [
    "df[df.generation=='preop-dcpp']['variable'].unique()"
   ]
  },
  {
   "cell_type": "code",
   "execution_count": 76,
   "metadata": {},
   "outputs": [
    {
     "data": {
      "text/plain": [
       "array(['r2i1p1', 'r5i1p1', 'r1i1p1', 'r10i1p1', 'r6i1p1', 'r8i1p1',\n",
       "       'r4i1p1', 'r7i1p1', 'r3i1p1', 'r9i1p1', 'r0i0p0', 'r1i1p2',\n",
       "       'r8i2p1', 'r5i2p1', 'r7i2p1', 'r9i2p1', 'r6i2p1', 'r10i2p1',\n",
       "       'r2i2p1', 'r3i2p1', 'r1i2p1', 'r4i2p1', 'r1i1p8', nan,\n",
       "       'dpes4e1968', 'dpes4e2015', 'dpes4e1978', 'dpes4e1989',\n",
       "       'dpes4e1967', 'dpes4e1999', 'dpes4e2003', 'dpes4e1964',\n",
       "       'dpes4e1960', 'dpes4e1976', 'dpes4e1998', 'dpes4e1977',\n",
       "       'dpes4e1992', 'dpes4e2004', 'dpes4e1962', 'dpes4e1988',\n",
       "       'dpes4e1984', 'dpes4e2001', 'dpes4e2014', 'dpes4e1970',\n",
       "       'dpes4e1983', 'dpes4e1961', 'dpes4e2000', 'dpes4e2011',\n",
       "       'dpes4e1987', 'dpes4e2009', 'dpes4e1972', 'dpes4e1985',\n",
       "       'dpes4e2010', 'dpes4e1991', 'dpes4e1971', 'asORAaERAf',\n",
       "       'dpes4e1982', 'dpes4e1990', 'dpes4e1993', 'dpes4e2002',\n",
       "       'dpes4e1965', 'dpes4e2013', 'r11i1p1', 'r0i1p1', 'historical',\n",
       "       'dpes4e2016', 'dpes4e2012', 'dpes4e1997', 'dpes4e1994',\n",
       "       'dpes4e1979', 'dpes4e2006', 'dpes4e1974', 'dpes4e2007',\n",
       "       'dpes4e2005', 'dpes4e1995', 'dpes4e1986', 'dpes4e1996',\n",
       "       'dpes4e1966', 'dpes4e2008', 'dpes4e1975', 'dpes4e1981',\n",
       "       'dpes4e1980', 'dpes4e1973', 'dpes4e1969', 'dpes4e1963', 'r6i1p1f1',\n",
       "       'r10i1p1f1', 'r7i1p1f1', 'r8i1p1f1', 'r9i1p1f1', 'r14i1p1',\n",
       "       'r12i1p1', 'r13i1p1', 'r15i1p1'], dtype=object)"
      ]
     },
     "execution_count": 76,
     "metadata": {},
     "output_type": "execute_result"
    }
   ],
   "source": [
    "df.ensemble_member.unique()"
   ]
  },
  {
   "cell_type": "code",
   "execution_count": 34,
   "metadata": {},
   "outputs": [],
   "source": [
    "#df[df['generation']=='nan']"
   ]
  },
  {
   "cell_type": "code",
   "execution_count": null,
   "metadata": {},
   "outputs": [],
   "source": []
  },
  {
   "cell_type": "code",
   "execution_count": 35,
   "metadata": {},
   "outputs": [
    {
     "data": {
      "text/html": [
       "<div>\n",
       "<style scoped>\n",
       "    .dataframe tbody tr th:only-of-type {\n",
       "        vertical-align: middle;\n",
       "    }\n",
       "\n",
       "    .dataframe tbody tr th {\n",
       "        vertical-align: top;\n",
       "    }\n",
       "\n",
       "    .dataframe thead th {\n",
       "        text-align: right;\n",
       "    }\n",
       "</style>\n",
       "<table border=\"1\" class=\"dataframe\">\n",
       "  <thead>\n",
       "    <tr style=\"text-align: right;\">\n",
       "      <th></th>\n",
       "      <th>path</th>\n",
       "      <th>variable</th>\n",
       "      <th>mip_table</th>\n",
       "      <th>model</th>\n",
       "      <th>experiment</th>\n",
       "      <th>ensemble_member</th>\n",
       "      <th>temporal_subset</th>\n",
       "      <th>frequency</th>\n",
       "      <th>modeling_realm</th>\n",
       "      <th>version</th>\n",
       "      <th>institute</th>\n",
       "      <th>product_id</th>\n",
       "      <th>generation</th>\n",
       "    </tr>\n",
       "  </thead>\n",
       "  <tbody>\n",
       "    <tr>\n",
       "      <td>0</td>\n",
       "      <td>/work/bmx828/miklip-ces/data4miklip/model/glob...</td>\n",
       "      <td>sfcWind</td>\n",
       "      <td>day</td>\n",
       "      <td>MPI-ESM-LR</td>\n",
       "      <td>decadal2001</td>\n",
       "      <td>r2i1p1</td>\n",
       "      <td>20020101-20111231</td>\n",
       "      <td>day</td>\n",
       "      <td>atmos</td>\n",
       "      <td>v20111122</td>\n",
       "      <td>MPI-M</td>\n",
       "      <td>output1</td>\n",
       "      <td>baseline0</td>\n",
       "    </tr>\n",
       "    <tr>\n",
       "      <td>1</td>\n",
       "      <td>/work/bmx828/miklip-ces/data4miklip/model/glob...</td>\n",
       "      <td>tas</td>\n",
       "      <td>day</td>\n",
       "      <td>MPI-ESM-LR</td>\n",
       "      <td>decadal2001</td>\n",
       "      <td>r2i1p1</td>\n",
       "      <td>20020101-20111231</td>\n",
       "      <td>day</td>\n",
       "      <td>atmos</td>\n",
       "      <td>v20111122</td>\n",
       "      <td>MPI-M</td>\n",
       "      <td>output1</td>\n",
       "      <td>baseline0</td>\n",
       "    </tr>\n",
       "    <tr>\n",
       "      <td>2</td>\n",
       "      <td>/work/bmx828/miklip-ces/data4miklip/model/glob...</td>\n",
       "      <td>psl</td>\n",
       "      <td>day</td>\n",
       "      <td>MPI-ESM-LR</td>\n",
       "      <td>decadal2001</td>\n",
       "      <td>r2i1p1</td>\n",
       "      <td>20020101-20111231</td>\n",
       "      <td>day</td>\n",
       "      <td>atmos</td>\n",
       "      <td>v20111122</td>\n",
       "      <td>MPI-M</td>\n",
       "      <td>output1</td>\n",
       "      <td>baseline0</td>\n",
       "    </tr>\n",
       "    <tr>\n",
       "      <td>3</td>\n",
       "      <td>/work/bmx828/miklip-ces/data4miklip/model/glob...</td>\n",
       "      <td>pr</td>\n",
       "      <td>day</td>\n",
       "      <td>MPI-ESM-LR</td>\n",
       "      <td>decadal2001</td>\n",
       "      <td>r2i1p1</td>\n",
       "      <td>20020101-20111231</td>\n",
       "      <td>day</td>\n",
       "      <td>atmos</td>\n",
       "      <td>v20111122</td>\n",
       "      <td>MPI-M</td>\n",
       "      <td>output1</td>\n",
       "      <td>baseline0</td>\n",
       "    </tr>\n",
       "    <tr>\n",
       "      <td>4</td>\n",
       "      <td>/work/bmx828/miklip-ces/data4miklip/model/glob...</td>\n",
       "      <td>tasmin</td>\n",
       "      <td>day</td>\n",
       "      <td>MPI-ESM-LR</td>\n",
       "      <td>decadal2001</td>\n",
       "      <td>r2i1p1</td>\n",
       "      <td>20020101-20111231</td>\n",
       "      <td>day</td>\n",
       "      <td>atmos</td>\n",
       "      <td>v20111122</td>\n",
       "      <td>MPI-M</td>\n",
       "      <td>output1</td>\n",
       "      <td>baseline0</td>\n",
       "    </tr>\n",
       "  </tbody>\n",
       "</table>\n",
       "</div>"
      ],
      "text/plain": [
       "                                                path variable mip_table  \\\n",
       "0  /work/bmx828/miklip-ces/data4miklip/model/glob...  sfcWind       day   \n",
       "1  /work/bmx828/miklip-ces/data4miklip/model/glob...      tas       day   \n",
       "2  /work/bmx828/miklip-ces/data4miklip/model/glob...      psl       day   \n",
       "3  /work/bmx828/miklip-ces/data4miklip/model/glob...       pr       day   \n",
       "4  /work/bmx828/miklip-ces/data4miklip/model/glob...   tasmin       day   \n",
       "\n",
       "        model   experiment ensemble_member    temporal_subset frequency  \\\n",
       "0  MPI-ESM-LR  decadal2001          r2i1p1  20020101-20111231       day   \n",
       "1  MPI-ESM-LR  decadal2001          r2i1p1  20020101-20111231       day   \n",
       "2  MPI-ESM-LR  decadal2001          r2i1p1  20020101-20111231       day   \n",
       "3  MPI-ESM-LR  decadal2001          r2i1p1  20020101-20111231       day   \n",
       "4  MPI-ESM-LR  decadal2001          r2i1p1  20020101-20111231       day   \n",
       "\n",
       "  modeling_realm    version institute product_id generation  \n",
       "0          atmos  v20111122     MPI-M    output1  baseline0  \n",
       "1          atmos  v20111122     MPI-M    output1  baseline0  \n",
       "2          atmos  v20111122     MPI-M    output1  baseline0  \n",
       "3          atmos  v20111122     MPI-M    output1  baseline0  \n",
       "4          atmos  v20111122     MPI-M    output1  baseline0  "
      ]
     },
     "execution_count": 35,
     "metadata": {},
     "output_type": "execute_result"
    }
   ],
   "source": [
    "df = df.drop_duplicates(subset=['path'], keep='last').reset_index(drop=True)\n",
    "df.head()"
   ]
  },
  {
   "cell_type": "code",
   "execution_count": 36,
   "metadata": {},
   "outputs": [
    {
     "data": {
      "text/plain": [
       "1859769"
      ]
     },
     "execution_count": 36,
     "metadata": {},
     "output_type": "execute_result"
    }
   ],
   "source": [
    "len(df)"
   ]
  },
  {
   "cell_type": "code",
   "execution_count": 37,
   "metadata": {},
   "outputs": [
    {
     "data": {
      "text/html": [
       "<div>\n",
       "<style scoped>\n",
       "    .dataframe tbody tr th:only-of-type {\n",
       "        vertical-align: middle;\n",
       "    }\n",
       "\n",
       "    .dataframe tbody tr th {\n",
       "        vertical-align: top;\n",
       "    }\n",
       "\n",
       "    .dataframe thead th {\n",
       "        text-align: right;\n",
       "    }\n",
       "</style>\n",
       "<table border=\"1\" class=\"dataframe\">\n",
       "  <thead>\n",
       "    <tr style=\"text-align: right;\">\n",
       "      <th></th>\n",
       "      <th>path</th>\n",
       "      <th>variable</th>\n",
       "      <th>mip_table</th>\n",
       "      <th>model</th>\n",
       "      <th>experiment</th>\n",
       "      <th>ensemble_member</th>\n",
       "      <th>temporal_subset</th>\n",
       "      <th>frequency</th>\n",
       "      <th>modeling_realm</th>\n",
       "      <th>version</th>\n",
       "      <th>institute</th>\n",
       "      <th>product_id</th>\n",
       "      <th>generation</th>\n",
       "    </tr>\n",
       "  </thead>\n",
       "  <tbody>\n",
       "    <tr>\n",
       "      <td>0</td>\n",
       "      <td>/work/bmx828/miklip-ces/data4miklip/model/glob...</td>\n",
       "      <td>sfcWind</td>\n",
       "      <td>day</td>\n",
       "      <td>MPI-ESM-LR</td>\n",
       "      <td>decadal2001</td>\n",
       "      <td>r2i1p1</td>\n",
       "      <td>20020101-20111231</td>\n",
       "      <td>day</td>\n",
       "      <td>atmos</td>\n",
       "      <td>v20111122</td>\n",
       "      <td>MPI-M</td>\n",
       "      <td>output1</td>\n",
       "      <td>baseline0</td>\n",
       "    </tr>\n",
       "    <tr>\n",
       "      <td>1</td>\n",
       "      <td>/work/bmx828/miklip-ces/data4miklip/model/glob...</td>\n",
       "      <td>tas</td>\n",
       "      <td>day</td>\n",
       "      <td>MPI-ESM-LR</td>\n",
       "      <td>decadal2001</td>\n",
       "      <td>r2i1p1</td>\n",
       "      <td>20020101-20111231</td>\n",
       "      <td>day</td>\n",
       "      <td>atmos</td>\n",
       "      <td>v20111122</td>\n",
       "      <td>MPI-M</td>\n",
       "      <td>output1</td>\n",
       "      <td>baseline0</td>\n",
       "    </tr>\n",
       "    <tr>\n",
       "      <td>2</td>\n",
       "      <td>/work/bmx828/miklip-ces/data4miklip/model/glob...</td>\n",
       "      <td>psl</td>\n",
       "      <td>day</td>\n",
       "      <td>MPI-ESM-LR</td>\n",
       "      <td>decadal2001</td>\n",
       "      <td>r2i1p1</td>\n",
       "      <td>20020101-20111231</td>\n",
       "      <td>day</td>\n",
       "      <td>atmos</td>\n",
       "      <td>v20111122</td>\n",
       "      <td>MPI-M</td>\n",
       "      <td>output1</td>\n",
       "      <td>baseline0</td>\n",
       "    </tr>\n",
       "    <tr>\n",
       "      <td>3</td>\n",
       "      <td>/work/bmx828/miklip-ces/data4miklip/model/glob...</td>\n",
       "      <td>pr</td>\n",
       "      <td>day</td>\n",
       "      <td>MPI-ESM-LR</td>\n",
       "      <td>decadal2001</td>\n",
       "      <td>r2i1p1</td>\n",
       "      <td>20020101-20111231</td>\n",
       "      <td>day</td>\n",
       "      <td>atmos</td>\n",
       "      <td>v20111122</td>\n",
       "      <td>MPI-M</td>\n",
       "      <td>output1</td>\n",
       "      <td>baseline0</td>\n",
       "    </tr>\n",
       "    <tr>\n",
       "      <td>4</td>\n",
       "      <td>/work/bmx828/miklip-ces/data4miklip/model/glob...</td>\n",
       "      <td>tasmin</td>\n",
       "      <td>day</td>\n",
       "      <td>MPI-ESM-LR</td>\n",
       "      <td>decadal2001</td>\n",
       "      <td>r2i1p1</td>\n",
       "      <td>20020101-20111231</td>\n",
       "      <td>day</td>\n",
       "      <td>atmos</td>\n",
       "      <td>v20111122</td>\n",
       "      <td>MPI-M</td>\n",
       "      <td>output1</td>\n",
       "      <td>baseline0</td>\n",
       "    </tr>\n",
       "  </tbody>\n",
       "</table>\n",
       "</div>"
      ],
      "text/plain": [
       "                                                path variable mip_table  \\\n",
       "0  /work/bmx828/miklip-ces/data4miklip/model/glob...  sfcWind       day   \n",
       "1  /work/bmx828/miklip-ces/data4miklip/model/glob...      tas       day   \n",
       "2  /work/bmx828/miklip-ces/data4miklip/model/glob...      psl       day   \n",
       "3  /work/bmx828/miklip-ces/data4miklip/model/glob...       pr       day   \n",
       "4  /work/bmx828/miklip-ces/data4miklip/model/glob...   tasmin       day   \n",
       "\n",
       "        model   experiment ensemble_member    temporal_subset frequency  \\\n",
       "0  MPI-ESM-LR  decadal2001          r2i1p1  20020101-20111231       day   \n",
       "1  MPI-ESM-LR  decadal2001          r2i1p1  20020101-20111231       day   \n",
       "2  MPI-ESM-LR  decadal2001          r2i1p1  20020101-20111231       day   \n",
       "3  MPI-ESM-LR  decadal2001          r2i1p1  20020101-20111231       day   \n",
       "4  MPI-ESM-LR  decadal2001          r2i1p1  20020101-20111231       day   \n",
       "\n",
       "  modeling_realm    version institute product_id generation  \n",
       "0          atmos  v20111122     MPI-M    output1  baseline0  \n",
       "1          atmos  v20111122     MPI-M    output1  baseline0  \n",
       "2          atmos  v20111122     MPI-M    output1  baseline0  \n",
       "3          atmos  v20111122     MPI-M    output1  baseline0  \n",
       "4          atmos  v20111122     MPI-M    output1  baseline0  "
      ]
     },
     "execution_count": 37,
     "metadata": {},
     "output_type": "execute_result"
    }
   ],
   "source": [
    "df.head()"
   ]
  },
  {
   "cell_type": "code",
   "execution_count": 49,
   "metadata": {},
   "outputs": [
    {
     "data": {
      "text/plain": [
       "array(['output1', 'output', 'miklip-extra', nan, 'preop'], dtype=object)"
      ]
     },
     "execution_count": 49,
     "metadata": {},
     "output_type": "execute_result"
    }
   ],
   "source": [
    "products=df.product_id.unique()\n",
    "products"
   ]
  },
  {
   "cell_type": "code",
   "execution_count": 51,
   "metadata": {},
   "outputs": [
    {
     "data": {
      "text/plain": [
       "['output1', 'output', 'miklip-extra', 'preop']"
      ]
     },
     "execution_count": 51,
     "metadata": {},
     "output_type": "execute_result"
    }
   ],
   "source": [
    "products=list(products)\n",
    "products.remove(np.nan)\n",
    "products"
   ]
  },
  {
   "cell_type": "code",
   "execution_count": 52,
   "metadata": {},
   "outputs": [
    {
     "data": {
      "text/html": [
       "<div>\n",
       "<style scoped>\n",
       "    .dataframe tbody tr th:only-of-type {\n",
       "        vertical-align: middle;\n",
       "    }\n",
       "\n",
       "    .dataframe tbody tr th {\n",
       "        vertical-align: top;\n",
       "    }\n",
       "\n",
       "    .dataframe thead th {\n",
       "        text-align: right;\n",
       "    }\n",
       "</style>\n",
       "<table border=\"1\" class=\"dataframe\">\n",
       "  <thead>\n",
       "    <tr style=\"text-align: right;\">\n",
       "      <th></th>\n",
       "      <th>path</th>\n",
       "      <th>variable</th>\n",
       "      <th>mip_table</th>\n",
       "      <th>model</th>\n",
       "      <th>experiment</th>\n",
       "      <th>ensemble_member</th>\n",
       "      <th>temporal_subset</th>\n",
       "      <th>frequency</th>\n",
       "      <th>modeling_realm</th>\n",
       "      <th>version</th>\n",
       "      <th>institute</th>\n",
       "      <th>product_id</th>\n",
       "      <th>generation</th>\n",
       "    </tr>\n",
       "  </thead>\n",
       "  <tbody>\n",
       "    <tr>\n",
       "      <td>748414</td>\n",
       "      <td>/work/bmx828/miklip-ces/data4miklip/model/glob...</td>\n",
       "      <td>NaN</td>\n",
       "      <td>NaN</td>\n",
       "      <td>NaN</td>\n",
       "      <td>NaN</td>\n",
       "      <td>NaN</td>\n",
       "      <td>NaN</td>\n",
       "      <td>mon</td>\n",
       "      <td>atmos</td>\n",
       "      <td>v0</td>\n",
       "      <td>NaN</td>\n",
       "      <td>NaN</td>\n",
       "      <td>NaN</td>\n",
       "    </tr>\n",
       "    <tr>\n",
       "      <td>1093507</td>\n",
       "      <td>/work/bmx828/miklip-ces/data4miklip/model/glob...</td>\n",
       "      <td>NaN</td>\n",
       "      <td>NaN</td>\n",
       "      <td>NaN</td>\n",
       "      <td>NaN</td>\n",
       "      <td>NaN</td>\n",
       "      <td>NaN</td>\n",
       "      <td>6hr</td>\n",
       "      <td>atmos</td>\n",
       "      <td>v0</td>\n",
       "      <td>NaN</td>\n",
       "      <td>NaN</td>\n",
       "      <td>NaN</td>\n",
       "    </tr>\n",
       "  </tbody>\n",
       "</table>\n",
       "</div>"
      ],
      "text/plain": [
       "                                                      path variable mip_table  \\\n",
       "748414   /work/bmx828/miklip-ces/data4miklip/model/glob...      NaN       NaN   \n",
       "1093507  /work/bmx828/miklip-ces/data4miklip/model/glob...      NaN       NaN   \n",
       "\n",
       "        model experiment ensemble_member temporal_subset frequency  \\\n",
       "748414    NaN        NaN             NaN             NaN       mon   \n",
       "1093507   NaN        NaN             NaN             NaN       6hr   \n",
       "\n",
       "        modeling_realm version institute product_id generation  \n",
       "748414           atmos      v0       NaN        NaN        NaN  \n",
       "1093507          atmos      v0       NaN        NaN        NaN  "
      ]
     },
     "execution_count": 52,
     "metadata": {},
     "output_type": "execute_result"
    }
   ],
   "source": [
    "# Some entries are invalid\n",
    "invalids = df[~df.product_id.isin(products)]\n",
    "invalids\n",
    "#df = df[df.activity_id.isin(activity_ids)]"
   ]
  },
  {
   "cell_type": "code",
   "execution_count": 53,
   "metadata": {},
   "outputs": [
    {
     "data": {
      "text/plain": [
       "1859767"
      ]
     },
     "execution_count": 53,
     "metadata": {},
     "output_type": "execute_result"
    }
   ],
   "source": [
    "df = df[df.product_id.isin(products)]\n",
    "len(df)"
   ]
  },
  {
   "cell_type": "code",
   "execution_count": 81,
   "metadata": {},
   "outputs": [
    {
     "data": {
      "text/plain": [
       "array(['r2i1p1', 'r5i1p1', 'r1i1p1', 'r10i1p1', 'r6i1p1', 'r8i1p1',\n",
       "       'r4i1p1', 'r7i1p1', 'r3i1p1', 'r9i1p1', 'r0i0p0', 'r1i1p2',\n",
       "       'r8i2p1', 'r5i2p1', 'r7i2p1', 'r9i2p1', 'r6i2p1', 'r10i2p1',\n",
       "       'r2i2p1', 'r3i2p1', 'r1i2p1', 'r4i2p1', 'r1i1p8', nan,\n",
       "       'dpes4e1968', 'dpes4e2015', 'dpes4e1978', 'dpes4e1989',\n",
       "       'dpes4e1967', 'dpes4e1999', 'dpes4e2003', 'dpes4e1964',\n",
       "       'dpes4e1960', 'dpes4e1976', 'dpes4e1998', 'dpes4e1977',\n",
       "       'dpes4e1992', 'dpes4e2004', 'dpes4e1962', 'dpes4e1988',\n",
       "       'dpes4e1984', 'dpes4e2001', 'dpes4e2014', 'dpes4e1970',\n",
       "       'dpes4e1983', 'dpes4e1961', 'dpes4e2000', 'dpes4e2011',\n",
       "       'dpes4e1987', 'dpes4e2009', 'dpes4e1972', 'dpes4e1985',\n",
       "       'dpes4e2010', 'dpes4e1991', 'dpes4e1971', 'asORAaERAf',\n",
       "       'dpes4e1982', 'dpes4e1990', 'dpes4e1993', 'dpes4e2002',\n",
       "       'dpes4e1965', 'dpes4e2013', 'r11i1p1', 'r0i1p1', 'historical',\n",
       "       'dpes4e2016', 'dpes4e2012', 'dpes4e1997', 'dpes4e1994',\n",
       "       'dpes4e1979', 'dpes4e2006', 'dpes4e1974', 'dpes4e2007',\n",
       "       'dpes4e2005', 'dpes4e1995', 'dpes4e1986', 'dpes4e1996',\n",
       "       'dpes4e1966', 'dpes4e2008', 'dpes4e1975', 'dpes4e1981',\n",
       "       'dpes4e1980', 'dpes4e1973', 'dpes4e1969', 'dpes4e1963', 'r6i1p1f1',\n",
       "       'r10i1p1f1', 'r7i1p1f1', 'r8i1p1f1', 'r9i1p1f1', 'r14i1p1',\n",
       "       'r12i1p1', 'r13i1p1', 'r15i1p1'], dtype=object)"
      ]
     },
     "execution_count": 81,
     "metadata": {},
     "output_type": "execute_result"
    }
   ],
   "source": [
    "df.ensemble_member.unique()"
   ]
  },
  {
   "cell_type": "code",
   "execution_count": 82,
   "metadata": {},
   "outputs": [
    {
     "data": {
      "text/plain": [
       "array(['decadal2001', 'amip4K', 'decadal1982', 'noVolc1975',\n",
       "       'decadal1961', 'esmHistorical', 'aqua4xCO2', 'noVolc1990',\n",
       "       'decadal2003', 'esmFixClim1', 'decadal1973', 'decadal1963',\n",
       "       'historical', 'esmrcp85', 'decadal1975', 'sstClim', 'decadal1996',\n",
       "       'decadal2005', 'sstClimAerosol', 'decadal2000', 'decadal1988',\n",
       "       'decadal2002', 'decadal1972', 'decadal1977', 'sstClimSulfate',\n",
       "       'piControl', 'decadal2008', 'noVolc1960', 'decadal1986',\n",
       "       'decadal1968', 'decadal1999', 'rcp26', 'decadal1967',\n",
       "       'decadal1992', 'decadal1990', 'decadal1978', 'amip4xCO2', 'amip',\n",
       "       'decadal1960', 'decadal1984', 'noVolc1985', 'decadal1976',\n",
       "       'esmFdbk1', 'sstClim4xCO2', 'decadal1980', 'decadal1995',\n",
       "       'decadal1987', 'decadal1970', 'decadal1989', 'decadal2004',\n",
       "       'decadal1979', 'decadal1998', 'rcp85', 'decadal1962', '1pctCO2',\n",
       "       'decadal2007', 'decadal1966', 'decadal1991', 'volcIn2010',\n",
       "       'decadal1985', 'decadal1994', 'aqua4K', 'decadal2006',\n",
       "       'aquaControl', 'decadal1981', 'abrupt4xCO2', 'esmControl',\n",
       "       'decadal1993', 'decadal1983', 'noVolc1980', 'decadal2010',\n",
       "       'decadal1971', 'decadal1974', 'decadal1969', 'amipFuture',\n",
       "       'decadal1997', 'rcp45', 'decadal1965', 'decadal2009',\n",
       "       'decadal1964', 'decs4e1997', 'decs4e1971', 'decs4e2015',\n",
       "       'decs4e1987', 'decs4e1985', 'decs4e2018', 'decs4e1998',\n",
       "       'decs4e1983', 'decs4e2001', 'decs4e2008', 'decs4e1975',\n",
       "       'decs4e1992', 'decs4e1969', 'decs4e1991', 'decs4e2002',\n",
       "       'decs4e1967', 'decs4e1979', 'decs4e1968', 'decs4e1972',\n",
       "       'decs4e2000', 'decs4e1966', 'decs4e1977', 'decs4e1963',\n",
       "       'decs4e2003', 'decs4e2011', 'decs4e1974', 'decs4e2013',\n",
       "       'decs4e1996', 'decs4e2010', 'decs4e2007', 'decs4e1989',\n",
       "       'decs4e2006', 'decs4e1999', 'decs4e1978', 'asORAoERAa',\n",
       "       'decs4e1982', 'decs4e1965', 'decs4e2009', 'decs4e2005',\n",
       "       'decs4e1976', 'decs4e1970', 'decs4e1990', 'decs4e1994',\n",
       "       'decs4e2017', 'decs4e1995', 'decs4e1984', 'decs4e1980',\n",
       "       'decs4e1981', 'decs4e2004', 'decs4e1973', 'decs4e1988',\n",
       "       'decs4e1964', 'decs4e1960', 'decs4e1986', 'decs4e2016',\n",
       "       'decs4e1993', 'decs4e2012', 'decs4e1961', 'decs4e1962',\n",
       "       'decs4e2014', 'hicast2002', 'hicast1967', 'hicast1983',\n",
       "       'hicast1982', 'hicast2015', 'dcppAassim', 'hicast1965',\n",
       "       'hicast2016', 'hicast1964', 'hicast1975', 'hicast1992',\n",
       "       'hicast1980', 'hicast1971', 'hicast1966', 'hicast1996',\n",
       "       'hicast1977', 'hicast1990', 'hicast1972', 'hicast1973',\n",
       "       'hicast1985', 'hicast2007', 'hicast1969', 'hicast2000',\n",
       "       'hicast1998', 'hicast1962', 'hicast1995', 'hicast2010',\n",
       "       'hicast2013', 'hicast2004', 'hicast1976', 'hicast1991',\n",
       "       'hicast1988', 'hicast1960', 'hicast1974', 'hicast2018',\n",
       "       'hicast1984', 'hicast2012', 'hicast2001', 'hicast2011',\n",
       "       'hicast1968', 'hicast1961', 'hicast2005', 'hicast1994',\n",
       "       'hicast1997', 'hicast1981', 'hicast1963', 'hicast1970',\n",
       "       'hicast1999', 'hicast1989', 'hicast2017', 'hicast2003',\n",
       "       'hicast2009', 'hicast2006', nan, 'hicast1993', 'hicast1986',\n",
       "       'hicast1979', 'hicast2014', 'hicast2008', 'hicast1987',\n",
       "       'hicast1978', 'dpes4e1968', 'MPI-ESM-LR', 'dpes4e2015',\n",
       "       'dpes4e1978', 'dpes4e1989', 'dpes4e1967', 'dpes4e1999',\n",
       "       'dpes4e2003', 'dpes4e1964', 'dpes4e1960', 'dpes4e1976',\n",
       "       'dpes4e1998', 'dpes4e1977', 'dpes4e1992', 'dpes4e2004',\n",
       "       'dpes4e1962', 'dpes4e1988', 'dpes4e1984', 'dpes4e2001',\n",
       "       'dpes4e2014', 'dpes4e1970', 'dpes4e1983', 'dpes4e1961',\n",
       "       'dpes4e2000', 'dpes4e2011', 'dpes4e1987', 'dpes4e2009',\n",
       "       'dpes4e1972', 'dpes4e1985', 'dpes4e2010', 'dpes4e1991',\n",
       "       'dpes4e1971', 'asORAaERAf', 'dpes4e1982', 'dpes4e1990',\n",
       "       'dpes4e1993', 'dpes4e2002', 'dpes4e1965', 'dpes4e2013',\n",
       "       'dpes4e2016', 'dpes4e2012', 'dpes4e1997', 'dpes4e1994',\n",
       "       'dpes4e1979', 'dpes4e2006', 'dpes4e1974', 'dpes4e2007',\n",
       "       'dpes4e2005', 'dpes4e1995', 'dpes4e1986', 'dpes4e1996',\n",
       "       'dpes4e1966', 'dpes4e2008', 'dpes4e1975', 'dpes4e1981',\n",
       "       'dpes4e1980', 'dpes4e1973', 'dpes4e1969', 'dpes4e1963',\n",
       "       'dcppA1960', 'dcppA1963', 'dcppA1961', 'dcppA1966', 'dcppA1969',\n",
       "       'dcppA1998', 'dcppA1991', 'dcppA2007', 'dcppA2006', 'dcppA1984',\n",
       "       'dcppA1962', 'dcppA2010', 'dcppA2018', 'dcppA2014', 'dcppA2012',\n",
       "       'dcppA1986', 'dcppA1975', 'dcppA2013', 'dcppA1978', 'dcppA2016',\n",
       "       'dcppA1989', 'dcppA1974', 'dcppA1990', 'dcppA2008', 'dcppA2002',\n",
       "       'dcppA1972', 'dcppA2005', 'dcppA1970', 'dcppA1982', 'dcppA2017',\n",
       "       'dcppA1999', 'dcppA1995', 'dcppA2001', 'dffs4e1980', 'dffg2e2012',\n",
       "       'dffs4e1991', 'dffg2e1964', 'dffg2e1986', 'dffs4e1973',\n",
       "       'dffg2e1968', 'dffs4e1965', 'dffs4e1976', 'dffg2e2007',\n",
       "       'dffg2e1982', 'dffs4e2009', 'dffg2e1976', 'dffs4e1970',\n",
       "       'dffg2e1963', 'dffg2e2003', 'dffg2e1996', 'dffg2e1990',\n",
       "       'dffs4e1984', 'dffs4e1997', 'dffg2e1988', 'dffg2e1995',\n",
       "       'dffg2e1975', 'dffg2e1993', 'dffg2e2005', 'dffg2e2004',\n",
       "       'dffs4e1964', 'dffs4e1990', 'dffg2e1960', 'dffg2e2011',\n",
       "       'dffs4e1963', 'dffg2e1999', 'dffs4e2000', 'dffs4e1978',\n",
       "       'dffg2e1984', 'dffg2e1974', 'dffs4e1968', 'dffg2e1971',\n",
       "       'dffs4e2008', 'dffg2e1972', 'dffg2e1994', 'dffs4e1961',\n",
       "       'dffs4e2004', 'dffg2e1980', 'dffg2e1989', 'dffs4e1962',\n",
       "       'dffs4e1977', 'dffs4e1995', 'dffs4e2003', 'dffg2e1973',\n",
       "       'dffg2e2009', 'dffg2e2010', 'dffg2e1997', 'dffs4e1974',\n",
       "       'dffg2e1981', 'dffg2e1992', 'dffg2e1962', 'dffg2e1987',\n",
       "       'dffs4e1986', 'dffg2e1969', 'dffs4e2006', 'dffs4e2010',\n",
       "       'dffg2e1985', 'asORAfERAf', 'dffs4e1982', 'dffg2e1970',\n",
       "       'dffs4e1969', 'dffs4e1967', 'dffs4e2005', 'dffg2e1967',\n",
       "       'dffs4e1988', 'dffs4e2013', 'dffs4e1999', 'dffs4e2011',\n",
       "       'dffs4e1989', 'dffg2e1979', 'dffs4e1966', 'dffg2e1998',\n",
       "       'dffg2e1983', 'dffg2e2002', 'dffs4e2002', 'dffs4e1960',\n",
       "       'dffs4e2012', 'dffg2e2008', 'dffg2e1977', 'dffs4e1996',\n",
       "       'dffg2e1978', 'asGECfERAf', 'dffs4e1987', 'dffg2e2013',\n",
       "       'dffs4e1994', 'dffs4e1971', 'dffs4e1972', 'dffs4e1979',\n",
       "       'dffs4e1985', 'dffs4e1975', 'dffg2e1991', 'dffg2e2006',\n",
       "       'dffg2e1961', 'dffs4e1983', 'dffg2e1966', 'dffs4e1992',\n",
       "       'dffs4e1998', 'dffs4e2007', 'dffs4e1981', 'dffs4e1993',\n",
       "       'dffg2e2001', 'dffs4e2001', 'dffg2e1965', 'dffg2e2000'],\n",
       "      dtype=object)"
      ]
     },
     "execution_count": 82,
     "metadata": {},
     "output_type": "execute_result"
    }
   ],
   "source": [
    "df.experiment.unique()"
   ]
  },
  {
   "cell_type": "code",
   "execution_count": 83,
   "metadata": {},
   "outputs": [
    {
     "data": {
      "text/html": [
       "<div>\n",
       "<style scoped>\n",
       "    .dataframe tbody tr th:only-of-type {\n",
       "        vertical-align: middle;\n",
       "    }\n",
       "\n",
       "    .dataframe tbody tr th {\n",
       "        vertical-align: top;\n",
       "    }\n",
       "\n",
       "    .dataframe thead th {\n",
       "        text-align: right;\n",
       "    }\n",
       "</style>\n",
       "<table border=\"1\" class=\"dataframe\">\n",
       "  <thead>\n",
       "    <tr style=\"text-align: right;\">\n",
       "      <th></th>\n",
       "      <th>path</th>\n",
       "      <th>variable</th>\n",
       "      <th>mip_table</th>\n",
       "      <th>model</th>\n",
       "      <th>experiment</th>\n",
       "      <th>ensemble_member</th>\n",
       "      <th>temporal_subset</th>\n",
       "      <th>frequency</th>\n",
       "      <th>modeling_realm</th>\n",
       "      <th>version</th>\n",
       "      <th>institute</th>\n",
       "      <th>product_id</th>\n",
       "      <th>generation</th>\n",
       "    </tr>\n",
       "  </thead>\n",
       "  <tbody>\n",
       "    <tr>\n",
       "      <td>0</td>\n",
       "      <td>/work/bmx828/miklip-ces/data4miklip/model/glob...</td>\n",
       "      <td>sfcWind</td>\n",
       "      <td>day</td>\n",
       "      <td>MPI-ESM-LR</td>\n",
       "      <td>decadal2001</td>\n",
       "      <td>r2i1p1</td>\n",
       "      <td>20020101-20111231</td>\n",
       "      <td>day</td>\n",
       "      <td>atmos</td>\n",
       "      <td>v20111122</td>\n",
       "      <td>MPI-M</td>\n",
       "      <td>output1</td>\n",
       "      <td>baseline0</td>\n",
       "    </tr>\n",
       "    <tr>\n",
       "      <td>1</td>\n",
       "      <td>/work/bmx828/miklip-ces/data4miklip/model/glob...</td>\n",
       "      <td>tas</td>\n",
       "      <td>day</td>\n",
       "      <td>MPI-ESM-LR</td>\n",
       "      <td>decadal2001</td>\n",
       "      <td>r2i1p1</td>\n",
       "      <td>20020101-20111231</td>\n",
       "      <td>day</td>\n",
       "      <td>atmos</td>\n",
       "      <td>v20111122</td>\n",
       "      <td>MPI-M</td>\n",
       "      <td>output1</td>\n",
       "      <td>baseline0</td>\n",
       "    </tr>\n",
       "    <tr>\n",
       "      <td>2</td>\n",
       "      <td>/work/bmx828/miklip-ces/data4miklip/model/glob...</td>\n",
       "      <td>psl</td>\n",
       "      <td>day</td>\n",
       "      <td>MPI-ESM-LR</td>\n",
       "      <td>decadal2001</td>\n",
       "      <td>r2i1p1</td>\n",
       "      <td>20020101-20111231</td>\n",
       "      <td>day</td>\n",
       "      <td>atmos</td>\n",
       "      <td>v20111122</td>\n",
       "      <td>MPI-M</td>\n",
       "      <td>output1</td>\n",
       "      <td>baseline0</td>\n",
       "    </tr>\n",
       "    <tr>\n",
       "      <td>3</td>\n",
       "      <td>/work/bmx828/miklip-ces/data4miklip/model/glob...</td>\n",
       "      <td>pr</td>\n",
       "      <td>day</td>\n",
       "      <td>MPI-ESM-LR</td>\n",
       "      <td>decadal2001</td>\n",
       "      <td>r2i1p1</td>\n",
       "      <td>20020101-20111231</td>\n",
       "      <td>day</td>\n",
       "      <td>atmos</td>\n",
       "      <td>v20111122</td>\n",
       "      <td>MPI-M</td>\n",
       "      <td>output1</td>\n",
       "      <td>baseline0</td>\n",
       "    </tr>\n",
       "    <tr>\n",
       "      <td>4</td>\n",
       "      <td>/work/bmx828/miklip-ces/data4miklip/model/glob...</td>\n",
       "      <td>tasmin</td>\n",
       "      <td>day</td>\n",
       "      <td>MPI-ESM-LR</td>\n",
       "      <td>decadal2001</td>\n",
       "      <td>r2i1p1</td>\n",
       "      <td>20020101-20111231</td>\n",
       "      <td>day</td>\n",
       "      <td>atmos</td>\n",
       "      <td>v20111122</td>\n",
       "      <td>MPI-M</td>\n",
       "      <td>output1</td>\n",
       "      <td>baseline0</td>\n",
       "    </tr>\n",
       "  </tbody>\n",
       "</table>\n",
       "</div>"
      ],
      "text/plain": [
       "                                                path variable mip_table  \\\n",
       "0  /work/bmx828/miklip-ces/data4miklip/model/glob...  sfcWind       day   \n",
       "1  /work/bmx828/miklip-ces/data4miklip/model/glob...      tas       day   \n",
       "2  /work/bmx828/miklip-ces/data4miklip/model/glob...      psl       day   \n",
       "3  /work/bmx828/miklip-ces/data4miklip/model/glob...       pr       day   \n",
       "4  /work/bmx828/miklip-ces/data4miklip/model/glob...   tasmin       day   \n",
       "\n",
       "        model   experiment ensemble_member    temporal_subset frequency  \\\n",
       "0  MPI-ESM-LR  decadal2001          r2i1p1  20020101-20111231       day   \n",
       "1  MPI-ESM-LR  decadal2001          r2i1p1  20020101-20111231       day   \n",
       "2  MPI-ESM-LR  decadal2001          r2i1p1  20020101-20111231       day   \n",
       "3  MPI-ESM-LR  decadal2001          r2i1p1  20020101-20111231       day   \n",
       "4  MPI-ESM-LR  decadal2001          r2i1p1  20020101-20111231       day   \n",
       "\n",
       "  modeling_realm    version institute product_id generation  \n",
       "0          atmos  v20111122     MPI-M    output1  baseline0  \n",
       "1          atmos  v20111122     MPI-M    output1  baseline0  \n",
       "2          atmos  v20111122     MPI-M    output1  baseline0  \n",
       "3          atmos  v20111122     MPI-M    output1  baseline0  \n",
       "4          atmos  v20111122     MPI-M    output1  baseline0  "
      ]
     },
     "execution_count": 83,
     "metadata": {},
     "output_type": "execute_result"
    }
   ],
   "source": [
    "df.head()"
   ]
  },
  {
   "cell_type": "markdown",
   "metadata": {},
   "source": [
    "## Pick the latest versions only"
   ]
  },
  {
   "cell_type": "code",
   "execution_count": 84,
   "metadata": {},
   "outputs": [],
   "source": [
    "grpby = list(set(df.columns.tolist()) - {'path', 'version'})\n",
    "groups = df.groupby(grpby)"
   ]
  },
  {
   "cell_type": "code",
   "execution_count": 85,
   "metadata": {},
   "outputs": [
    {
     "name": "stdout",
     "output_type": "stream",
     "text": [
      "CPU times: user 11min 50s, sys: 13.7 s, total: 12min 4s\n",
      "Wall time: 11min 48s\n"
     ]
    }
   ],
   "source": [
    "%%time\n",
    "idx_to_remove = []\n",
    "for _, group in groups:\n",
    "    if group.version.nunique() > 1:\n",
    "        idx_to_remove.extend(group.sort_values(by=['version'], ascending=False).index[1:].values.tolist())"
   ]
  },
  {
   "cell_type": "code",
   "execution_count": 86,
   "metadata": {},
   "outputs": [
    {
     "data": {
      "text/plain": [
       "86487"
      ]
     },
     "execution_count": 86,
     "metadata": {},
     "output_type": "execute_result"
    }
   ],
   "source": [
    "len(idx_to_remove)"
   ]
  },
  {
   "cell_type": "code",
   "execution_count": 87,
   "metadata": {},
   "outputs": [
    {
     "data": {
      "text/plain": [
       "1859769"
      ]
     },
     "execution_count": 87,
     "metadata": {},
     "output_type": "execute_result"
    }
   ],
   "source": [
    "len(df)"
   ]
  },
  {
   "cell_type": "code",
   "execution_count": 88,
   "metadata": {},
   "outputs": [
    {
     "data": {
      "text/plain": [
       "1773282"
      ]
     },
     "execution_count": 88,
     "metadata": {},
     "output_type": "execute_result"
    }
   ],
   "source": [
    "df1 = df.copy()\n",
    "df = df.drop(index=idx_to_remove)\n",
    "len(df)"
   ]
  },
  {
   "cell_type": "code",
   "execution_count": 91,
   "metadata": {},
   "outputs": [
    {
     "data": {
      "text/html": [
       "<div>\n",
       "<style scoped>\n",
       "    .dataframe tbody tr th:only-of-type {\n",
       "        vertical-align: middle;\n",
       "    }\n",
       "\n",
       "    .dataframe tbody tr th {\n",
       "        vertical-align: top;\n",
       "    }\n",
       "\n",
       "    .dataframe thead th {\n",
       "        text-align: right;\n",
       "    }\n",
       "</style>\n",
       "<table border=\"1\" class=\"dataframe\">\n",
       "  <thead>\n",
       "    <tr style=\"text-align: right;\">\n",
       "      <th></th>\n",
       "      <th>path</th>\n",
       "      <th>variable</th>\n",
       "      <th>mip_table</th>\n",
       "      <th>model</th>\n",
       "      <th>experiment</th>\n",
       "      <th>ensemble_member</th>\n",
       "      <th>temporal_subset</th>\n",
       "      <th>frequency</th>\n",
       "      <th>modeling_realm</th>\n",
       "      <th>version</th>\n",
       "      <th>institute</th>\n",
       "      <th>product_id</th>\n",
       "      <th>generation</th>\n",
       "    </tr>\n",
       "  </thead>\n",
       "  <tbody>\n",
       "    <tr>\n",
       "      <td>0</td>\n",
       "      <td>/work/bmx828/miklip-ces/data4miklip/model/glob...</td>\n",
       "      <td>sfcWind</td>\n",
       "      <td>day</td>\n",
       "      <td>MPI-ESM-LR</td>\n",
       "      <td>decadal2001</td>\n",
       "      <td>r2i1p1</td>\n",
       "      <td>20020101-20111231</td>\n",
       "      <td>day</td>\n",
       "      <td>atmos</td>\n",
       "      <td>v20111122</td>\n",
       "      <td>MPI-M</td>\n",
       "      <td>output1</td>\n",
       "      <td>baseline0</td>\n",
       "    </tr>\n",
       "    <tr>\n",
       "      <td>1</td>\n",
       "      <td>/work/bmx828/miklip-ces/data4miklip/model/glob...</td>\n",
       "      <td>tas</td>\n",
       "      <td>day</td>\n",
       "      <td>MPI-ESM-LR</td>\n",
       "      <td>decadal2001</td>\n",
       "      <td>r2i1p1</td>\n",
       "      <td>20020101-20111231</td>\n",
       "      <td>day</td>\n",
       "      <td>atmos</td>\n",
       "      <td>v20111122</td>\n",
       "      <td>MPI-M</td>\n",
       "      <td>output1</td>\n",
       "      <td>baseline0</td>\n",
       "    </tr>\n",
       "    <tr>\n",
       "      <td>2</td>\n",
       "      <td>/work/bmx828/miklip-ces/data4miklip/model/glob...</td>\n",
       "      <td>psl</td>\n",
       "      <td>day</td>\n",
       "      <td>MPI-ESM-LR</td>\n",
       "      <td>decadal2001</td>\n",
       "      <td>r2i1p1</td>\n",
       "      <td>20020101-20111231</td>\n",
       "      <td>day</td>\n",
       "      <td>atmos</td>\n",
       "      <td>v20111122</td>\n",
       "      <td>MPI-M</td>\n",
       "      <td>output1</td>\n",
       "      <td>baseline0</td>\n",
       "    </tr>\n",
       "    <tr>\n",
       "      <td>3</td>\n",
       "      <td>/work/bmx828/miklip-ces/data4miklip/model/glob...</td>\n",
       "      <td>pr</td>\n",
       "      <td>day</td>\n",
       "      <td>MPI-ESM-LR</td>\n",
       "      <td>decadal2001</td>\n",
       "      <td>r2i1p1</td>\n",
       "      <td>20020101-20111231</td>\n",
       "      <td>day</td>\n",
       "      <td>atmos</td>\n",
       "      <td>v20111122</td>\n",
       "      <td>MPI-M</td>\n",
       "      <td>output1</td>\n",
       "      <td>baseline0</td>\n",
       "    </tr>\n",
       "    <tr>\n",
       "      <td>4</td>\n",
       "      <td>/work/bmx828/miklip-ces/data4miklip/model/glob...</td>\n",
       "      <td>tasmin</td>\n",
       "      <td>day</td>\n",
       "      <td>MPI-ESM-LR</td>\n",
       "      <td>decadal2001</td>\n",
       "      <td>r2i1p1</td>\n",
       "      <td>20020101-20111231</td>\n",
       "      <td>day</td>\n",
       "      <td>atmos</td>\n",
       "      <td>v20111122</td>\n",
       "      <td>MPI-M</td>\n",
       "      <td>output1</td>\n",
       "      <td>baseline0</td>\n",
       "    </tr>\n",
       "  </tbody>\n",
       "</table>\n",
       "</div>"
      ],
      "text/plain": [
       "                                                path variable mip_table  \\\n",
       "0  /work/bmx828/miklip-ces/data4miklip/model/glob...  sfcWind       day   \n",
       "1  /work/bmx828/miklip-ces/data4miklip/model/glob...      tas       day   \n",
       "2  /work/bmx828/miklip-ces/data4miklip/model/glob...      psl       day   \n",
       "3  /work/bmx828/miklip-ces/data4miklip/model/glob...       pr       day   \n",
       "4  /work/bmx828/miklip-ces/data4miklip/model/glob...   tasmin       day   \n",
       "\n",
       "        model   experiment ensemble_member    temporal_subset frequency  \\\n",
       "0  MPI-ESM-LR  decadal2001          r2i1p1  20020101-20111231       day   \n",
       "1  MPI-ESM-LR  decadal2001          r2i1p1  20020101-20111231       day   \n",
       "2  MPI-ESM-LR  decadal2001          r2i1p1  20020101-20111231       day   \n",
       "3  MPI-ESM-LR  decadal2001          r2i1p1  20020101-20111231       day   \n",
       "4  MPI-ESM-LR  decadal2001          r2i1p1  20020101-20111231       day   \n",
       "\n",
       "  modeling_realm    version institute product_id generation  \n",
       "0          atmos  v20111122     MPI-M    output1  baseline0  \n",
       "1          atmos  v20111122     MPI-M    output1  baseline0  \n",
       "2          atmos  v20111122     MPI-M    output1  baseline0  \n",
       "3          atmos  v20111122     MPI-M    output1  baseline0  \n",
       "4          atmos  v20111122     MPI-M    output1  baseline0  "
      ]
     },
     "execution_count": 91,
     "metadata": {},
     "output_type": "execute_result"
    }
   ],
   "source": [
    "df.head()"
   ]
  },
  {
   "cell_type": "code",
   "execution_count": 95,
   "metadata": {},
   "outputs": [
    {
     "data": {
      "text/plain": [
       "(13,)"
      ]
     },
     "execution_count": 95,
     "metadata": {},
     "output_type": "execute_result"
    }
   ],
   "source": [
    "df.columns.shape"
   ]
  },
  {
   "cell_type": "code",
   "execution_count": 96,
   "metadata": {},
   "outputs": [
    {
     "data": {
      "text/html": [
       "<div>\n",
       "<style scoped>\n",
       "    .dataframe tbody tr th:only-of-type {\n",
       "        vertical-align: middle;\n",
       "    }\n",
       "\n",
       "    .dataframe tbody tr th {\n",
       "        vertical-align: top;\n",
       "    }\n",
       "\n",
       "    .dataframe thead th {\n",
       "        text-align: right;\n",
       "    }\n",
       "</style>\n",
       "<table border=\"1\" class=\"dataframe\">\n",
       "  <thead>\n",
       "    <tr style=\"text-align: right;\">\n",
       "      <th></th>\n",
       "      <th>generation</th>\n",
       "      <th>product_id</th>\n",
       "      <th>institute</th>\n",
       "      <th>model</th>\n",
       "      <th>experiment</th>\n",
       "      <th>frequency</th>\n",
       "      <th>modeling_realm</th>\n",
       "      <th>mip_table</th>\n",
       "      <th>ensemble_member</th>\n",
       "      <th>variable</th>\n",
       "      <th>temporal_subset</th>\n",
       "      <th>version</th>\n",
       "      <th>path</th>\n",
       "    </tr>\n",
       "  </thead>\n",
       "  <tbody>\n",
       "    <tr>\n",
       "      <td>0</td>\n",
       "      <td>baseline0</td>\n",
       "      <td>output1</td>\n",
       "      <td>MPI-M</td>\n",
       "      <td>MPI-ESM-LR</td>\n",
       "      <td>decadal2001</td>\n",
       "      <td>day</td>\n",
       "      <td>atmos</td>\n",
       "      <td>day</td>\n",
       "      <td>r2i1p1</td>\n",
       "      <td>sfcWind</td>\n",
       "      <td>20020101-20111231</td>\n",
       "      <td>v20111122</td>\n",
       "      <td>/work/bmx828/miklip-ces/data4miklip/model/glob...</td>\n",
       "    </tr>\n",
       "    <tr>\n",
       "      <td>1</td>\n",
       "      <td>baseline0</td>\n",
       "      <td>output1</td>\n",
       "      <td>MPI-M</td>\n",
       "      <td>MPI-ESM-LR</td>\n",
       "      <td>decadal2001</td>\n",
       "      <td>day</td>\n",
       "      <td>atmos</td>\n",
       "      <td>day</td>\n",
       "      <td>r2i1p1</td>\n",
       "      <td>tas</td>\n",
       "      <td>20020101-20111231</td>\n",
       "      <td>v20111122</td>\n",
       "      <td>/work/bmx828/miklip-ces/data4miklip/model/glob...</td>\n",
       "    </tr>\n",
       "    <tr>\n",
       "      <td>2</td>\n",
       "      <td>baseline0</td>\n",
       "      <td>output1</td>\n",
       "      <td>MPI-M</td>\n",
       "      <td>MPI-ESM-LR</td>\n",
       "      <td>decadal2001</td>\n",
       "      <td>day</td>\n",
       "      <td>atmos</td>\n",
       "      <td>day</td>\n",
       "      <td>r2i1p1</td>\n",
       "      <td>psl</td>\n",
       "      <td>20020101-20111231</td>\n",
       "      <td>v20111122</td>\n",
       "      <td>/work/bmx828/miklip-ces/data4miklip/model/glob...</td>\n",
       "    </tr>\n",
       "    <tr>\n",
       "      <td>3</td>\n",
       "      <td>baseline0</td>\n",
       "      <td>output1</td>\n",
       "      <td>MPI-M</td>\n",
       "      <td>MPI-ESM-LR</td>\n",
       "      <td>decadal2001</td>\n",
       "      <td>day</td>\n",
       "      <td>atmos</td>\n",
       "      <td>day</td>\n",
       "      <td>r2i1p1</td>\n",
       "      <td>pr</td>\n",
       "      <td>20020101-20111231</td>\n",
       "      <td>v20111122</td>\n",
       "      <td>/work/bmx828/miklip-ces/data4miklip/model/glob...</td>\n",
       "    </tr>\n",
       "    <tr>\n",
       "      <td>4</td>\n",
       "      <td>baseline0</td>\n",
       "      <td>output1</td>\n",
       "      <td>MPI-M</td>\n",
       "      <td>MPI-ESM-LR</td>\n",
       "      <td>decadal2001</td>\n",
       "      <td>day</td>\n",
       "      <td>atmos</td>\n",
       "      <td>day</td>\n",
       "      <td>r2i1p1</td>\n",
       "      <td>tasmin</td>\n",
       "      <td>20020101-20111231</td>\n",
       "      <td>v20111122</td>\n",
       "      <td>/work/bmx828/miklip-ces/data4miklip/model/glob...</td>\n",
       "    </tr>\n",
       "  </tbody>\n",
       "</table>\n",
       "</div>"
      ],
      "text/plain": [
       "  generation product_id institute       model   experiment frequency  \\\n",
       "0  baseline0    output1     MPI-M  MPI-ESM-LR  decadal2001       day   \n",
       "1  baseline0    output1     MPI-M  MPI-ESM-LR  decadal2001       day   \n",
       "2  baseline0    output1     MPI-M  MPI-ESM-LR  decadal2001       day   \n",
       "3  baseline0    output1     MPI-M  MPI-ESM-LR  decadal2001       day   \n",
       "4  baseline0    output1     MPI-M  MPI-ESM-LR  decadal2001       day   \n",
       "\n",
       "  modeling_realm mip_table ensemble_member variable    temporal_subset  \\\n",
       "0          atmos       day          r2i1p1  sfcWind  20020101-20111231   \n",
       "1          atmos       day          r2i1p1      tas  20020101-20111231   \n",
       "2          atmos       day          r2i1p1      psl  20020101-20111231   \n",
       "3          atmos       day          r2i1p1       pr  20020101-20111231   \n",
       "4          atmos       day          r2i1p1   tasmin  20020101-20111231   \n",
       "\n",
       "     version                                               path  \n",
       "0  v20111122  /work/bmx828/miklip-ces/data4miklip/model/glob...  \n",
       "1  v20111122  /work/bmx828/miklip-ces/data4miklip/model/glob...  \n",
       "2  v20111122  /work/bmx828/miklip-ces/data4miklip/model/glob...  \n",
       "3  v20111122  /work/bmx828/miklip-ces/data4miklip/model/glob...  \n",
       "4  v20111122  /work/bmx828/miklip-ces/data4miklip/model/glob...  "
      ]
     },
     "execution_count": 96,
     "metadata": {},
     "output_type": "execute_result"
    }
   ],
   "source": [
    "# Re-arange columns\n",
    "columns = [\"generation\",\"product_id\", \"institute\", \"model\", \"experiment\", \"frequency\", \n",
    "           \"modeling_realm\", \"mip_table\", \"ensemble_member\", \"variable\", \n",
    "           \"temporal_subset\", \"version\", \"path\"]\n",
    "df = df[columns]\n",
    "df.head()"
   ]
  },
  {
   "cell_type": "code",
   "execution_count": 97,
   "metadata": {},
   "outputs": [],
   "source": [
    "df.to_csv(\"../catalogs/mistral-miklip.csv.gz\", compression=\"gzip\", index=False)"
   ]
  },
  {
   "cell_type": "code",
   "execution_count": 99,
   "metadata": {},
   "outputs": [
    {
     "name": "stdout",
     "output_type": "stream",
     "text": [
      "total 78000\n",
      "drwxr-xr-x 2 m300524 mpioes     4096 Oct 23 16:52 .\n",
      "drwxr-xr-x 6 m300524 mpioes     4096 Oct 17 09:24 ..\n",
      "-rw-r--r-- 1 m300524 mpioes     2116 Oct 20 16:10 aws-cesm1-le.csv.gz\n",
      "-rw-r--r-- 1 m300524 mpioes  3189244 Oct 20 16:10 glade-cmip5.csv.gz\n",
      "-rw-r--r-- 1 m300524 mpioes     1818 Oct 23 16:52 glade-cmip5.json\n",
      "-rw-r--r-- 1 m300524 mpioes 13167014 Oct 20 16:10 glade-cmip6.csv.gz\n",
      "-rw-r--r-- 1 m300524 mpioes     2386 Oct 17 09:24 glade-cmip6.json\n",
      "-rw-r--r-- 1 m300524 mpioes 32141206 Oct 21 10:40 mistral-cmip5.csv.gz\n",
      "-rw-r--r-- 1 m300524 mpioes     1613 Oct 25 13:04 mistral-cmip5.json\n",
      "-rw-r--r-- 1 m300524 mpioes 16301936 Oct 17 10:52 mistral-cmip6.csv.gz\n",
      "-rw-r--r-- 1 m300524 mpioes     2379 Oct 17 09:31 mistral-cmip6.json\n",
      "-rw-r--r-- 1 m300524 mpioes 15031962 Oct 25 13:03 mistral-miklip.csv.gz\n",
      "-rw-r--r-- 1 m300524 mpioes     1711 Oct 25 13:03 mistral-miklip.json\n",
      "-rw-r--r-- 1 m300524 mpioes     2181 Oct 17 09:24 pangeo-cmip6.json\n"
     ]
    }
   ],
   "source": [
    "!ls -all ../catalogs/"
   ]
  },
  {
   "cell_type": "code",
   "execution_count": null,
   "metadata": {},
   "outputs": [],
   "source": []
  },
  {
   "cell_type": "code",
   "execution_count": 3,
   "metadata": {},
   "outputs": [],
   "source": [
    "df=pd.read_csv(\"../catalogs/mistral-miklip.csv.gz\")"
   ]
  },
  {
   "cell_type": "code",
   "execution_count": 14,
   "metadata": {},
   "outputs": [
    {
     "data": {
      "text/plain": [
       "array(['day', 'Amon', 'Omon', 'LImon', 'Lmon', 'aero', 'OImon', '6hrPlev',\n",
       "       'Oyr', 'fx', 'cfDay', 'cfOff', 'cfMon', 'cf3hr', 'cfSites', '3hr',\n",
       "       '6hrLev', 'Oclim'], dtype=object)"
      ]
     },
     "execution_count": 14,
     "metadata": {},
     "output_type": "execute_result"
    }
   ],
   "source": [
    "pd.read_csv(\"../catalogs/mistral-cmip5.csv.gz\").mip_table.unique()"
   ]
  },
  {
   "cell_type": "code",
   "execution_count": 19,
   "metadata": {},
   "outputs": [
    {
     "data": {
      "text/plain": [
       "array(['indopacific', 'global', 'atlantic', 'tntr'], dtype=object)"
      ]
     },
     "execution_count": 19,
     "metadata": {},
     "output_type": "execute_result"
    }
   ],
   "source": [
    "df.variable.unique()"
   ]
  },
  {
   "cell_type": "code",
   "execution_count": 17,
   "metadata": {},
   "outputs": [
    {
     "data": {
      "text/html": [
       "<div>\n",
       "<style scoped>\n",
       "    .dataframe tbody tr th:only-of-type {\n",
       "        vertical-align: middle;\n",
       "    }\n",
       "\n",
       "    .dataframe tbody tr th {\n",
       "        vertical-align: top;\n",
       "    }\n",
       "\n",
       "    .dataframe thead th {\n",
       "        text-align: right;\n",
       "    }\n",
       "</style>\n",
       "<table border=\"1\" class=\"dataframe\">\n",
       "  <thead>\n",
       "    <tr style=\"text-align: right;\">\n",
       "      <th></th>\n",
       "      <th>product_id</th>\n",
       "      <th>institute</th>\n",
       "      <th>model</th>\n",
       "      <th>experiment</th>\n",
       "      <th>frequency</th>\n",
       "      <th>modeling_realm</th>\n",
       "      <th>mip_table</th>\n",
       "      <th>ensemble_member</th>\n",
       "      <th>variable</th>\n",
       "      <th>temporal_subset</th>\n",
       "      <th>version</th>\n",
       "      <th>path</th>\n",
       "    </tr>\n",
       "  </thead>\n",
       "  <tbody>\n",
       "    <tr>\n",
       "      <td>2525</td>\n",
       "      <td>preop</td>\n",
       "      <td>output</td>\n",
       "      <td>Omon</td>\n",
       "      <td>MPI-ESM-LR</td>\n",
       "      <td>mon</td>\n",
       "      <td>ocean</td>\n",
       "      <td>moc</td>\n",
       "      <td>dpes4e1963</td>\n",
       "      <td>atlantic</td>\n",
       "      <td>r7i1p1_196311-197312</td>\n",
       "      <td>v0</td>\n",
       "      <td>/work/bmx828/miklip-ces/data4miklip/model/glob...</td>\n",
       "    </tr>\n",
       "  </tbody>\n",
       "</table>\n",
       "</div>"
      ],
      "text/plain": [
       "     product_id institute model  experiment frequency modeling_realm  \\\n",
       "2525      preop    output  Omon  MPI-ESM-LR       mon          ocean   \n",
       "\n",
       "     mip_table ensemble_member  variable       temporal_subset version  \\\n",
       "2525       moc      dpes4e1963  atlantic  r7i1p1_196311-197312      v0   \n",
       "\n",
       "                                                   path  \n",
       "2525  /work/bmx828/miklip-ces/data4miklip/model/glob...  "
      ]
     },
     "execution_count": 17,
     "metadata": {},
     "output_type": "execute_result"
    }
   ],
   "source": [
    "df.tail(1)"
   ]
  },
  {
   "cell_type": "code",
   "execution_count": null,
   "metadata": {},
   "outputs": [],
   "source": [
    "columns = [\"generation\", \"product_id\", \"mip_table\", \"model\", \"frequency\", \n",
    "           \"modeling_realm\", \"variable\", \"ensemble_member\", \"variable\", \n",
    "           \"temporal_subset\", \"version\", \"path\"]\n",
    "df = df[columns]\n",
    "df.head()"
   ]
  }
 ],
 "metadata": {
  "file_extension": ".py",
  "kernelspec": {
   "display_name": "Python [conda env:intake-esm-dev]",
   "language": "python",
   "name": "conda-env-intake-esm-dev-py"
  },
  "language_info": {
   "codemirror_mode": {
    "name": "ipython",
    "version": 3
   },
   "file_extension": ".py",
   "mimetype": "text/x-python",
   "name": "python",
   "nbconvert_exporter": "python",
   "pygments_lexer": "ipython3",
   "version": "3.7.3"
  },
  "mimetype": "text/x-python",
  "name": "python",
  "npconvert_exporter": "python",
  "pygments_lexer": "ipython3",
  "version": 3
 },
 "nbformat": 4,
 "nbformat_minor": 4
}
