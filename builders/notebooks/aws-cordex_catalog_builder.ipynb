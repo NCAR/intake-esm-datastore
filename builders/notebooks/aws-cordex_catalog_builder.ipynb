{
 "cells": [
  {
   "cell_type": "code",
   "execution_count": 1,
   "metadata": {},
   "outputs": [],
   "source": [
    "import pandas as pd\n",
    "from intake.source.utils import reverse_format\n",
    "from tqdm.auto import tqdm\n",
    "import s3fs \n",
    "\n",
    "import xarray as xr"
   ]
  },
  {
   "cell_type": "markdown",
   "metadata": {},
   "source": [
    "## Create AWS Filesystem Accessor"
   ]
  },
  {
   "cell_type": "code",
   "execution_count": 2,
   "metadata": {},
   "outputs": [],
   "source": [
    "root = \"s3://ncar-na-cordex\"\n",
    "fs = s3fs.S3FileSystem(anon=True)"
   ]
  },
  {
   "cell_type": "markdown",
   "metadata": {},
   "source": [
    "## Get list of available Zarr Stores"
   ]
  },
  {
   "cell_type": "code",
   "execution_count": 3,
   "metadata": {},
   "outputs": [],
   "source": [
    "def get_file_list(fs):\n",
    "    \n",
    "    # Remove 'catalogs' directory from top level listing to get frequencies\n",
    "    frequencies = [f for f in fs.ls(root) if 'catalogs' not in f]\n",
    "\n",
    "    stores = []\n",
    "    for frequency in tqdm(frequencies):\n",
    "        print(frequency)\n",
    "        objects = fs.glob(f\"{frequency}/*.zarr\")\n",
    "        stores.extend(objects)\n",
    "\n",
    "    return stores"
   ]
  },
  {
   "cell_type": "code",
   "execution_count": 4,
   "metadata": {},
   "outputs": [
    {
     "data": {
      "application/vnd.jupyter.widget-view+json": {
       "model_id": "6eb31be40b93444caffa778c0475dee6",
       "version_major": 2,
       "version_minor": 0
      },
      "text/plain": [
       "  0%|          | 0/1 [00:00<?, ?it/s]"
      ]
     },
     "metadata": {},
     "output_type": "display_data"
    },
    {
     "name": "stdout",
     "output_type": "stream",
     "text": [
      "ncar-na-cordex/day\n"
     ]
    },
    {
     "data": {
      "text/plain": [
       "['s3://ncar-na-cordex/day/hurs.eval.day.NAM-22i.raw.zarr',\n",
       " 's3://ncar-na-cordex/day/hurs.eval.day.NAM-44i.raw.zarr']"
      ]
     },
     "execution_count": 4,
     "metadata": {},
     "output_type": "execute_result"
    }
   ],
   "source": [
    "stores = get_file_list(fs)\n",
    "stores = [f\"s3://{store}\" for store in stores]\n",
    "stores[0:2]"
   ]
  },
  {
   "cell_type": "markdown",
   "metadata": {},
   "source": [
    "## Extract Relevant Store Metadata"
   ]
  },
  {
   "cell_type": "code",
   "execution_count": 5,
   "metadata": {},
   "outputs": [],
   "source": [
    "def get_store_attrs(store_path, fs):\n",
    "    \"\"\"Given a full s3 path to a store and a filesystem object, return the store's member_ids.\"\"\"\n",
    "    store = s3fs.S3Map(root=stores[0], s3=fs)\n",
    "\n",
    "    ds = xr.open_zarr(store)\n",
    "    metadata = ds.attrs\n",
    "    member_ids = ds.coords['member_id'].values\n",
    "    store_attrs = {'member_id': member_ids}\n",
    "    return store_attrs\n",
    "    "
   ]
  },
  {
   "cell_type": "code",
   "execution_count": 6,
   "metadata": {},
   "outputs": [
    {
     "data": {
      "text/plain": [
       "{'member_id': array(['ERA-Int.CRCM5-UQAM', 'ERA-Int.CRCM5-OUR', 'ERA-Int.RegCM4',\n",
       "        'ERA-Int.CanRCM4', 'ERA-Int.WRF'], dtype='<U18')}"
      ]
     },
     "execution_count": 6,
     "metadata": {},
     "output_type": "execute_result"
    }
   ],
   "source": [
    "ids = get_store_attrs(stores[0], fs)\n",
    "ids"
   ]
  },
  {
   "cell_type": "markdown",
   "metadata": {},
   "source": [
    "## Extract File Attributes of Zarr stores"
   ]
  },
  {
   "cell_type": "code",
   "execution_count": 8,
   "metadata": {},
   "outputs": [
    {
     "data": {
      "text/plain": [
       "'s3://ncar-na-cordex/day/hurs.eval.day.NAM-44i.raw.zarr'"
      ]
     },
     "execution_count": 8,
     "metadata": {},
     "output_type": "execute_result"
    }
   ],
   "source": [
    "stores[1]"
   ]
  },
  {
   "cell_type": "code",
   "execution_count": 9,
   "metadata": {},
   "outputs": [],
   "source": [
    "template = \"s3://ncar-na-cordex/{frequency}/{variable}.{scenario}.{frequency}.{grid}.{biascorrection}.zarr\"\n",
    "\n",
    "def get_attrs(store, fs=fs):\n",
    "    attrs = reverse_format(template, store)\n",
    "    attrs['path'] = store\n",
    "    \n",
    "    # Open the store and add internal metadata to attrs\n",
    "    m = get_store_attrs(store, fs)\n",
    "    attrs.update(m)\n",
    "    return attrs"
   ]
  },
  {
   "cell_type": "code",
   "execution_count": 10,
   "metadata": {},
   "outputs": [
    {
     "data": {
      "text/plain": [
       "{'frequency': 'day',\n",
       " 'variable': 'hurs',\n",
       " 'scenario': 'eval',\n",
       " 'grid': 'NAM-44i',\n",
       " 'biascorrection': 'raw',\n",
       " 'path': 's3://ncar-na-cordex/day/hurs.eval.day.NAM-44i.raw.zarr',\n",
       " 'member_id': array(['ERA-Int.CRCM5-UQAM', 'ERA-Int.CRCM5-OUR', 'ERA-Int.RegCM4',\n",
       "        'ERA-Int.CanRCM4', 'ERA-Int.WRF'], dtype='<U18')}"
      ]
     },
     "execution_count": 10,
     "metadata": {},
     "output_type": "execute_result"
    }
   ],
   "source": [
    "m = get_attrs(stores[1], fs)\n",
    "m"
   ]
  },
  {
   "cell_type": "code",
   "execution_count": 11,
   "metadata": {},
   "outputs": [
    {
     "name": "stdout",
     "output_type": "stream",
     "text": [
      "CPU times: user 18.4 s, sys: 518 ms, total: 18.9 s\n",
      "Wall time: 4min 27s\n"
     ]
    }
   ],
   "source": [
    "%%time\n",
    "entries = list(map(get_attrs, stores))"
   ]
  },
  {
   "cell_type": "code",
   "execution_count": 12,
   "metadata": {},
   "outputs": [
    {
     "data": {
      "text/plain": [
       "{'frequency': 'day',\n",
       " 'variable': 'hurs',\n",
       " 'scenario': 'eval',\n",
       " 'grid': 'NAM-22i',\n",
       " 'biascorrection': 'raw',\n",
       " 'path': 's3://ncar-na-cordex/day/hurs.eval.day.NAM-22i.raw.zarr',\n",
       " 'member_id': array(['ERA-Int.CRCM5-UQAM', 'ERA-Int.CRCM5-OUR', 'ERA-Int.RegCM4',\n",
       "        'ERA-Int.CanRCM4', 'ERA-Int.WRF'], dtype='<U18')}"
      ]
     },
     "execution_count": 12,
     "metadata": {},
     "output_type": "execute_result"
    }
   ],
   "source": [
    "entries[0]"
   ]
  },
  {
   "cell_type": "code",
   "execution_count": null,
   "metadata": {},
   "outputs": [],
   "source": []
  },
  {
   "cell_type": "markdown",
   "metadata": {},
   "source": [
    "## Create Pandas DataFrame and Save to CSV File"
   ]
  },
  {
   "cell_type": "code",
   "execution_count": 13,
   "metadata": {},
   "outputs": [
    {
     "data": {
      "text/html": [
       "<div>\n",
       "<style scoped>\n",
       "    .dataframe tbody tr th:only-of-type {\n",
       "        vertical-align: middle;\n",
       "    }\n",
       "\n",
       "    .dataframe tbody tr th {\n",
       "        vertical-align: top;\n",
       "    }\n",
       "\n",
       "    .dataframe thead th {\n",
       "        text-align: right;\n",
       "    }\n",
       "</style>\n",
       "<table border=\"1\" class=\"dataframe\">\n",
       "  <thead>\n",
       "    <tr style=\"text-align: right;\">\n",
       "      <th></th>\n",
       "      <th>frequency</th>\n",
       "      <th>variable</th>\n",
       "      <th>scenario</th>\n",
       "      <th>grid</th>\n",
       "      <th>biascorrection</th>\n",
       "      <th>path</th>\n",
       "      <th>member_id</th>\n",
       "    </tr>\n",
       "  </thead>\n",
       "  <tbody>\n",
       "    <tr>\n",
       "      <th>0</th>\n",
       "      <td>day</td>\n",
       "      <td>hurs</td>\n",
       "      <td>eval</td>\n",
       "      <td>NAM-22i</td>\n",
       "      <td>raw</td>\n",
       "      <td>s3://ncar-na-cordex/day/hurs.eval.day.NAM-22i....</td>\n",
       "      <td>ERA-Int.CRCM5-UQAM</td>\n",
       "    </tr>\n",
       "    <tr>\n",
       "      <th>1</th>\n",
       "      <td>day</td>\n",
       "      <td>hurs</td>\n",
       "      <td>eval</td>\n",
       "      <td>NAM-22i</td>\n",
       "      <td>raw</td>\n",
       "      <td>s3://ncar-na-cordex/day/hurs.eval.day.NAM-22i....</td>\n",
       "      <td>ERA-Int.CRCM5-OUR</td>\n",
       "    </tr>\n",
       "    <tr>\n",
       "      <th>2</th>\n",
       "      <td>day</td>\n",
       "      <td>hurs</td>\n",
       "      <td>eval</td>\n",
       "      <td>NAM-22i</td>\n",
       "      <td>raw</td>\n",
       "      <td>s3://ncar-na-cordex/day/hurs.eval.day.NAM-22i....</td>\n",
       "      <td>ERA-Int.RegCM4</td>\n",
       "    </tr>\n",
       "    <tr>\n",
       "      <th>3</th>\n",
       "      <td>day</td>\n",
       "      <td>hurs</td>\n",
       "      <td>eval</td>\n",
       "      <td>NAM-22i</td>\n",
       "      <td>raw</td>\n",
       "      <td>s3://ncar-na-cordex/day/hurs.eval.day.NAM-22i....</td>\n",
       "      <td>ERA-Int.CanRCM4</td>\n",
       "    </tr>\n",
       "    <tr>\n",
       "      <th>4</th>\n",
       "      <td>day</td>\n",
       "      <td>hurs</td>\n",
       "      <td>eval</td>\n",
       "      <td>NAM-22i</td>\n",
       "      <td>raw</td>\n",
       "      <td>s3://ncar-na-cordex/day/hurs.eval.day.NAM-22i....</td>\n",
       "      <td>ERA-Int.WRF</td>\n",
       "    </tr>\n",
       "  </tbody>\n",
       "</table>\n",
       "</div>"
      ],
      "text/plain": [
       "  frequency variable scenario     grid biascorrection  \\\n",
       "0       day     hurs     eval  NAM-22i            raw   \n",
       "1       day     hurs     eval  NAM-22i            raw   \n",
       "2       day     hurs     eval  NAM-22i            raw   \n",
       "3       day     hurs     eval  NAM-22i            raw   \n",
       "4       day     hurs     eval  NAM-22i            raw   \n",
       "\n",
       "                                                path           member_id  \n",
       "0  s3://ncar-na-cordex/day/hurs.eval.day.NAM-22i....  ERA-Int.CRCM5-UQAM  \n",
       "1  s3://ncar-na-cordex/day/hurs.eval.day.NAM-22i....   ERA-Int.CRCM5-OUR  \n",
       "2  s3://ncar-na-cordex/day/hurs.eval.day.NAM-22i....      ERA-Int.RegCM4  \n",
       "3  s3://ncar-na-cordex/day/hurs.eval.day.NAM-22i....     ERA-Int.CanRCM4  \n",
       "4  s3://ncar-na-cordex/day/hurs.eval.day.NAM-22i....         ERA-Int.WRF  "
      ]
     },
     "execution_count": 13,
     "metadata": {},
     "output_type": "execute_result"
    }
   ],
   "source": [
    "df = pd.DataFrame(entries)\n",
    "\n",
    "# Explode the member_id array to create one row per member_id value\n",
    "df = df.explode('member_id', ignore_index=True)\n",
    "\n",
    "df.head()"
   ]
  },
  {
   "cell_type": "code",
   "execution_count": 14,
   "metadata": {},
   "outputs": [
    {
     "data": {
      "text/html": [
       "<div>\n",
       "<style scoped>\n",
       "    .dataframe tbody tr th:only-of-type {\n",
       "        vertical-align: middle;\n",
       "    }\n",
       "\n",
       "    .dataframe tbody tr th {\n",
       "        vertical-align: top;\n",
       "    }\n",
       "\n",
       "    .dataframe thead th {\n",
       "        text-align: right;\n",
       "    }\n",
       "</style>\n",
       "<table border=\"1\" class=\"dataframe\">\n",
       "  <thead>\n",
       "    <tr style=\"text-align: right;\">\n",
       "      <th></th>\n",
       "      <th>frequency</th>\n",
       "      <th>variable</th>\n",
       "      <th>scenario</th>\n",
       "      <th>grid</th>\n",
       "      <th>biascorrection</th>\n",
       "      <th>path</th>\n",
       "      <th>member_id</th>\n",
       "      <th>rcm</th>\n",
       "      <th>gcm</th>\n",
       "    </tr>\n",
       "  </thead>\n",
       "  <tbody>\n",
       "    <tr>\n",
       "      <th>0</th>\n",
       "      <td>day</td>\n",
       "      <td>hurs</td>\n",
       "      <td>eval</td>\n",
       "      <td>NAM-22i</td>\n",
       "      <td>raw</td>\n",
       "      <td>s3://ncar-na-cordex/day/hurs.eval.day.NAM-22i....</td>\n",
       "      <td>ERA-Int.CRCM5-UQAM</td>\n",
       "      <td>ERA-Int</td>\n",
       "      <td>CRCM5-UQAM</td>\n",
       "    </tr>\n",
       "    <tr>\n",
       "      <th>1</th>\n",
       "      <td>day</td>\n",
       "      <td>hurs</td>\n",
       "      <td>eval</td>\n",
       "      <td>NAM-22i</td>\n",
       "      <td>raw</td>\n",
       "      <td>s3://ncar-na-cordex/day/hurs.eval.day.NAM-22i....</td>\n",
       "      <td>ERA-Int.CRCM5-OUR</td>\n",
       "      <td>ERA-Int</td>\n",
       "      <td>CRCM5-OUR</td>\n",
       "    </tr>\n",
       "    <tr>\n",
       "      <th>2</th>\n",
       "      <td>day</td>\n",
       "      <td>hurs</td>\n",
       "      <td>eval</td>\n",
       "      <td>NAM-22i</td>\n",
       "      <td>raw</td>\n",
       "      <td>s3://ncar-na-cordex/day/hurs.eval.day.NAM-22i....</td>\n",
       "      <td>ERA-Int.RegCM4</td>\n",
       "      <td>ERA-Int</td>\n",
       "      <td>RegCM4</td>\n",
       "    </tr>\n",
       "    <tr>\n",
       "      <th>3</th>\n",
       "      <td>day</td>\n",
       "      <td>hurs</td>\n",
       "      <td>eval</td>\n",
       "      <td>NAM-22i</td>\n",
       "      <td>raw</td>\n",
       "      <td>s3://ncar-na-cordex/day/hurs.eval.day.NAM-22i....</td>\n",
       "      <td>ERA-Int.CanRCM4</td>\n",
       "      <td>ERA-Int</td>\n",
       "      <td>CanRCM4</td>\n",
       "    </tr>\n",
       "    <tr>\n",
       "      <th>4</th>\n",
       "      <td>day</td>\n",
       "      <td>hurs</td>\n",
       "      <td>eval</td>\n",
       "      <td>NAM-22i</td>\n",
       "      <td>raw</td>\n",
       "      <td>s3://ncar-na-cordex/day/hurs.eval.day.NAM-22i....</td>\n",
       "      <td>ERA-Int.WRF</td>\n",
       "      <td>ERA-Int</td>\n",
       "      <td>WRF</td>\n",
       "    </tr>\n",
       "  </tbody>\n",
       "</table>\n",
       "</div>"
      ],
      "text/plain": [
       "  frequency variable scenario     grid biascorrection  \\\n",
       "0       day     hurs     eval  NAM-22i            raw   \n",
       "1       day     hurs     eval  NAM-22i            raw   \n",
       "2       day     hurs     eval  NAM-22i            raw   \n",
       "3       day     hurs     eval  NAM-22i            raw   \n",
       "4       day     hurs     eval  NAM-22i            raw   \n",
       "\n",
       "                                                path           member_id  \\\n",
       "0  s3://ncar-na-cordex/day/hurs.eval.day.NAM-22i....  ERA-Int.CRCM5-UQAM   \n",
       "1  s3://ncar-na-cordex/day/hurs.eval.day.NAM-22i....   ERA-Int.CRCM5-OUR   \n",
       "2  s3://ncar-na-cordex/day/hurs.eval.day.NAM-22i....      ERA-Int.RegCM4   \n",
       "3  s3://ncar-na-cordex/day/hurs.eval.day.NAM-22i....     ERA-Int.CanRCM4   \n",
       "4  s3://ncar-na-cordex/day/hurs.eval.day.NAM-22i....         ERA-Int.WRF   \n",
       "\n",
       "       rcm         gcm  \n",
       "0  ERA-Int  CRCM5-UQAM  \n",
       "1  ERA-Int   CRCM5-OUR  \n",
       "2  ERA-Int      RegCM4  \n",
       "3  ERA-Int     CanRCM4  \n",
       "4  ERA-Int         WRF  "
      ]
     },
     "execution_count": 14,
     "metadata": {},
     "output_type": "execute_result"
    }
   ],
   "source": [
    "# Create rcm, gcm columns from member_id\n",
    "df[['rcm', 'gcm']] = df.member_id.str.split(\".\", expand=True)\n",
    "df.head()"
   ]
  },
  {
   "cell_type": "code",
   "execution_count": 15,
   "metadata": {},
   "outputs": [
    {
     "data": {
      "text/html": [
       "<div>\n",
       "<style scoped>\n",
       "    .dataframe tbody tr th:only-of-type {\n",
       "        vertical-align: middle;\n",
       "    }\n",
       "\n",
       "    .dataframe tbody tr th {\n",
       "        vertical-align: top;\n",
       "    }\n",
       "\n",
       "    .dataframe thead th {\n",
       "        text-align: right;\n",
       "    }\n",
       "</style>\n",
       "<table border=\"1\" class=\"dataframe\">\n",
       "  <thead>\n",
       "    <tr style=\"text-align: right;\">\n",
       "      <th></th>\n",
       "      <th>frequency</th>\n",
       "      <th>variable</th>\n",
       "      <th>scenario</th>\n",
       "      <th>grid</th>\n",
       "      <th>biascorrection</th>\n",
       "      <th>member_id</th>\n",
       "      <th>rcm</th>\n",
       "      <th>gcm</th>\n",
       "      <th>path</th>\n",
       "    </tr>\n",
       "  </thead>\n",
       "  <tbody>\n",
       "    <tr>\n",
       "      <th>0</th>\n",
       "      <td>day</td>\n",
       "      <td>hurs</td>\n",
       "      <td>eval</td>\n",
       "      <td>NAM-22i</td>\n",
       "      <td>raw</td>\n",
       "      <td>ERA-Int.CRCM5-UQAM</td>\n",
       "      <td>ERA-Int</td>\n",
       "      <td>CRCM5-UQAM</td>\n",
       "      <td>s3://ncar-na-cordex/day/hurs.eval.day.NAM-22i....</td>\n",
       "    </tr>\n",
       "    <tr>\n",
       "      <th>1</th>\n",
       "      <td>day</td>\n",
       "      <td>hurs</td>\n",
       "      <td>eval</td>\n",
       "      <td>NAM-22i</td>\n",
       "      <td>raw</td>\n",
       "      <td>ERA-Int.CRCM5-OUR</td>\n",
       "      <td>ERA-Int</td>\n",
       "      <td>CRCM5-OUR</td>\n",
       "      <td>s3://ncar-na-cordex/day/hurs.eval.day.NAM-22i....</td>\n",
       "    </tr>\n",
       "    <tr>\n",
       "      <th>2</th>\n",
       "      <td>day</td>\n",
       "      <td>hurs</td>\n",
       "      <td>eval</td>\n",
       "      <td>NAM-22i</td>\n",
       "      <td>raw</td>\n",
       "      <td>ERA-Int.RegCM4</td>\n",
       "      <td>ERA-Int</td>\n",
       "      <td>RegCM4</td>\n",
       "      <td>s3://ncar-na-cordex/day/hurs.eval.day.NAM-22i....</td>\n",
       "    </tr>\n",
       "    <tr>\n",
       "      <th>3</th>\n",
       "      <td>day</td>\n",
       "      <td>hurs</td>\n",
       "      <td>eval</td>\n",
       "      <td>NAM-22i</td>\n",
       "      <td>raw</td>\n",
       "      <td>ERA-Int.CanRCM4</td>\n",
       "      <td>ERA-Int</td>\n",
       "      <td>CanRCM4</td>\n",
       "      <td>s3://ncar-na-cordex/day/hurs.eval.day.NAM-22i....</td>\n",
       "    </tr>\n",
       "    <tr>\n",
       "      <th>4</th>\n",
       "      <td>day</td>\n",
       "      <td>hurs</td>\n",
       "      <td>eval</td>\n",
       "      <td>NAM-22i</td>\n",
       "      <td>raw</td>\n",
       "      <td>ERA-Int.WRF</td>\n",
       "      <td>ERA-Int</td>\n",
       "      <td>WRF</td>\n",
       "      <td>s3://ncar-na-cordex/day/hurs.eval.day.NAM-22i....</td>\n",
       "    </tr>\n",
       "  </tbody>\n",
       "</table>\n",
       "</div>"
      ],
      "text/plain": [
       "  frequency variable scenario     grid biascorrection           member_id  \\\n",
       "0       day     hurs     eval  NAM-22i            raw  ERA-Int.CRCM5-UQAM   \n",
       "1       day     hurs     eval  NAM-22i            raw   ERA-Int.CRCM5-OUR   \n",
       "2       day     hurs     eval  NAM-22i            raw      ERA-Int.RegCM4   \n",
       "3       day     hurs     eval  NAM-22i            raw     ERA-Int.CanRCM4   \n",
       "4       day     hurs     eval  NAM-22i            raw         ERA-Int.WRF   \n",
       "\n",
       "       rcm         gcm                                               path  \n",
       "0  ERA-Int  CRCM5-UQAM  s3://ncar-na-cordex/day/hurs.eval.day.NAM-22i....  \n",
       "1  ERA-Int   CRCM5-OUR  s3://ncar-na-cordex/day/hurs.eval.day.NAM-22i....  \n",
       "2  ERA-Int      RegCM4  s3://ncar-na-cordex/day/hurs.eval.day.NAM-22i....  \n",
       "3  ERA-Int     CanRCM4  s3://ncar-na-cordex/day/hurs.eval.day.NAM-22i....  \n",
       "4  ERA-Int         WRF  s3://ncar-na-cordex/day/hurs.eval.day.NAM-22i....  "
      ]
     },
     "execution_count": 15,
     "metadata": {},
     "output_type": "execute_result"
    }
   ],
   "source": [
    "# Make 'path' the final column in the DataFrame\n",
    "path = df.pop('path')\n",
    "df['path'] = path\n",
    "\n",
    "df.head()"
   ]
  },
  {
   "cell_type": "code",
   "execution_count": 16,
   "metadata": {},
   "outputs": [
    {
     "data": {
      "text/plain": [
       "900"
      ]
     },
     "execution_count": 16,
     "metadata": {},
     "output_type": "execute_result"
    }
   ],
   "source": [
    "len(df)"
   ]
  },
  {
   "cell_type": "code",
   "execution_count": null,
   "metadata": {},
   "outputs": [],
   "source": [
    "df.to_csv(\"../../catalogs/aws-na-cordex.csv\", index=False)"
   ]
  },
  {
   "cell_type": "code",
   "execution_count": null,
   "metadata": {},
   "outputs": [],
   "source": []
  }
 ],
 "metadata": {
  "file_extension": ".py",
  "kernelspec": {
   "display_name": "Python 3",
   "language": "python",
   "name": "python3"
  },
  "language_info": {
   "codemirror_mode": {
    "name": "ipython",
    "version": 3
   },
   "file_extension": ".py",
   "mimetype": "text/x-python",
   "name": "python",
   "nbconvert_exporter": "python",
   "pygments_lexer": "ipython3",
   "version": "3.8.6"
  },
  "mimetype": "text/x-python",
  "name": "python",
  "npconvert_exporter": "python",
  "pygments_lexer": "ipython3",
  "version": 3
 },
 "nbformat": 4,
 "nbformat_minor": 4
}
