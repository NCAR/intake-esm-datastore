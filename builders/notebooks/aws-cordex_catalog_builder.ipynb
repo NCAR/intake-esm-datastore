{
 "cells": [
  {
   "cell_type": "code",
   "execution_count": 1,
   "metadata": {},
   "outputs": [],
   "source": [
    "import pandas as pd\n",
    "from intake.source.utils import reverse_format\n",
    "from tqdm.auto import tqdm\n",
    "import s3fs \n",
    "\n",
    "import xarray as xr"
   ]
  },
  {
   "cell_type": "markdown",
   "metadata": {},
   "source": [
    "## Create AWS Filesystem Accessor"
   ]
  },
  {
   "cell_type": "code",
   "execution_count": 2,
   "metadata": {},
   "outputs": [],
   "source": [
    "root = \"s3://ncar-na-cordex\"\n",
    "fs = s3fs.S3FileSystem(anon=True)"
   ]
  },
  {
   "cell_type": "markdown",
   "metadata": {},
   "source": [
    "## Get list of available Zarr Stores"
   ]
  },
  {
   "cell_type": "code",
   "execution_count": 3,
   "metadata": {},
   "outputs": [],
   "source": [
    "def get_file_list(fs):\n",
    "    \n",
    "    # Remove 'catalogs' directory from top level listing to get frequencies\n",
    "    frequencies = [f for f in fs.ls(root) if 'catalogs' not in f]\n",
    "\n",
    "    stores = []\n",
    "    for frequency in tqdm(frequencies):\n",
    "        print(frequency)\n",
    "        objects = fs.glob(f\"{frequency}/*.zarr\")\n",
    "        stores.extend(objects)\n",
    "\n",
    "    return stores"
   ]
  },
  {
   "cell_type": "code",
   "execution_count": 4,
   "metadata": {},
   "outputs": [
    {
     "data": {
      "application/vnd.jupyter.widget-view+json": {
       "model_id": "7d3fb83b1cd6451fa1860f4c1062c149",
       "version_major": 2,
       "version_minor": 0
      },
      "text/plain": [
       "  0%|          | 0/1 [00:00<?, ?it/s]"
      ]
     },
     "metadata": {},
     "output_type": "display_data"
    },
    {
     "name": "stdout",
     "output_type": "stream",
     "text": [
      "ncar-na-cordex/day\n"
     ]
    },
    {
     "data": {
      "text/plain": [
       "['s3://ncar-na-cordex/day/hurs.eval.day.NAM-22i.raw.zarr',\n",
       " 's3://ncar-na-cordex/day/hurs.eval.day.NAM-44i.raw.zarr',\n",
       " 's3://ncar-na-cordex/day/hurs.hist-rcp45.day.NAM-22i.mbcn-Daymet.zarr',\n",
       " 's3://ncar-na-cordex/day/hurs.hist-rcp45.day.NAM-22i.mbcn-gridMET.zarr',\n",
       " 's3://ncar-na-cordex/day/hurs.hist-rcp45.day.NAM-22i.raw.zarr',\n",
       " 's3://ncar-na-cordex/day/hurs.hist-rcp45.day.NAM-44i.mbcn-Daymet.zarr',\n",
       " 's3://ncar-na-cordex/day/hurs.hist-rcp45.day.NAM-44i.mbcn-gridMET.zarr',\n",
       " 's3://ncar-na-cordex/day/hurs.hist-rcp45.day.NAM-44i.raw.zarr',\n",
       " 's3://ncar-na-cordex/day/hurs.hist-rcp85.day.NAM-22i.mbcn-Daymet.zarr',\n",
       " 's3://ncar-na-cordex/day/hurs.hist-rcp85.day.NAM-22i.mbcn-gridMET.zarr']"
      ]
     },
     "execution_count": 4,
     "metadata": {},
     "output_type": "execute_result"
    }
   ],
   "source": [
    "stores = get_file_list(fs)\n",
    "stores = [f\"s3://{store}\" for store in stores]\n",
    "stores[0:10]"
   ]
  },
  {
   "cell_type": "markdown",
   "metadata": {},
   "source": [
    "## Extract Relevant Store Metadata"
   ]
  },
  {
   "cell_type": "code",
   "execution_count": 5,
   "metadata": {},
   "outputs": [],
   "source": [
    "def get_filename_attrs(store, fs=fs):\n",
    "\n",
    "    template = \"s3://ncar-na-cordex/{frequency}/{variable}.{scenario}.{frequency}.{grid}.{bias_correction}.zarr\"\n",
    "    attrs = reverse_format(template, store)\n",
    "    \n",
    "    # Obtain spatial_resolution from grid; validate correct string values.\n",
    "    if attrs['grid'] == 'NAM-22i':\n",
    "        attrs['spatial_resolution'] = '0.25 deg'\n",
    "    elif attrs['grid'] == 'NAM-44i':\n",
    "        attrs['spatial_resolution'] = '0.50 deg'\n",
    "    else:\n",
    "        value = attrs['grid']\n",
    "        print(f'Unknown grid value: {value}')\n",
    "        assert(False)\n",
    "\n",
    "    attrs['path'] = store\n",
    "    return attrs"
   ]
  },
  {
   "cell_type": "code",
   "execution_count": 6,
   "metadata": {},
   "outputs": [],
   "source": [
    "def get_store_attrs(store_path):\n",
    "    \"\"\"Given a full s3 path to a store and a filesystem object, return the store's full metadata.\"\"\"\n",
    "\n",
    "    metadata = get_filename_attrs(store_path)\n",
    "    var_name = metadata['variable']\n",
    "\n",
    "    store = s3fs.S3Map(root=store_path, s3=fs)\n",
    "    ds = xr.open_zarr(store)\n",
    "    attrs = {'long_name': ds[var_name].attrs['long_name'], \n",
    "             'units': ds[var_name].attrs['units'], \n",
    "             'standard_name': ds[var_name].attrs['standard_name'], \n",
    "             'spatial_domain': 'north_america', \n",
    "             'vertical_levels': 1, \n",
    "             'start_time': pd.to_datetime(str(ds['time'].values[0])).isoformat(), \n",
    "             'end_time': pd.to_datetime(str(ds['time'].values[-1])).isoformat(), \n",
    "             'na-cordex-models': list(ds.coords['member_id'].values)\n",
    "            }\n",
    "\n",
    "    attrs.update(metadata)\n",
    "    return attrs\n",
    "    "
   ]
  },
  {
   "cell_type": "code",
   "execution_count": 7,
   "metadata": {},
   "outputs": [
    {
     "data": {
      "text/plain": [
       "330"
      ]
     },
     "execution_count": 7,
     "metadata": {},
     "output_type": "execute_result"
    }
   ],
   "source": [
    "len(stores)"
   ]
  },
  {
   "cell_type": "code",
   "execution_count": null,
   "metadata": {},
   "outputs": [],
   "source": [
    "# Check validity with first few stores\n",
    "stores = stores[0:5]\n",
    "stores"
   ]
  },
  {
   "cell_type": "markdown",
   "metadata": {},
   "source": [
    "## Extract File Attributes of Zarr stores"
   ]
  },
  {
   "cell_type": "code",
   "execution_count": 8,
   "metadata": {},
   "outputs": [
    {
     "name": "stdout",
     "output_type": "stream",
     "text": [
      "CPU times: user 2min 50s, sys: 3.97 s, total: 2min 54s\n",
      "Wall time: 21min 10s\n"
     ]
    }
   ],
   "source": [
    "%%time\n",
    "entries = list(map(get_store_attrs, stores))"
   ]
  },
  {
   "cell_type": "code",
   "execution_count": 9,
   "metadata": {},
   "outputs": [
    {
     "data": {
      "text/plain": [
       "{'long_name': 'Northward Near-Surface Wind',\n",
       " 'units': 'm s-1',\n",
       " 'standard_name': 'northward_wind',\n",
       " 'spatial_domain': 'north_america',\n",
       " 'vertical_levels': 1,\n",
       " 'start_time': '2006-01-01T12:00:00',\n",
       " 'end_time': '2100-12-31T12:00:00',\n",
       " 'na-cordex-models': ['MPI-ESM-MR.CRCM5-UQAM',\n",
       "  'GEMatm-Can.CRCM5-UQAM',\n",
       "  'MPI-ESM-LR.CRCM5-UQAM',\n",
       "  'CanESM2.CRCM5-UQAM',\n",
       "  'GEMatm-MPI.CRCM5-UQAM',\n",
       "  'HadGEM2-ES.RegCM4',\n",
       "  'GFDL-ESM2M.RegCM4',\n",
       "  'MPI-ESM-LR.RegCM4',\n",
       "  'EC-EARTH.HIRHAM5',\n",
       "  'EC-EARTH.RCA4',\n",
       "  'CanESM2.RCA4',\n",
       "  'CanESM2.CanRCM4',\n",
       "  'HadGEM2-ES.WRF',\n",
       "  'GFDL-ESM2M.WRF',\n",
       "  'MPI-ESM-LR.WRF'],\n",
       " 'frequency': 'day',\n",
       " 'variable': 'vas',\n",
       " 'scenario': 'rcp85',\n",
       " 'grid': 'NAM-44i',\n",
       " 'bias_correction': 'raw',\n",
       " 'spatial_resolution': '0.50 deg',\n",
       " 'path': 's3://ncar-na-cordex/day/vas.rcp85.day.NAM-44i.raw.zarr'}"
      ]
     },
     "execution_count": 9,
     "metadata": {},
     "output_type": "execute_result"
    }
   ],
   "source": [
    "entries[-1]"
   ]
  },
  {
   "cell_type": "code",
   "execution_count": null,
   "metadata": {},
   "outputs": [],
   "source": []
  },
  {
   "cell_type": "markdown",
   "metadata": {},
   "source": [
    "## Create Pandas DataFrame and Save to CSV File"
   ]
  },
  {
   "cell_type": "code",
   "execution_count": 10,
   "metadata": {},
   "outputs": [
    {
     "data": {
      "text/html": [
       "<div>\n",
       "<style scoped>\n",
       "    .dataframe tbody tr th:only-of-type {\n",
       "        vertical-align: middle;\n",
       "    }\n",
       "\n",
       "    .dataframe tbody tr th {\n",
       "        vertical-align: top;\n",
       "    }\n",
       "\n",
       "    .dataframe thead th {\n",
       "        text-align: right;\n",
       "    }\n",
       "</style>\n",
       "<table border=\"1\" class=\"dataframe\">\n",
       "  <thead>\n",
       "    <tr style=\"text-align: right;\">\n",
       "      <th></th>\n",
       "      <th>variable</th>\n",
       "      <th>standard_name</th>\n",
       "      <th>long_name</th>\n",
       "      <th>units</th>\n",
       "      <th>spatial_domain</th>\n",
       "      <th>grid</th>\n",
       "      <th>spatial_resolution</th>\n",
       "      <th>scenario</th>\n",
       "      <th>start_time</th>\n",
       "      <th>end_time</th>\n",
       "      <th>frequency</th>\n",
       "      <th>vertical_levels</th>\n",
       "      <th>bias_correction</th>\n",
       "      <th>na-cordex-models</th>\n",
       "      <th>path</th>\n",
       "    </tr>\n",
       "  </thead>\n",
       "  <tbody>\n",
       "    <tr>\n",
       "      <th>0</th>\n",
       "      <td>hurs</td>\n",
       "      <td>relative_humidity</td>\n",
       "      <td>Near-Surface Relative Humidity</td>\n",
       "      <td>%</td>\n",
       "      <td>north_america</td>\n",
       "      <td>NAM-22i</td>\n",
       "      <td>0.25 deg</td>\n",
       "      <td>eval</td>\n",
       "      <td>1979-01-01T12:00:00</td>\n",
       "      <td>2014-12-31T12:00:00</td>\n",
       "      <td>day</td>\n",
       "      <td>1</td>\n",
       "      <td>raw</td>\n",
       "      <td>[ERA-Int.CRCM5-UQAM, ERA-Int.CRCM5-OUR, ERA-In...</td>\n",
       "      <td>s3://ncar-na-cordex/day/hurs.eval.day.NAM-22i....</td>\n",
       "    </tr>\n",
       "    <tr>\n",
       "      <th>1</th>\n",
       "      <td>hurs</td>\n",
       "      <td>relative_humidity</td>\n",
       "      <td>Near-Surface Relative Humidity</td>\n",
       "      <td>%</td>\n",
       "      <td>north_america</td>\n",
       "      <td>NAM-44i</td>\n",
       "      <td>0.50 deg</td>\n",
       "      <td>eval</td>\n",
       "      <td>1979-01-01T12:00:00</td>\n",
       "      <td>2015-12-31T12:00:00</td>\n",
       "      <td>day</td>\n",
       "      <td>1</td>\n",
       "      <td>raw</td>\n",
       "      <td>[ERA-Int.CRCM5-UQAM, ERA-Int.RegCM4, ERA-Int.H...</td>\n",
       "      <td>s3://ncar-na-cordex/day/hurs.eval.day.NAM-44i....</td>\n",
       "    </tr>\n",
       "    <tr>\n",
       "      <th>2</th>\n",
       "      <td>hurs</td>\n",
       "      <td>relative_humidity</td>\n",
       "      <td>Near-Surface Relative Humidity</td>\n",
       "      <td>%</td>\n",
       "      <td>north_america</td>\n",
       "      <td>NAM-22i</td>\n",
       "      <td>0.25 deg</td>\n",
       "      <td>hist-rcp45</td>\n",
       "      <td>1949-01-01T12:00:00</td>\n",
       "      <td>2100-12-31T12:00:00</td>\n",
       "      <td>day</td>\n",
       "      <td>1</td>\n",
       "      <td>mbcn-Daymet</td>\n",
       "      <td>[CanESM2.CanRCM4]</td>\n",
       "      <td>s3://ncar-na-cordex/day/hurs.hist-rcp45.day.NA...</td>\n",
       "    </tr>\n",
       "    <tr>\n",
       "      <th>3</th>\n",
       "      <td>hurs</td>\n",
       "      <td>relative_humidity</td>\n",
       "      <td>Near-Surface Relative Humidity</td>\n",
       "      <td>%</td>\n",
       "      <td>north_america</td>\n",
       "      <td>NAM-22i</td>\n",
       "      <td>0.25 deg</td>\n",
       "      <td>hist-rcp45</td>\n",
       "      <td>1949-01-01T12:00:00</td>\n",
       "      <td>2100-12-31T12:00:00</td>\n",
       "      <td>day</td>\n",
       "      <td>1</td>\n",
       "      <td>mbcn-gridMET</td>\n",
       "      <td>[CanESM2.CanRCM4]</td>\n",
       "      <td>s3://ncar-na-cordex/day/hurs.hist-rcp45.day.NA...</td>\n",
       "    </tr>\n",
       "    <tr>\n",
       "      <th>4</th>\n",
       "      <td>hurs</td>\n",
       "      <td>relative_humidity</td>\n",
       "      <td>Near-Surface Relative Humidity</td>\n",
       "      <td>%</td>\n",
       "      <td>north_america</td>\n",
       "      <td>NAM-22i</td>\n",
       "      <td>0.25 deg</td>\n",
       "      <td>hist-rcp45</td>\n",
       "      <td>1949-01-01T12:00:00</td>\n",
       "      <td>2100-12-31T12:00:00</td>\n",
       "      <td>day</td>\n",
       "      <td>1</td>\n",
       "      <td>raw</td>\n",
       "      <td>[GFDL-ESM2M.CRCM5-OUR, CanESM2.CRCM5-OUR, CanE...</td>\n",
       "      <td>s3://ncar-na-cordex/day/hurs.hist-rcp45.day.NA...</td>\n",
       "    </tr>\n",
       "  </tbody>\n",
       "</table>\n",
       "</div>"
      ],
      "text/plain": [
       "  variable      standard_name                       long_name units  \\\n",
       "0     hurs  relative_humidity  Near-Surface Relative Humidity     %   \n",
       "1     hurs  relative_humidity  Near-Surface Relative Humidity     %   \n",
       "2     hurs  relative_humidity  Near-Surface Relative Humidity     %   \n",
       "3     hurs  relative_humidity  Near-Surface Relative Humidity     %   \n",
       "4     hurs  relative_humidity  Near-Surface Relative Humidity     %   \n",
       "\n",
       "  spatial_domain     grid spatial_resolution    scenario           start_time  \\\n",
       "0  north_america  NAM-22i           0.25 deg        eval  1979-01-01T12:00:00   \n",
       "1  north_america  NAM-44i           0.50 deg        eval  1979-01-01T12:00:00   \n",
       "2  north_america  NAM-22i           0.25 deg  hist-rcp45  1949-01-01T12:00:00   \n",
       "3  north_america  NAM-22i           0.25 deg  hist-rcp45  1949-01-01T12:00:00   \n",
       "4  north_america  NAM-22i           0.25 deg  hist-rcp45  1949-01-01T12:00:00   \n",
       "\n",
       "              end_time frequency  vertical_levels bias_correction  \\\n",
       "0  2014-12-31T12:00:00       day                1             raw   \n",
       "1  2015-12-31T12:00:00       day                1             raw   \n",
       "2  2100-12-31T12:00:00       day                1     mbcn-Daymet   \n",
       "3  2100-12-31T12:00:00       day                1    mbcn-gridMET   \n",
       "4  2100-12-31T12:00:00       day                1             raw   \n",
       "\n",
       "                                    na-cordex-models  \\\n",
       "0  [ERA-Int.CRCM5-UQAM, ERA-Int.CRCM5-OUR, ERA-In...   \n",
       "1  [ERA-Int.CRCM5-UQAM, ERA-Int.RegCM4, ERA-Int.H...   \n",
       "2                                  [CanESM2.CanRCM4]   \n",
       "3                                  [CanESM2.CanRCM4]   \n",
       "4  [GFDL-ESM2M.CRCM5-OUR, CanESM2.CRCM5-OUR, CanE...   \n",
       "\n",
       "                                                path  \n",
       "0  s3://ncar-na-cordex/day/hurs.eval.day.NAM-22i....  \n",
       "1  s3://ncar-na-cordex/day/hurs.eval.day.NAM-44i....  \n",
       "2  s3://ncar-na-cordex/day/hurs.hist-rcp45.day.NA...  \n",
       "3  s3://ncar-na-cordex/day/hurs.hist-rcp45.day.NA...  \n",
       "4  s3://ncar-na-cordex/day/hurs.hist-rcp45.day.NA...  "
      ]
     },
     "execution_count": 10,
     "metadata": {},
     "output_type": "execute_result"
    }
   ],
   "source": [
    "df = pd.DataFrame(entries)\n",
    "\n",
    "# Reorder catalog columns\n",
    "catalog_order = ['variable', 'standard_name', 'long_name', 'units', 'spatial_domain', \n",
    "                 'grid', 'spatial_resolution', 'scenario', 'start_time', 'end_time',\n",
    "                 'frequency', 'vertical_levels', 'bias_correction', 'na-cordex-models',\n",
    "                 'path']\n",
    "df = df.reindex(columns=catalog_order)\n",
    "\n",
    "df.head()"
   ]
  },
  {
   "cell_type": "code",
   "execution_count": 11,
   "metadata": {},
   "outputs": [],
   "source": [
    "# Make 'path' the final column in the DataFrame\n",
    "#path = df.pop('path')\n",
    "#df['path'] = path\n",
    "\n",
    "#df.head()"
   ]
  },
  {
   "cell_type": "code",
   "execution_count": 12,
   "metadata": {},
   "outputs": [
    {
     "data": {
      "text/plain": [
       "330"
      ]
     },
     "execution_count": 12,
     "metadata": {},
     "output_type": "execute_result"
    }
   ],
   "source": [
    "len(df)"
   ]
  },
  {
   "cell_type": "code",
   "execution_count": 13,
   "metadata": {},
   "outputs": [],
   "source": [
    "df.to_csv(\"../../catalogs/aws-na-cordex.csv\", index=False)"
   ]
  },
  {
   "cell_type": "code",
   "execution_count": null,
   "metadata": {},
   "outputs": [],
   "source": []
  }
 ],
 "metadata": {
  "file_extension": ".py",
  "kernelspec": {
   "display_name": "Python 3",
   "language": "python",
   "name": "python3"
  },
  "language_info": {
   "codemirror_mode": {
    "name": "ipython",
    "version": 3
   },
   "file_extension": ".py",
   "mimetype": "text/x-python",
   "name": "python",
   "nbconvert_exporter": "python",
   "pygments_lexer": "ipython3",
   "version": "3.9.2"
  },
  "mimetype": "text/x-python",
  "name": "python",
  "npconvert_exporter": "python",
  "pygments_lexer": "ipython3",
  "version": 3
 },
 "nbformat": 4,
 "nbformat_minor": 4
}
