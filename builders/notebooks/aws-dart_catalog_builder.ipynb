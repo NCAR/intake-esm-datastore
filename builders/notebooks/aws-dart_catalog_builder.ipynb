{
 "cells": [
  {
   "cell_type": "markdown",
   "metadata": {},
   "source": [
    "# Create DART Reanalysis Intake Catalog for AWS or Stratus S3 Bucket"
   ]
  },
  {
   "cell_type": "code",
   "execution_count": 16,
   "metadata": {},
   "outputs": [],
   "source": [
    "import pandas as pd\n",
    "from intake.source.utils import reverse_format\n",
    "from tqdm.auto import tqdm\n",
    "#import s3fs \n",
    "\n",
    "import os\n",
    "from pathlib import Path\n",
    "\n",
    "import xarray as xr"
   ]
  },
  {
   "cell_type": "markdown",
   "metadata": {},
   "source": [
    "## Define a Few Metadata Concepts"
   ]
  },
  {
   "cell_type": "code",
   "execution_count": 52,
   "metadata": {},
   "outputs": [],
   "source": [
    "variables = {'atm': {'PS', 'Q', 'T', 'US', 'VS', 'CLDLIQ', 'CLDICE'},\n",
    "             'lnd': {'ER', 'HR', 'TSA', 'EFLX_LH_TOT'}}\n",
    "\n",
    "frequencies = {'atm': 'weekly', \n",
    "               'lnd': 'hourly6'}"
   ]
  },
  {
   "cell_type": "markdown",
   "metadata": {
    "tags": []
   },
   "source": [
    "## Define Zarr store location for pulling metadata values."
   ]
  },
  {
   "cell_type": "code",
   "execution_count": 8,
   "metadata": {},
   "outputs": [],
   "source": [
    "s3_root = \"s3://ncar-dart-reanalysis/\"\n",
    "\n",
    "# Use if pulling Zarr metadata from Glade\n",
    "zarr_dir = Path('/glade/scratch/bonnland/DART/ds345.0/zarr-publish/')\n",
    "\n",
    "# Use if pulling Zarr metadata from AWS\n",
    "#fs = s3fs.S3FileSystem(anon=True)"
   ]
  },
  {
   "cell_type": "markdown",
   "metadata": {},
   "source": [
    "## Get list of available Zarr Stores"
   ]
  },
  {
   "cell_type": "code",
   "execution_count": 19,
   "metadata": {},
   "outputs": [],
   "source": [
    "def get_file_list(store_path):\n",
    "    \n",
    "    store_path_str = store_path.as_posix()\n",
    "    \n",
    "    # Remove 'catalogs' directory from top level listing to get frequencies\n",
    "    frequencies = [f for f in os.listdir(store_path_str) if 'catalogs' not in f]\n",
    "\n",
    "    stores = []\n",
    "    for frequency in tqdm(frequencies):\n",
    "        print(frequency)\n",
    "        objects = [os.path.relpath(x, start=store_path_str) for x in store_path.glob(f\"{frequency}/*.zarr\")]\n",
    "        stores.extend(objects)\n",
    "\n",
    "    return stores"
   ]
  },
  {
   "cell_type": "code",
   "execution_count": 34,
   "metadata": {},
   "outputs": [
    {
     "data": {
      "application/vnd.jupyter.widget-view+json": {
       "model_id": "9215be878ea647ab94fa3eb6adb5d877",
       "version_major": 2,
       "version_minor": 0
      },
      "text/plain": [
       "  0%|          | 0/2 [00:00<?, ?it/s]"
      ]
     },
     "metadata": {},
     "output_type": "display_data"
    },
    {
     "name": "stdout",
     "output_type": "stream",
     "text": [
      "hourly6\n",
      "weekly\n"
     ]
    },
    {
     "data": {
      "text/plain": [
       "['/glade/scratch/bonnland/DART/ds345.0/zarr-publish/hourly6/HR.zarr',\n",
       " '/glade/scratch/bonnland/DART/ds345.0/zarr-publish/hourly6/TSA.zarr',\n",
       " '/glade/scratch/bonnland/DART/ds345.0/zarr-publish/hourly6/EFLX_LH_TOT.zarr',\n",
       " '/glade/scratch/bonnland/DART/ds345.0/zarr-publish/hourly6/ER.zarr',\n",
       " '/glade/scratch/bonnland/DART/ds345.0/zarr-publish/weekly/VS.zarr',\n",
       " '/glade/scratch/bonnland/DART/ds345.0/zarr-publish/weekly/PS.zarr',\n",
       " '/glade/scratch/bonnland/DART/ds345.0/zarr-publish/weekly/Q.zarr',\n",
       " '/glade/scratch/bonnland/DART/ds345.0/zarr-publish/weekly/US.zarr',\n",
       " '/glade/scratch/bonnland/DART/ds345.0/zarr-publish/weekly/CLDICE.zarr',\n",
       " '/glade/scratch/bonnland/DART/ds345.0/zarr-publish/weekly/T.zarr',\n",
       " '/glade/scratch/bonnland/DART/ds345.0/zarr-publish/weekly/CLDLIQ.zarr']"
      ]
     },
     "execution_count": 34,
     "metadata": {},
     "output_type": "execute_result"
    }
   ],
   "source": [
    "#stores = get_file_list(fs)\n",
    "stores = get_file_list(zarr_dir)\n",
    "\n",
    "stores = [f\"{zarr_dir}/{store}\" for store in stores ]\n",
    "#stores = [f\"{s3_root}{store}\" for store in stores]\n",
    "stores"
   ]
  },
  {
   "cell_type": "markdown",
   "metadata": {},
   "source": [
    "## Extract Relevant Store Metadata"
   ]
  },
  {
   "cell_type": "code",
   "execution_count": 42,
   "metadata": {},
   "outputs": [],
   "source": [
    "#def get_filename_attrs(store, fs=fs):\n",
    "def get_filename_attrs(store):\n",
    "\n",
    "    relative_path = os.path.relpath(store, start=zarr_dir)\n",
    "    print(relative_path)\n",
    "    template = \"{frequency}/{variable}.zarr\"\n",
    "    attrs = reverse_format(template, relative_path)\n",
    "    \n",
    "    # Obtain spatial_resolution from grid; validate correct string values.\n",
    "    #     if attrs['grid'] == 'NAM-22i':\n",
    "    #         attrs['spatial_resolution'] = '0.25 deg'\n",
    "    #     elif attrs['grid'] == 'NAM-44i':\n",
    "    #         attrs['spatial_resolution'] = '0.50 deg'\n",
    "    #     else:\n",
    "    #         value = attrs['grid']\n",
    "    #         print(f'Unknown grid value: {value}')\n",
    "    #         assert(False)\n",
    "\n",
    "    attrs['path'] = f'{s3_root}' + relative_path\n",
    "    return attrs"
   ]
  },
  {
   "cell_type": "code",
   "execution_count": 53,
   "metadata": {},
   "outputs": [],
   "source": [
    "def get_store_attrs(store_path):\n",
    "    \"\"\"Given a full s3 path to a store and a filesystem object, return the store's full metadata.\"\"\"\n",
    "\n",
    "    metadata = get_filename_attrs(store_path)\n",
    "    var_name = metadata['variable']\n",
    "\n",
    "    #store = s3fs.S3Map(root=store_path, s3=fs)\n",
    "    #ds = xr.open_zarr(store)\n",
    "\n",
    "    ds = xr.open_zarr(store_path)\n",
    "    \n",
    "    attrs = {'long_name': ds[var_name].attrs['long_name'], \n",
    "             'units': ds[var_name].attrs['units'], \n",
    "             'component': 'atm' if var_name in variables['atm'] else 'lnd',\n",
    "             'standard_name': 'unspecified', \n",
    "             'spatial_domain': 'global', \n",
    "             'vertical_levels': 1 if ('lev' not in ds[var_name].dims) else ds.sizes['lev'], \n",
    "             'start_time': pd.to_datetime(str(ds['time'].values[0])).isoformat(), \n",
    "             'end_time': pd.to_datetime(str(ds['time'].values[-1])).isoformat(), \n",
    "            }\n",
    "\n",
    "    attrs.update(metadata)\n",
    "    return attrs\n",
    "    "
   ]
  },
  {
   "cell_type": "code",
   "execution_count": 44,
   "metadata": {},
   "outputs": [
    {
     "data": {
      "text/plain": [
       "11"
      ]
     },
     "execution_count": 44,
     "metadata": {},
     "output_type": "execute_result"
    }
   ],
   "source": [
    "len(stores)"
   ]
  },
  {
   "cell_type": "code",
   "execution_count": 45,
   "metadata": {},
   "outputs": [
    {
     "data": {
      "text/plain": [
       "['/glade/scratch/bonnland/DART/ds345.0/zarr-publish/hourly6/HR.zarr',\n",
       " '/glade/scratch/bonnland/DART/ds345.0/zarr-publish/hourly6/TSA.zarr',\n",
       " '/glade/scratch/bonnland/DART/ds345.0/zarr-publish/hourly6/EFLX_LH_TOT.zarr',\n",
       " '/glade/scratch/bonnland/DART/ds345.0/zarr-publish/hourly6/ER.zarr',\n",
       " '/glade/scratch/bonnland/DART/ds345.0/zarr-publish/weekly/VS.zarr',\n",
       " '/glade/scratch/bonnland/DART/ds345.0/zarr-publish/weekly/PS.zarr',\n",
       " '/glade/scratch/bonnland/DART/ds345.0/zarr-publish/weekly/Q.zarr',\n",
       " '/glade/scratch/bonnland/DART/ds345.0/zarr-publish/weekly/US.zarr',\n",
       " '/glade/scratch/bonnland/DART/ds345.0/zarr-publish/weekly/CLDICE.zarr',\n",
       " '/glade/scratch/bonnland/DART/ds345.0/zarr-publish/weekly/T.zarr',\n",
       " '/glade/scratch/bonnland/DART/ds345.0/zarr-publish/weekly/CLDLIQ.zarr']"
      ]
     },
     "execution_count": 45,
     "metadata": {},
     "output_type": "execute_result"
    }
   ],
   "source": [
    "# Check validity with first few stores\n",
    "#stores = stores[0:5]\n",
    "stores"
   ]
  },
  {
   "cell_type": "markdown",
   "metadata": {
    "tags": []
   },
   "source": [
    "## Extract File Attributes of Zarr stores"
   ]
  },
  {
   "cell_type": "code",
   "execution_count": 54,
   "metadata": {
    "tags": []
   },
   "outputs": [
    {
     "name": "stdout",
     "output_type": "stream",
     "text": [
      "hourly6/HR.zarr\n",
      "hourly6/TSA.zarr\n",
      "hourly6/EFLX_LH_TOT.zarr\n",
      "hourly6/ER.zarr\n",
      "weekly/VS.zarr\n",
      "weekly/PS.zarr\n",
      "weekly/Q.zarr\n",
      "weekly/US.zarr\n",
      "weekly/CLDICE.zarr\n",
      "weekly/T.zarr\n",
      "weekly/CLDLIQ.zarr\n",
      "CPU times: user 162 ms, sys: 31.4 ms, total: 193 ms\n",
      "Wall time: 257 ms\n"
     ]
    }
   ],
   "source": [
    "%%time\n",
    "entries = list(map(get_store_attrs, stores))"
   ]
  },
  {
   "cell_type": "code",
   "execution_count": 55,
   "metadata": {},
   "outputs": [
    {
     "data": {
      "text/plain": [
       "{'long_name': 'Grid box averaged cloud liquid amount',\n",
       " 'units': 'kg/kg',\n",
       " 'component': 'atm',\n",
       " 'standard_name': 'unspecified',\n",
       " 'spatial_domain': 'global',\n",
       " 'vertical_levels': 32,\n",
       " 'start_time': '2011-01-03T00:00:00',\n",
       " 'end_time': '2019-12-30T00:00:00',\n",
       " 'frequency': 'weekly',\n",
       " 'variable': 'CLDLIQ',\n",
       " 'path': 's3://ncar-dart-reanalysis/weekly/CLDLIQ.zarr'}"
      ]
     },
     "execution_count": 55,
     "metadata": {},
     "output_type": "execute_result"
    }
   ],
   "source": [
    "entries[-1]"
   ]
  },
  {
   "cell_type": "code",
   "execution_count": null,
   "metadata": {},
   "outputs": [],
   "source": []
  },
  {
   "cell_type": "markdown",
   "metadata": {},
   "source": [
    "## Create Pandas DataFrame and Save to CSV File"
   ]
  },
  {
   "cell_type": "code",
   "execution_count": 56,
   "metadata": {},
   "outputs": [
    {
     "data": {
      "text/html": [
       "<div>\n",
       "<style scoped>\n",
       "    .dataframe tbody tr th:only-of-type {\n",
       "        vertical-align: middle;\n",
       "    }\n",
       "\n",
       "    .dataframe tbody tr th {\n",
       "        vertical-align: top;\n",
       "    }\n",
       "\n",
       "    .dataframe thead th {\n",
       "        text-align: right;\n",
       "    }\n",
       "</style>\n",
       "<table border=\"1\" class=\"dataframe\">\n",
       "  <thead>\n",
       "    <tr style=\"text-align: right;\">\n",
       "      <th></th>\n",
       "      <th>variable</th>\n",
       "      <th>long_name</th>\n",
       "      <th>units</th>\n",
       "      <th>standard_name</th>\n",
       "      <th>vertical_levels</th>\n",
       "      <th>component</th>\n",
       "      <th>spatial_domain</th>\n",
       "      <th>start_time</th>\n",
       "      <th>end_time</th>\n",
       "      <th>frequency</th>\n",
       "      <th>path</th>\n",
       "    </tr>\n",
       "  </thead>\n",
       "  <tbody>\n",
       "    <tr>\n",
       "      <th>0</th>\n",
       "      <td>HR</td>\n",
       "      <td>total heterotrophic respiration</td>\n",
       "      <td>gC/m^2/s</td>\n",
       "      <td>unspecified</td>\n",
       "      <td>1</td>\n",
       "      <td>lnd</td>\n",
       "      <td>global</td>\n",
       "      <td>2012-01-01T06:00:00</td>\n",
       "      <td>2019-12-31T18:00:00</td>\n",
       "      <td>hourly6</td>\n",
       "      <td>s3://ncar-dart-reanalysis/hourly6/HR.zarr</td>\n",
       "    </tr>\n",
       "    <tr>\n",
       "      <th>1</th>\n",
       "      <td>TSA</td>\n",
       "      <td>2m air temperature</td>\n",
       "      <td>K</td>\n",
       "      <td>unspecified</td>\n",
       "      <td>1</td>\n",
       "      <td>lnd</td>\n",
       "      <td>global</td>\n",
       "      <td>2012-01-01T06:00:00</td>\n",
       "      <td>2019-12-31T18:00:00</td>\n",
       "      <td>hourly6</td>\n",
       "      <td>s3://ncar-dart-reanalysis/hourly6/TSA.zarr</td>\n",
       "    </tr>\n",
       "    <tr>\n",
       "      <th>2</th>\n",
       "      <td>EFLX_LH_TOT</td>\n",
       "      <td>total latent heat flux [+ to atm]</td>\n",
       "      <td>W/m^2</td>\n",
       "      <td>unspecified</td>\n",
       "      <td>1</td>\n",
       "      <td>lnd</td>\n",
       "      <td>global</td>\n",
       "      <td>2012-01-01T06:00:00</td>\n",
       "      <td>2019-12-31T18:00:00</td>\n",
       "      <td>hourly6</td>\n",
       "      <td>s3://ncar-dart-reanalysis/hourly6/EFLX_LH_TOT....</td>\n",
       "    </tr>\n",
       "    <tr>\n",
       "      <th>3</th>\n",
       "      <td>ER</td>\n",
       "      <td>total ecosystem respiration, autotrophic + het...</td>\n",
       "      <td>gC/m^2/s</td>\n",
       "      <td>unspecified</td>\n",
       "      <td>1</td>\n",
       "      <td>lnd</td>\n",
       "      <td>global</td>\n",
       "      <td>2012-01-01T06:00:00</td>\n",
       "      <td>2019-12-31T18:00:00</td>\n",
       "      <td>hourly6</td>\n",
       "      <td>s3://ncar-dart-reanalysis/hourly6/ER.zarr</td>\n",
       "    </tr>\n",
       "    <tr>\n",
       "      <th>4</th>\n",
       "      <td>VS</td>\n",
       "      <td>Meridional wind, staggered</td>\n",
       "      <td>m/s</td>\n",
       "      <td>unspecified</td>\n",
       "      <td>32</td>\n",
       "      <td>atm</td>\n",
       "      <td>global</td>\n",
       "      <td>2011-01-03T00:00:00</td>\n",
       "      <td>2019-12-30T00:00:00</td>\n",
       "      <td>weekly</td>\n",
       "      <td>s3://ncar-dart-reanalysis/weekly/VS.zarr</td>\n",
       "    </tr>\n",
       "  </tbody>\n",
       "</table>\n",
       "</div>"
      ],
      "text/plain": [
       "      variable                                          long_name     units  \\\n",
       "0           HR                    total heterotrophic respiration  gC/m^2/s   \n",
       "1          TSA                                 2m air temperature         K   \n",
       "2  EFLX_LH_TOT                  total latent heat flux [+ to atm]     W/m^2   \n",
       "3           ER  total ecosystem respiration, autotrophic + het...  gC/m^2/s   \n",
       "4           VS                         Meridional wind, staggered       m/s   \n",
       "\n",
       "  standard_name  vertical_levels component spatial_domain  \\\n",
       "0   unspecified                1       lnd         global   \n",
       "1   unspecified                1       lnd         global   \n",
       "2   unspecified                1       lnd         global   \n",
       "3   unspecified                1       lnd         global   \n",
       "4   unspecified               32       atm         global   \n",
       "\n",
       "            start_time             end_time frequency  \\\n",
       "0  2012-01-01T06:00:00  2019-12-31T18:00:00   hourly6   \n",
       "1  2012-01-01T06:00:00  2019-12-31T18:00:00   hourly6   \n",
       "2  2012-01-01T06:00:00  2019-12-31T18:00:00   hourly6   \n",
       "3  2012-01-01T06:00:00  2019-12-31T18:00:00   hourly6   \n",
       "4  2011-01-03T00:00:00  2019-12-30T00:00:00    weekly   \n",
       "\n",
       "                                                path  \n",
       "0          s3://ncar-dart-reanalysis/hourly6/HR.zarr  \n",
       "1         s3://ncar-dart-reanalysis/hourly6/TSA.zarr  \n",
       "2  s3://ncar-dart-reanalysis/hourly6/EFLX_LH_TOT....  \n",
       "3          s3://ncar-dart-reanalysis/hourly6/ER.zarr  \n",
       "4           s3://ncar-dart-reanalysis/weekly/VS.zarr  "
      ]
     },
     "execution_count": 56,
     "metadata": {},
     "output_type": "execute_result"
    }
   ],
   "source": [
    "df = pd.DataFrame(entries)\n",
    "\n",
    "# Reorder catalog columns\n",
    "catalog_order = ['variable', 'long_name', 'units', 'standard_name', 'vertical_levels', \n",
    "                 'component', 'spatial_domain', \n",
    "                 'start_time', 'end_time',\n",
    "                 'frequency', 'path']\n",
    "df = df.reindex(columns=catalog_order)\n",
    "\n",
    "df.head()"
   ]
  },
  {
   "cell_type": "code",
   "execution_count": null,
   "metadata": {},
   "outputs": [],
   "source": [
    "# Make 'path' the final column in the DataFrame\n",
    "#path = df.pop('path')\n",
    "#df['path'] = path\n",
    "\n",
    "#df.head()"
   ]
  },
  {
   "cell_type": "code",
   "execution_count": 57,
   "metadata": {},
   "outputs": [
    {
     "data": {
      "text/plain": [
       "11"
      ]
     },
     "execution_count": 57,
     "metadata": {},
     "output_type": "execute_result"
    }
   ],
   "source": [
    "len(df)"
   ]
  },
  {
   "cell_type": "code",
   "execution_count": 59,
   "metadata": {
    "tags": []
   },
   "outputs": [],
   "source": [
    "df.to_csv(\"../../catalogs/aws-dart-reanalysis.csv\", index=False)"
   ]
  },
  {
   "cell_type": "code",
   "execution_count": null,
   "metadata": {},
   "outputs": [],
   "source": []
  }
 ],
 "metadata": {
  "file_extension": ".py",
  "kernelspec": {
   "display_name": "Python [conda env:miniconda3-lens-conversion]",
   "language": "python",
   "name": "conda-env-miniconda3-lens-conversion-py"
  },
  "language_info": {
   "codemirror_mode": {
    "name": "ipython",
    "version": 3
   },
   "file_extension": ".py",
   "mimetype": "text/x-python",
   "name": "python",
   "nbconvert_exporter": "python",
   "pygments_lexer": "ipython3",
   "version": "3.8.10"
  },
  "mimetype": "text/x-python",
  "name": "python",
  "npconvert_exporter": "python",
  "pygments_lexer": "ipython3",
  "version": 3
 },
 "nbformat": 4,
 "nbformat_minor": 4
}
