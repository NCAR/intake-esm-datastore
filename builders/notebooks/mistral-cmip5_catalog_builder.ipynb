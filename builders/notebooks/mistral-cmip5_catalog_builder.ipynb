{
 "cells": [
  {
   "cell_type": "code",
   "execution_count": 1,
   "metadata": {},
   "outputs": [
    {
     "name": "stdout",
     "output_type": "stream",
     "text": [
      "48 6 8\n"
     ]
    }
   ],
   "source": [
    "from dask.distributed import Client\n",
    "import multiprocessing\n",
    "\n",
    "ncpu = multiprocessing.cpu_count()\n",
    "threads = 6\n",
    "nworker = ncpu // threads\n",
    "print(ncpu, threads, nworker)"
   ]
  },
  {
   "cell_type": "code",
   "execution_count": 2,
   "metadata": {},
   "outputs": [
    {
     "data": {
      "text/html": [
       "<table style=\"border: 2px solid white;\">\n",
       "<tr>\n",
       "<td style=\"vertical-align: top; border: 0px solid white\">\n",
       "<h3 style=\"text-align: left;\">Client</h3>\n",
       "<ul style=\"text-align: left; list-style: none; margin: 0; padding: 0;\">\n",
       "  <li><b>Scheduler: </b>tcp://127.0.0.1:33165</li>\n",
       "  <li><b>Dashboard: </b><a href='http://localhost:8888/proxy/8787/status' target='_blank'>http://localhost:8888/proxy/8787/status</a>\n",
       "</ul>\n",
       "</td>\n",
       "<td style=\"vertical-align: top; border: 0px solid white\">\n",
       "<h3 style=\"text-align: left;\">Cluster</h3>\n",
       "<ul style=\"text-align: left; list-style:none; margin: 0; padding: 0;\">\n",
       "  <li><b>Workers: </b>8</li>\n",
       "  <li><b>Cores: </b>48</li>\n",
       "  <li><b>Memory: </b>515.40 GB</li>\n",
       "</ul>\n",
       "</td>\n",
       "</tr>\n",
       "</table>"
      ],
      "text/plain": [
       "<Client: 'tcp://127.0.0.1:33165' processes=8 threads=48, memory=515.40 GB>"
      ]
     },
     "execution_count": 2,
     "metadata": {},
     "output_type": "execute_result"
    }
   ],
   "source": [
    "client = Client(processes=False, threads_per_worker=threads, n_workers=nworker, memory_limit='256GB')\n",
    "client"
   ]
  },
  {
   "cell_type": "code",
   "execution_count": 3,
   "metadata": {},
   "outputs": [],
   "source": [
    "import pandas as pd\n",
    "import fnmatch\n",
    "import dask.dataframe as dd\n",
    "from intake.source.utils import reverse_format\n",
    "import os\n",
    "import re\n",
    "import subprocess\n",
    "from tqdm.auto import tqdm\n",
    "from pathlib import Path\n",
    "import shutil\n",
    "import numpy as np"
   ]
  },
  {
   "cell_type": "markdown",
   "metadata": {},
   "source": [
    "## Create text file containing all files available"
   ]
  },
  {
   "cell_type": "code",
   "execution_count": 4,
   "metadata": {},
   "outputs": [],
   "source": [
    "def get_file_list(persist_path):\n",
    "    root = Path(\"/work/kd0956/CMIP5/data/cmip5/\")\n",
    "    p_path = Path(persist_path)\n",
    "    p_path.mkdir(exist_ok=True)\n",
    "    dirs = [x for x in root.iterdir() if x.is_dir()]\n",
    "    for directory in tqdm(dirs):\n",
    "        print(directory)\n",
    "        stem = directory.stem\n",
    "        f = open(f\"{persist_path}/{stem}.txt\", \"w\")\n",
    "        cmd = [\"find\", \"-L\", directory.as_posix(), \"-name\", \"*.nc\"]\n",
    "        p = subprocess.Popen(cmd, stderr=subprocess.PIPE, stdout=f)\n",
    "        p.wait()"
   ]
  },
  {
   "cell_type": "code",
   "execution_count": 5,
   "metadata": {},
   "outputs": [],
   "source": [
    "persist_path = \"./CMIP5_filelist\"\n",
    "# get_file_list(persist_path)"
   ]
  },
  {
   "cell_type": "markdown",
   "metadata": {},
   "source": [
    "\n",
    "## Extract attributes of a file using information from CMIP5 DRS.\n",
    "\n",
    "\n",
    "\n",
    "Reference:\n",
    "- CMIP5 DRS: https://pcmdi.llnl.gov/mips/cmip5/docs/cmip5_data_reference_syntax.pdf?id=27\n",
    "\n",
    "Directory:\n",
    "```\n",
    "  <activity>/\n",
    "    <product>/\n",
    "        <institute>/\n",
    "            <model>/\n",
    "                <experiment>/\n",
    "                    <frequency>/\n",
    "                        <modeling realm>/\n",
    "                            <MIP table>/\n",
    "                                <ensemble member>/\n",
    "                                    <version number>/\n",
    "                                        <variable name>/\n",
    "                                            <CMOR filename>.nc\n",
    "```\n",
    "                                                \n",
    "CMOR filename: `<variable name>_<MIP table>_<model>_<experiment>_ <ensemble member>[_<temporal subset>][_<geographical info>].nc`\n",
    "\"\"\""
   ]
  },
  {
   "cell_type": "code",
   "execution_count": 6,
   "metadata": {},
   "outputs": [
    {
     "data": {
      "text/plain": [
       "['output1', 'output2', 'output1-checkpoint']"
      ]
     },
     "execution_count": 6,
     "metadata": {},
     "output_type": "execute_result"
    }
   ],
   "source": [
    "products = list(Path(persist_path).rglob(\"*.txt\"))\n",
    "products = [product.stem for product in products]\n",
    "products"
   ]
  },
  {
   "cell_type": "code",
   "execution_count": 7,
   "metadata": {},
   "outputs": [
    {
     "data": {
      "text/html": [
       "<div>\n",
       "<style scoped>\n",
       "    .dataframe tbody tr th:only-of-type {\n",
       "        vertical-align: middle;\n",
       "    }\n",
       "\n",
       "    .dataframe tbody tr th {\n",
       "        vertical-align: top;\n",
       "    }\n",
       "\n",
       "    .dataframe thead th {\n",
       "        text-align: right;\n",
       "    }\n",
       "</style>\n",
       "<table border=\"1\" class=\"dataframe\">\n",
       "  <thead>\n",
       "    <tr style=\"text-align: right;\">\n",
       "      <th></th>\n",
       "      <th>path</th>\n",
       "    </tr>\n",
       "  </thead>\n",
       "  <tbody>\n",
       "    <tr>\n",
       "      <td>0</td>\n",
       "      <td>/work/kd0956/CMIP5/data/cmip5/output1/MOHC/Had...</td>\n",
       "    </tr>\n",
       "    <tr>\n",
       "      <td>1</td>\n",
       "      <td>/work/kd0956/CMIP5/data/cmip5/output1/MOHC/Had...</td>\n",
       "    </tr>\n",
       "    <tr>\n",
       "      <td>2</td>\n",
       "      <td>/work/kd0956/CMIP5/data/cmip5/output1/MOHC/Had...</td>\n",
       "    </tr>\n",
       "    <tr>\n",
       "      <td>3</td>\n",
       "      <td>/work/kd0956/CMIP5/data/cmip5/output1/MOHC/Had...</td>\n",
       "    </tr>\n",
       "    <tr>\n",
       "      <td>4</td>\n",
       "      <td>/work/kd0956/CMIP5/data/cmip5/output1/MOHC/Had...</td>\n",
       "    </tr>\n",
       "  </tbody>\n",
       "</table>\n",
       "</div>"
      ],
      "text/plain": [
       "                                                path\n",
       "0  /work/kd0956/CMIP5/data/cmip5/output1/MOHC/Had...\n",
       "1  /work/kd0956/CMIP5/data/cmip5/output1/MOHC/Had...\n",
       "2  /work/kd0956/CMIP5/data/cmip5/output1/MOHC/Had...\n",
       "3  /work/kd0956/CMIP5/data/cmip5/output1/MOHC/Had...\n",
       "4  /work/kd0956/CMIP5/data/cmip5/output1/MOHC/Had..."
      ]
     },
     "execution_count": 7,
     "metadata": {},
     "output_type": "execute_result"
    }
   ],
   "source": [
    "df = dd.read_csv(f\"{persist_path}/*.txt\", header=None).compute()\n",
    "df.columns = [\"path\"]\n",
    "df.head()"
   ]
  },
  {
   "cell_type": "code",
   "execution_count": 8,
   "metadata": {},
   "outputs": [
    {
     "data": {
      "text/plain": [
       "3542137"
      ]
     },
     "execution_count": 8,
     "metadata": {},
     "output_type": "execute_result"
    }
   ],
   "source": [
    "len(df)"
   ]
  },
  {
   "cell_type": "code",
   "execution_count": 9,
   "metadata": {},
   "outputs": [],
   "source": [
    "def _reverse_filename_format(file_basename, filename_template=None, gridspec_template=None):\n",
    "    \"\"\"\n",
    "    Uses intake's ``reverse_format`` utility to reverse the string method format.\n",
    "    Given format_string and resolved_string, find arguments\n",
    "    that would give format_string.format(arguments) == resolved_string\n",
    "    \"\"\"\n",
    "    try:\n",
    "        return reverse_format(filename_template, file_basename)\n",
    "    except ValueError:\n",
    "        try:\n",
    "            return reverse_format(gridspec_template, file_basename)\n",
    "        except:\n",
    "            print(\n",
    "                f'Failed to parse file: {file_basename} using patterns: {filename_template} and {gridspec_template}'\n",
    "            )\n",
    "            return {}\n",
    "\n",
    "\n",
    "def _extract_attr_with_regex(input_str, regex, strip_chars=None):\n",
    "    pattern = re.compile(regex, re.IGNORECASE)\n",
    "    match = re.findall(pattern, input_str)\n",
    "    if match:\n",
    "        match = max(match, key=len)\n",
    "        if strip_chars:\n",
    "            match = match.strip(strip_chars)\n",
    "\n",
    "        else:\n",
    "            match = match.strip()\n",
    "\n",
    "        return match\n",
    "\n",
    "    else:\n",
    "        return None\n",
    "\n",
    "\n",
    "exclude_patterns = ['*/files/*', '*/latest/*']\n",
    "\n",
    "\n",
    "def _filter_func(path):\n",
    "    return not any(fnmatch.fnmatch(path, pat=exclude_pattern) for exclude_pattern in exclude_patterns)"
   ]
  },
  {
   "cell_type": "code",
   "execution_count": 10,
   "metadata": {},
   "outputs": [
    {
     "name": "stdout",
     "output_type": "stream",
     "text": [
      "CPU times: user 15.6 s, sys: 115 ms, total: 15.7 s\n",
      "Wall time: 15.5 s\n"
     ]
    }
   ],
   "source": [
    "%%time\n",
    "files = df.path.tolist()\n",
    "filelist = list(filter(_filter_func, files))"
   ]
  },
  {
   "cell_type": "code",
   "execution_count": 11,
   "metadata": {},
   "outputs": [
    {
     "data": {
      "text/plain": [
       "3542137"
      ]
     },
     "execution_count": 11,
     "metadata": {},
     "output_type": "execute_result"
    }
   ],
   "source": [
    "len(filelist)"
   ]
  },
  {
   "cell_type": "code",
   "execution_count": 12,
   "metadata": {},
   "outputs": [],
   "source": [
    "def get_attrs(filepath):\n",
    "    \"\"\"Extract attributes of a file using information from CMIP5 DRS.\n",
    "    Notes\n",
    "    -----\n",
    "    Reference:\n",
    "    - CMIP5 DRS: https://pcmdi.llnl.gov/mips/cmip5/docs/cmip5_data_reference_syntax.pdf?id=27\n",
    "    \"\"\"\n",
    "\n",
    "    fileparts = {}\n",
    "\n",
    "    freq_regex = r'/3hr/|/6hr/|/day/|/fx/|/mon/|/monClim/|/subhr/|/yr/'\n",
    "    realm_regex = r'aerosol|atmos|land|landIce|ocean|ocnBgchem|seaIce'\n",
    "    version_regex = r'v\\d{4}\\d{2}\\d{2}|v\\d{1}'\n",
    "\n",
    "    file_basename = os.path.basename(filepath)\n",
    "    fileparts['path'] = filepath\n",
    "\n",
    "    filename_template = '{variable}_{mip_table}_{model}_{experiment}_{ensemble_member}_{temporal_subset}.nc'\n",
    "    gridspec_template = '{variable}_{mip_table}_{model}_{experiment}_{ensemble_member}.nc'\n",
    "    f = _reverse_filename_format(\n",
    "        file_basename, filename_template=filename_template, gridspec_template=gridspec_template\n",
    "    )\n",
    "    fileparts.update(f)\n",
    "\n",
    "    frequency = _extract_attr_with_regex(filepath, regex=freq_regex, strip_chars='/')\n",
    "    realm = _extract_attr_with_regex(filepath, regex=realm_regex)\n",
    "    version = _extract_attr_with_regex(filepath, regex=version_regex) or 'v0'\n",
    "    fileparts['frequency'] = frequency\n",
    "    fileparts['modeling_realm'] = realm\n",
    "    fileparts['version'] = version\n",
    "    try:\n",
    "        part1, part2 = os.path.dirname(filepath).split(fileparts['experiment'])\n",
    "        part1 = part1.strip(\"/\").split(\"/\")\n",
    "        fileparts['institute'] = part1[-2]\n",
    "        fileparts['product_id'] = part1[-3]\n",
    "    except Exception:\n",
    "        print(fileparts)\n",
    "\n",
    "    return fileparts"
   ]
  },
  {
   "cell_type": "code",
   "execution_count": 13,
   "metadata": {},
   "outputs": [
    {
     "data": {
      "text/plain": [
       "{'path': '/work/kd0956/CMIP5/data/cmip5/output1/MOHC/HadGEM2-CC/historical/day/atmos/day/r2i1p1/v20111129/rhs/rhs_day_HadGEM2-CC_historical_r2i1p1_19991201-20041130.nc',\n",
       " 'variable': 'rhs',\n",
       " 'mip_table': 'day',\n",
       " 'model': 'HadGEM2-CC',\n",
       " 'experiment': 'historical',\n",
       " 'ensemble_member': 'r2i1p1',\n",
       " 'temporal_subset': '19991201-20041130',\n",
       " 'frequency': 'day',\n",
       " 'modeling_realm': 'atmos',\n",
       " 'version': 'v20111129',\n",
       " 'institute': 'MOHC',\n",
       " 'product_id': 'output1'}"
      ]
     },
     "execution_count": 13,
     "metadata": {},
     "output_type": "execute_result"
    }
   ],
   "source": [
    "get_attrs(filelist[0])"
   ]
  },
  {
   "cell_type": "code",
   "execution_count": 15,
   "metadata": {},
   "outputs": [
    {
     "name": "stderr",
     "output_type": "stream",
     "text": [
      "distributed.comm.tcp - WARNING - Closing dangling stream in <TCP  local=tcp://127.0.0.1:53990 remote=tcp://127.0.0.1:33165>\n",
      "distributed.comm.tcp - WARNING - Closing dangling stream in <TCP  local=tcp://127.0.0.1:53992 remote=tcp://127.0.0.1:33165>\n",
      "distributed.comm.tcp - WARNING - Closing dangling stream in <TCP  local=tcp://127.0.0.1:53994 remote=tcp://127.0.0.1:33165>\n",
      "distributed.comm.tcp - WARNING - Closing dangling stream in <TCP  local=tcp://127.0.0.1:54002 remote=tcp://127.0.0.1:33165>\n",
      "distributed.comm.tcp - WARNING - Closing dangling stream in <TCP  local=tcp://127.0.0.1:54004 remote=tcp://127.0.0.1:33165>\n",
      "distributed.comm.tcp - WARNING - Closing dangling stream in <TCP  local=tcp://127.0.0.1:54008 remote=tcp://127.0.0.1:33165>\n",
      "distributed.comm.tcp - WARNING - Closing dangling stream in <TCP  local=tcp://127.0.0.1:54016 remote=tcp://127.0.0.1:33165>\n",
      "distributed.comm.tcp - WARNING - Closing dangling stream in <TCP  local=tcp://127.0.0.1:54020 remote=tcp://127.0.0.1:33165>\n",
      "distributed.comm.tcp - WARNING - Closing dangling stream in <TCP  local=tcp://127.0.0.1:54022 remote=tcp://127.0.0.1:33165>\n",
      "distributed.comm.tcp - WARNING - Closing dangling stream in <TCP  local=tcp://127.0.0.1:54028 remote=tcp://127.0.0.1:33165>\n",
      "distributed.comm.tcp - WARNING - Closing dangling stream in <TCP  local=tcp://127.0.0.1:54030 remote=tcp://127.0.0.1:33165>\n",
      "distributed.comm.tcp - WARNING - Closing dangling stream in <TCP  local=tcp://127.0.0.1:54034 remote=tcp://127.0.0.1:33165>\n",
      "distributed.comm.tcp - WARNING - Closing dangling stream in <TCP  local=tcp://127.0.0.1:54040 remote=tcp://127.0.0.1:33165>\n",
      "distributed.comm.tcp - WARNING - Closing dangling stream in <TCP  local=tcp://127.0.0.1:54044 remote=tcp://127.0.0.1:33165>\n",
      "distributed.comm.tcp - WARNING - Closing dangling stream in <TCP  local=tcp://127.0.0.1:54046 remote=tcp://127.0.0.1:33165>\n",
      "distributed.comm.tcp - WARNING - Closing dangling stream in <TCP  local=tcp://127.0.0.1:54048 remote=tcp://127.0.0.1:33165>\n"
     ]
    },
    {
     "name": "stdout",
     "output_type": "stream",
     "text": [
      "CPU times: user 3min 5s, sys: 4.75 s, total: 3min 9s\n",
      "Wall time: 3min 7s\n"
     ]
    }
   ],
   "source": [
    "%%time\n",
    "entries = list(map(get_attrs, filelist))"
   ]
  },
  {
   "cell_type": "code",
   "execution_count": 16,
   "metadata": {},
   "outputs": [
    {
     "data": {
      "text/plain": [
       "{'path': '/work/kd0956/CMIP5/data/cmip5/output1/MOHC/HadGEM2-CC/historical/day/atmos/day/r2i1p1/v20111129/rhsmax/rhsmax_day_HadGEM2-CC_historical_r2i1p1_19791201-19841130.nc',\n",
       " 'variable': 'rhsmax',\n",
       " 'mip_table': 'day',\n",
       " 'model': 'HadGEM2-CC',\n",
       " 'experiment': 'historical',\n",
       " 'ensemble_member': 'r2i1p1',\n",
       " 'temporal_subset': '19791201-19841130',\n",
       " 'frequency': 'day',\n",
       " 'modeling_realm': 'atmos',\n",
       " 'version': 'v20111129',\n",
       " 'institute': 'MOHC',\n",
       " 'product_id': 'output1'}"
      ]
     },
     "execution_count": 16,
     "metadata": {},
     "output_type": "execute_result"
    }
   ],
   "source": [
    "entries[10]"
   ]
  },
  {
   "cell_type": "code",
   "execution_count": 17,
   "metadata": {},
   "outputs": [
    {
     "name": "stderr",
     "output_type": "stream",
     "text": [
      "distributed.comm.tcp - WARNING - Closing dangling stream in <TCP  local=tcp://127.0.0.1:54058 remote=tcp://127.0.0.1:33165>\n"
     ]
    },
    {
     "data": {
      "text/plain": [
       "3542137"
      ]
     },
     "execution_count": 17,
     "metadata": {},
     "output_type": "execute_result"
    }
   ],
   "source": [
    "len(entries)"
   ]
  },
  {
   "cell_type": "code",
   "execution_count": 18,
   "metadata": {},
   "outputs": [
    {
     "data": {
      "text/html": [
       "<div>\n",
       "<style scoped>\n",
       "    .dataframe tbody tr th:only-of-type {\n",
       "        vertical-align: middle;\n",
       "    }\n",
       "\n",
       "    .dataframe tbody tr th {\n",
       "        vertical-align: top;\n",
       "    }\n",
       "\n",
       "    .dataframe thead th {\n",
       "        text-align: right;\n",
       "    }\n",
       "</style>\n",
       "<table border=\"1\" class=\"dataframe\">\n",
       "  <thead>\n",
       "    <tr style=\"text-align: right;\">\n",
       "      <th></th>\n",
       "      <th>path</th>\n",
       "      <th>variable</th>\n",
       "      <th>mip_table</th>\n",
       "      <th>model</th>\n",
       "      <th>experiment</th>\n",
       "      <th>ensemble_member</th>\n",
       "      <th>temporal_subset</th>\n",
       "      <th>frequency</th>\n",
       "      <th>modeling_realm</th>\n",
       "      <th>version</th>\n",
       "      <th>institute</th>\n",
       "      <th>product_id</th>\n",
       "    </tr>\n",
       "  </thead>\n",
       "  <tbody>\n",
       "    <tr>\n",
       "      <td>0</td>\n",
       "      <td>/work/kd0956/CMIP5/data/cmip5/output1/MOHC/Had...</td>\n",
       "      <td>rhs</td>\n",
       "      <td>day</td>\n",
       "      <td>HadGEM2-CC</td>\n",
       "      <td>historical</td>\n",
       "      <td>r2i1p1</td>\n",
       "      <td>19991201-20041130</td>\n",
       "      <td>day</td>\n",
       "      <td>atmos</td>\n",
       "      <td>v20111129</td>\n",
       "      <td>MOHC</td>\n",
       "      <td>output1</td>\n",
       "    </tr>\n",
       "    <tr>\n",
       "      <td>1</td>\n",
       "      <td>/work/kd0956/CMIP5/data/cmip5/output1/MOHC/Had...</td>\n",
       "      <td>rhs</td>\n",
       "      <td>day</td>\n",
       "      <td>HadGEM2-CC</td>\n",
       "      <td>historical</td>\n",
       "      <td>r2i1p1</td>\n",
       "      <td>20041201-20051130</td>\n",
       "      <td>day</td>\n",
       "      <td>atmos</td>\n",
       "      <td>v20111129</td>\n",
       "      <td>MOHC</td>\n",
       "      <td>output1</td>\n",
       "    </tr>\n",
       "    <tr>\n",
       "      <td>2</td>\n",
       "      <td>/work/kd0956/CMIP5/data/cmip5/output1/MOHC/Had...</td>\n",
       "      <td>rhs</td>\n",
       "      <td>day</td>\n",
       "      <td>HadGEM2-CC</td>\n",
       "      <td>historical</td>\n",
       "      <td>r2i1p1</td>\n",
       "      <td>19791201-19841130</td>\n",
       "      <td>day</td>\n",
       "      <td>atmos</td>\n",
       "      <td>v20111129</td>\n",
       "      <td>MOHC</td>\n",
       "      <td>output1</td>\n",
       "    </tr>\n",
       "    <tr>\n",
       "      <td>3</td>\n",
       "      <td>/work/kd0956/CMIP5/data/cmip5/output1/MOHC/Had...</td>\n",
       "      <td>rhs</td>\n",
       "      <td>day</td>\n",
       "      <td>HadGEM2-CC</td>\n",
       "      <td>historical</td>\n",
       "      <td>r2i1p1</td>\n",
       "      <td>19591201-19641130</td>\n",
       "      <td>day</td>\n",
       "      <td>atmos</td>\n",
       "      <td>v20111129</td>\n",
       "      <td>MOHC</td>\n",
       "      <td>output1</td>\n",
       "    </tr>\n",
       "    <tr>\n",
       "      <td>4</td>\n",
       "      <td>/work/kd0956/CMIP5/data/cmip5/output1/MOHC/Had...</td>\n",
       "      <td>rhs</td>\n",
       "      <td>day</td>\n",
       "      <td>HadGEM2-CC</td>\n",
       "      <td>historical</td>\n",
       "      <td>r2i1p1</td>\n",
       "      <td>19841201-19891130</td>\n",
       "      <td>day</td>\n",
       "      <td>atmos</td>\n",
       "      <td>v20111129</td>\n",
       "      <td>MOHC</td>\n",
       "      <td>output1</td>\n",
       "    </tr>\n",
       "  </tbody>\n",
       "</table>\n",
       "</div>"
      ],
      "text/plain": [
       "                                                path variable mip_table  \\\n",
       "0  /work/kd0956/CMIP5/data/cmip5/output1/MOHC/Had...      rhs       day   \n",
       "1  /work/kd0956/CMIP5/data/cmip5/output1/MOHC/Had...      rhs       day   \n",
       "2  /work/kd0956/CMIP5/data/cmip5/output1/MOHC/Had...      rhs       day   \n",
       "3  /work/kd0956/CMIP5/data/cmip5/output1/MOHC/Had...      rhs       day   \n",
       "4  /work/kd0956/CMIP5/data/cmip5/output1/MOHC/Had...      rhs       day   \n",
       "\n",
       "        model  experiment ensemble_member    temporal_subset frequency  \\\n",
       "0  HadGEM2-CC  historical          r2i1p1  19991201-20041130       day   \n",
       "1  HadGEM2-CC  historical          r2i1p1  20041201-20051130       day   \n",
       "2  HadGEM2-CC  historical          r2i1p1  19791201-19841130       day   \n",
       "3  HadGEM2-CC  historical          r2i1p1  19591201-19641130       day   \n",
       "4  HadGEM2-CC  historical          r2i1p1  19841201-19891130       day   \n",
       "\n",
       "  modeling_realm    version institute product_id  \n",
       "0          atmos  v20111129      MOHC    output1  \n",
       "1          atmos  v20111129      MOHC    output1  \n",
       "2          atmos  v20111129      MOHC    output1  \n",
       "3          atmos  v20111129      MOHC    output1  \n",
       "4          atmos  v20111129      MOHC    output1  "
      ]
     },
     "execution_count": 18,
     "metadata": {},
     "output_type": "execute_result"
    }
   ],
   "source": [
    "df = pd.DataFrame(entries)\n",
    "df = df.drop_duplicates(subset=['path'], keep='last').reset_index(drop=True)\n",
    "df.head()"
   ]
  },
  {
   "cell_type": "code",
   "execution_count": 19,
   "metadata": {},
   "outputs": [
    {
     "data": {
      "text/plain": [
       "3542137"
      ]
     },
     "execution_count": 19,
     "metadata": {},
     "output_type": "execute_result"
    }
   ],
   "source": [
    "len(df)"
   ]
  },
  {
   "cell_type": "code",
   "execution_count": 20,
   "metadata": {},
   "outputs": [
    {
     "data": {
      "text/html": [
       "<div>\n",
       "<style scoped>\n",
       "    .dataframe tbody tr th:only-of-type {\n",
       "        vertical-align: middle;\n",
       "    }\n",
       "\n",
       "    .dataframe tbody tr th {\n",
       "        vertical-align: top;\n",
       "    }\n",
       "\n",
       "    .dataframe thead th {\n",
       "        text-align: right;\n",
       "    }\n",
       "</style>\n",
       "<table border=\"1\" class=\"dataframe\">\n",
       "  <thead>\n",
       "    <tr style=\"text-align: right;\">\n",
       "      <th></th>\n",
       "      <th>path</th>\n",
       "      <th>variable</th>\n",
       "      <th>mip_table</th>\n",
       "      <th>model</th>\n",
       "      <th>experiment</th>\n",
       "      <th>ensemble_member</th>\n",
       "      <th>temporal_subset</th>\n",
       "      <th>frequency</th>\n",
       "      <th>modeling_realm</th>\n",
       "      <th>version</th>\n",
       "      <th>institute</th>\n",
       "      <th>product_id</th>\n",
       "    </tr>\n",
       "  </thead>\n",
       "  <tbody>\n",
       "    <tr>\n",
       "      <td>1617349</td>\n",
       "      <td>/work/kd0956/CMIP5/data/cmip5/output1/NOAA-GFD...</td>\n",
       "      <td>gridspec</td>\n",
       "      <td>ocean</td>\n",
       "      <td>fx</td>\n",
       "      <td>GFDL-ESM2G</td>\n",
       "      <td>esmHistorical</td>\n",
       "      <td>r0i0p0</td>\n",
       "      <td>fx</td>\n",
       "      <td>ocean</td>\n",
       "      <td>v20110601</td>\n",
       "      <td>output1</td>\n",
       "      <td>cmip5</td>\n",
       "    </tr>\n",
       "    <tr>\n",
       "      <td>1617353</td>\n",
       "      <td>/work/kd0956/CMIP5/data/cmip5/output1/NOAA-GFD...</td>\n",
       "      <td>gridspec</td>\n",
       "      <td>seaIce</td>\n",
       "      <td>fx</td>\n",
       "      <td>GFDL-ESM2G</td>\n",
       "      <td>esmHistorical</td>\n",
       "      <td>r0i0p0</td>\n",
       "      <td>fx</td>\n",
       "      <td>seaIce</td>\n",
       "      <td>v20110601</td>\n",
       "      <td>output1</td>\n",
       "      <td>cmip5</td>\n",
       "    </tr>\n",
       "    <tr>\n",
       "      <td>1627745</td>\n",
       "      <td>/work/kd0956/CMIP5/data/cmip5/output1/NOAA-GFD...</td>\n",
       "      <td>gridspec</td>\n",
       "      <td>ocean</td>\n",
       "      <td>fx</td>\n",
       "      <td>GFDL-ESM2G</td>\n",
       "      <td>historical</td>\n",
       "      <td>r0i0p0</td>\n",
       "      <td>fx</td>\n",
       "      <td>ocean</td>\n",
       "      <td>v20110601</td>\n",
       "      <td>output1</td>\n",
       "      <td>cmip5</td>\n",
       "    </tr>\n",
       "    <tr>\n",
       "      <td>1627750</td>\n",
       "      <td>/work/kd0956/CMIP5/data/cmip5/output1/NOAA-GFD...</td>\n",
       "      <td>gridspec</td>\n",
       "      <td>seaIce</td>\n",
       "      <td>fx</td>\n",
       "      <td>GFDL-ESM2G</td>\n",
       "      <td>historical</td>\n",
       "      <td>r0i0p0</td>\n",
       "      <td>fx</td>\n",
       "      <td>seaIce</td>\n",
       "      <td>v20110601</td>\n",
       "      <td>output1</td>\n",
       "      <td>cmip5</td>\n",
       "    </tr>\n",
       "    <tr>\n",
       "      <td>1634485</td>\n",
       "      <td>/work/kd0956/CMIP5/data/cmip5/output1/NOAA-GFD...</td>\n",
       "      <td>gridspec</td>\n",
       "      <td>seaIce</td>\n",
       "      <td>fx</td>\n",
       "      <td>GFDL-ESM2G</td>\n",
       "      <td>esmrcp85</td>\n",
       "      <td>r0i0p0</td>\n",
       "      <td>fx</td>\n",
       "      <td>seaIce</td>\n",
       "      <td>v20120301</td>\n",
       "      <td>output1</td>\n",
       "      <td>cmip5</td>\n",
       "    </tr>\n",
       "    <tr>\n",
       "      <td>...</td>\n",
       "      <td>...</td>\n",
       "      <td>...</td>\n",
       "      <td>...</td>\n",
       "      <td>...</td>\n",
       "      <td>...</td>\n",
       "      <td>...</td>\n",
       "      <td>...</td>\n",
       "      <td>...</td>\n",
       "      <td>...</td>\n",
       "      <td>...</td>\n",
       "      <td>...</td>\n",
       "      <td>...</td>\n",
       "    </tr>\n",
       "    <tr>\n",
       "      <td>2394846</td>\n",
       "      <td>/work/kd0956/CMIP5/data/cmip5/output1/ICHEC/EC...</td>\n",
       "      <td>orog</td>\n",
       "      <td>atmos</td>\n",
       "      <td>fx</td>\n",
       "      <td>EC-EARTH</td>\n",
       "      <td>historical</td>\n",
       "      <td>r0i0p0</td>\n",
       "      <td>fx</td>\n",
       "      <td>atmos</td>\n",
       "      <td>v20130211</td>\n",
       "      <td>output1</td>\n",
       "      <td>cmip5</td>\n",
       "    </tr>\n",
       "    <tr>\n",
       "      <td>2394848</td>\n",
       "      <td>/work/kd0956/CMIP5/data/cmip5/output1/ICHEC/EC...</td>\n",
       "      <td>areacella</td>\n",
       "      <td>atmos</td>\n",
       "      <td>fx</td>\n",
       "      <td>EC-EARTH</td>\n",
       "      <td>rcp85</td>\n",
       "      <td>r0i0p0</td>\n",
       "      <td>fx</td>\n",
       "      <td>atmos</td>\n",
       "      <td>v20130211</td>\n",
       "      <td>output1</td>\n",
       "      <td>cmip5</td>\n",
       "    </tr>\n",
       "    <tr>\n",
       "      <td>2394850</td>\n",
       "      <td>/work/kd0956/CMIP5/data/cmip5/output1/ICHEC/EC...</td>\n",
       "      <td>areacella</td>\n",
       "      <td>atmos</td>\n",
       "      <td>fx</td>\n",
       "      <td>EC-EARTH</td>\n",
       "      <td>rcp26</td>\n",
       "      <td>r0i0p0</td>\n",
       "      <td>fx</td>\n",
       "      <td>atmos</td>\n",
       "      <td>v20130211</td>\n",
       "      <td>output1</td>\n",
       "      <td>cmip5</td>\n",
       "    </tr>\n",
       "    <tr>\n",
       "      <td>2394851</td>\n",
       "      <td>/work/kd0956/CMIP5/data/cmip5/output1/ICHEC/EC...</td>\n",
       "      <td>areacella</td>\n",
       "      <td>atmos</td>\n",
       "      <td>fx</td>\n",
       "      <td>EC-EARTH</td>\n",
       "      <td>historical</td>\n",
       "      <td>r0i0p0</td>\n",
       "      <td>fx</td>\n",
       "      <td>atmos</td>\n",
       "      <td>v20130211</td>\n",
       "      <td>output1</td>\n",
       "      <td>cmip5</td>\n",
       "    </tr>\n",
       "    <tr>\n",
       "      <td>2394852</td>\n",
       "      <td>/work/kd0956/CMIP5/data/cmip5/output1/ICHEC/EC...</td>\n",
       "      <td>areacella</td>\n",
       "      <td>atmos</td>\n",
       "      <td>fx</td>\n",
       "      <td>EC-EARTH</td>\n",
       "      <td>rcp45</td>\n",
       "      <td>r0i0p0</td>\n",
       "      <td>fx</td>\n",
       "      <td>atmos</td>\n",
       "      <td>v20130211</td>\n",
       "      <td>output1</td>\n",
       "      <td>cmip5</td>\n",
       "    </tr>\n",
       "  </tbody>\n",
       "</table>\n",
       "<p>199 rows × 12 columns</p>\n",
       "</div>"
      ],
      "text/plain": [
       "                                                      path   variable  \\\n",
       "1617349  /work/kd0956/CMIP5/data/cmip5/output1/NOAA-GFD...   gridspec   \n",
       "1617353  /work/kd0956/CMIP5/data/cmip5/output1/NOAA-GFD...   gridspec   \n",
       "1627745  /work/kd0956/CMIP5/data/cmip5/output1/NOAA-GFD...   gridspec   \n",
       "1627750  /work/kd0956/CMIP5/data/cmip5/output1/NOAA-GFD...   gridspec   \n",
       "1634485  /work/kd0956/CMIP5/data/cmip5/output1/NOAA-GFD...   gridspec   \n",
       "...                                                    ...        ...   \n",
       "2394846  /work/kd0956/CMIP5/data/cmip5/output1/ICHEC/EC...       orog   \n",
       "2394848  /work/kd0956/CMIP5/data/cmip5/output1/ICHEC/EC...  areacella   \n",
       "2394850  /work/kd0956/CMIP5/data/cmip5/output1/ICHEC/EC...  areacella   \n",
       "2394851  /work/kd0956/CMIP5/data/cmip5/output1/ICHEC/EC...  areacella   \n",
       "2394852  /work/kd0956/CMIP5/data/cmip5/output1/ICHEC/EC...  areacella   \n",
       "\n",
       "        mip_table model  experiment ensemble_member temporal_subset frequency  \\\n",
       "1617349     ocean    fx  GFDL-ESM2G   esmHistorical          r0i0p0        fx   \n",
       "1617353    seaIce    fx  GFDL-ESM2G   esmHistorical          r0i0p0        fx   \n",
       "1627745     ocean    fx  GFDL-ESM2G      historical          r0i0p0        fx   \n",
       "1627750    seaIce    fx  GFDL-ESM2G      historical          r0i0p0        fx   \n",
       "1634485    seaIce    fx  GFDL-ESM2G        esmrcp85          r0i0p0        fx   \n",
       "...           ...   ...         ...             ...             ...       ...   \n",
       "2394846     atmos    fx    EC-EARTH      historical          r0i0p0        fx   \n",
       "2394848     atmos    fx    EC-EARTH           rcp85          r0i0p0        fx   \n",
       "2394850     atmos    fx    EC-EARTH           rcp26          r0i0p0        fx   \n",
       "2394851     atmos    fx    EC-EARTH      historical          r0i0p0        fx   \n",
       "2394852     atmos    fx    EC-EARTH           rcp45          r0i0p0        fx   \n",
       "\n",
       "        modeling_realm    version institute product_id  \n",
       "1617349          ocean  v20110601   output1      cmip5  \n",
       "1617353         seaIce  v20110601   output1      cmip5  \n",
       "1627745          ocean  v20110601   output1      cmip5  \n",
       "1627750         seaIce  v20110601   output1      cmip5  \n",
       "1634485         seaIce  v20120301   output1      cmip5  \n",
       "...                ...        ...       ...        ...  \n",
       "2394846          atmos  v20130211   output1      cmip5  \n",
       "2394848          atmos  v20130211   output1      cmip5  \n",
       "2394850          atmos  v20130211   output1      cmip5  \n",
       "2394851          atmos  v20130211   output1      cmip5  \n",
       "2394852          atmos  v20130211   output1      cmip5  \n",
       "\n",
       "[199 rows x 12 columns]"
      ]
     },
     "execution_count": 20,
     "metadata": {},
     "output_type": "execute_result"
    }
   ],
   "source": [
    "# Some entries are invalid\n",
    "invalids = df[~df.product_id.isin(products)]\n",
    "invalids\n",
    "# df = df[df.activity_id.isin(activity_ids)]"
   ]
  },
  {
   "cell_type": "code",
   "execution_count": 21,
   "metadata": {},
   "outputs": [
    {
     "data": {
      "text/plain": [
       "3541938"
      ]
     },
     "execution_count": 21,
     "metadata": {},
     "output_type": "execute_result"
    }
   ],
   "source": [
    "df = df[df.product_id.isin(products)]\n",
    "len(df)"
   ]
  },
  {
   "cell_type": "code",
   "execution_count": 22,
   "metadata": {},
   "outputs": [
    {
     "data": {
      "text/plain": [
       "array(['r2i1p1', 'r1i1p1', 'r3i1p1', 'r0i0p0', 'r5i3p1', 'r4i3p1',\n",
       "       'r2i3p1', 'r1i2p1', 'r3i2p1', 'r3i3p1', 'r4i2p1', 'r1i3p1',\n",
       "       'r7i3p1', 'r2i2p1', 'r8i3p1', 'r5i2p1', 'r9i2p1', 'r10i3p1',\n",
       "       'r6i3p1', 'r7i2p1', 'r6i2p1', 'r10i2p1', 'r9i3p1', 'r8i2p1',\n",
       "       'r5i1p1', 'r10i1p1', 'r6i1p1', 'r8i1p1', 'r4i1p1', 'r7i1p1',\n",
       "       'r9i1p1', 'r11i1p1', 'r12i1p1', 'r1i2p2', 'r6i1p12', 'r4i1p10',\n",
       "       'r6i1p11', 'r4i1p12', 'r4i1p11', 'r4i1p15', 'r4i1p16', 'r1i1p17',\n",
       "       'r1i1p12', 'r6i1p15', 'r1i1p13', 'r6i1p16', 'r4i1p17', 'r1i1p11',\n",
       "       'r1i1p10', 'r1i1p16', 'r1i1p15', 'r6i1p13', 'r6i1p14', 'r4i1p14',\n",
       "       'r6i1p17', 'r2i1p11', 'r1i1p14', 'r6i1p10', 'r3i1p13', 'r1i1p2',\n",
       "       'r4i1p4', 'r5i1p4', 'r3i1p3', 'r1i1p3', 'r2i1p2', 'r4i1p2',\n",
       "       'r5i1p2', 'r2i1p3', 'r5i1p3', 'r3i1p2', 'r4i1p3', 'r3i1p4',\n",
       "       'r2i1p4', 'r1i1p4', 'r2i1p6', 'r4i1p5', 'r1i1p6', 'r5i1p6',\n",
       "       'r1i1p5', 'r4i1p6', 'r3i1p5', 'r5i1p5', 'r3i1p6', 'r2i1p5',\n",
       "       'r1i1p125', 'r1i1p126', 'r1i1p128', 'r1i1p123', 'r1i1p121',\n",
       "       'r1i1p122', 'r1i1p1221', 'r1i1p127', 'r1i1p124', 'r6i1p3',\n",
       "       'r6i1p2', 'r1i1p142', 'r1i1p141', 'r0i0p142', 'r0i0p141',\n",
       "       'r1i1p150', 'r1i1p151', 'r0i0p150', 'r0i0p151', 'r2i1p309',\n",
       "       'r1i1p317', 'r5i1p102', 'r5i1p303', 'r2i1p104', 'r1i1p3161',\n",
       "       'r1i1p309', 'r4i1p302', 'r3i1p101', 'r1i1p302', 'r3i1p3031',\n",
       "       'r2i1p106', 'r1i1p313', 'r3i1p312', 'r4i1p114', 'r5i1p3001',\n",
       "       'r2i1p109', 'r4i1p103', 'r3i1p107', 'r4i1p3031', 'r2i1p303',\n",
       "       'r1i1p3001', 'r5i1p311', 'r3i1p105', 'r3i1p315', 'r2i1p316',\n",
       "       'r5i1p109', 'r5i1p309', 'r1i1p107', 'r5i1p104', 'r1i1p315',\n",
       "       'r3i1p302', 'r4i1p109', 'r5i1p302', 'r1i1p106', 'r1i1p101',\n",
       "       'r3i1p3001', 'r1i1p316', 'r4i1p3001', 'r5i1p106', 'r3i1p109',\n",
       "       'r2i1p315', 'r2i1p312', 'r4i1p107', 'r5i1p317', 'r2i1p107',\n",
       "       'r1i1p312', 'r2i1p310', 'r4i1p310', 'r4i1p317', 'r4i1p309',\n",
       "       'r2i1p3001', 'r5i1p107', 'r3i1p303', 'r3i1p104', 'r4i1p311',\n",
       "       'r3i1p311', 'r3i1p316', 'r1i1p103', 'r4i1p313', 'r2i1p302',\n",
       "       'r2i1p3161', 'r5i1p3031', 'r5i1p103', 'r5i1p3161', 'r4i1p312',\n",
       "       'r1i1p310', 'r5i1p316', 'r2i1p105', 'r3i1p108', 'r4i1p303',\n",
       "       'r2i1p3031', 'r2i1p311', 'r4i1p102', 'r3i1p3161', 'r3i1p310',\n",
       "       'r2i1p103', 'r1i1p104', 'r1i1p105', 'r2i1p114', 'r1i1p108',\n",
       "       'r3i1p106', 'r5i1p105', 'r4i1p3161', 'r4i1p316', 'r4i1p104',\n",
       "       'r1i1p3031', 'r1i1p311', 'r5i1p108', 'r2i1p313', 'r2i1p101',\n",
       "       'r5i1p101', 'r4i1p315', 'r5i1p310', 'r4i1p101', 'r2i1p108',\n",
       "       'r5i1p315', 'r2i1p317', 'r4i1p105', 'r5i1p114', 'r3i1p103',\n",
       "       'r3i1p313', 'r2i1p102', 'r1i1p109', 'r3i1p114', 'r3i1p102',\n",
       "       'r3i1p309', 'r5i1p312', 'r4i1p108', 'r1i1p102', 'r3i1p317',\n",
       "       'r1i1p114', 'r1i1p303', 'r5i1p313', 'r4i1p106', 'r9i1p5', 'r7i1p4',\n",
       "       'r10i1p6', 'r7i1p2', 'r7i1p3', 'r8i1p2', 'r6i1p4', 'r8i1p6',\n",
       "       'r9i1p6', 'r6i1p5', 'r9i1p3', 'r8i1p4', 'r9i1p2', 'r8i1p5',\n",
       "       'r10i1p4', 'r6i1p6', 'r10i1p3', 'r7i1p6', 'r8i1p3', 'r7i1p5',\n",
       "       'r10i1p2', 'r9i1p4', 'r10i1p5', 'r0i0p2', 'r0i0p5', 'r0i0p3',\n",
       "       'r0i0p1', 'r0i0p4', 'r0i0p6', 'r3i1p10', 'r2i1p10', 'r2i1p13',\n",
       "       'r2i1p14', 'r2i1p16', 'r2i1p17', 'r3i1p14', 'r3i1p11', 'r3i1p17',\n",
       "       'r2i1p12', 'r3i1p16', 'r13i1p1', 'r1i1p7', 'r1i1p8', 'r14i1p1',\n",
       "       'r21i1p1', 'r18i1p1', 'r22i1p1', 'r16i1p1', 'r23i1p1', 'r19i1p1',\n",
       "       'r20i1p1', 'r17i1p1', 'r15i1p1'], dtype=object)"
      ]
     },
     "execution_count": 22,
     "metadata": {},
     "output_type": "execute_result"
    }
   ],
   "source": [
    "df.ensemble_member.unique()"
   ]
  },
  {
   "cell_type": "markdown",
   "metadata": {},
   "source": [
    "## Pick the latest versions only"
   ]
  },
  {
   "cell_type": "code",
   "execution_count": 23,
   "metadata": {},
   "outputs": [],
   "source": [
    "grpby = list(set(df.columns.tolist()) - {'path', 'version'})\n",
    "groups = df.groupby(grpby)"
   ]
  },
  {
   "cell_type": "code",
   "execution_count": 24,
   "metadata": {},
   "outputs": [
    {
     "name": "stderr",
     "output_type": "stream",
     "text": [
      "distributed.comm.tcp - WARNING - Closing dangling stream in <TCP  local=tcp://127.0.0.1:54122 remote=tcp://127.0.0.1:33165>\n",
      "distributed.comm.tcp - WARNING - Closing dangling stream in <TCP  local=tcp://127.0.0.1:54128 remote=tcp://127.0.0.1:33165>\n",
      "distributed.comm.tcp - WARNING - Closing dangling stream in <TCP  local=tcp://127.0.0.1:54134 remote=tcp://127.0.0.1:33165>\n",
      "distributed.comm.tcp - WARNING - Closing dangling stream in <TCP  local=tcp://127.0.0.1:54172 remote=tcp://127.0.0.1:33165>\n",
      "distributed.comm.tcp - WARNING - Closing dangling stream in <TCP  local=tcp://127.0.0.1:54176 remote=tcp://127.0.0.1:33165>\n",
      "distributed.comm.tcp - WARNING - Closing dangling stream in <TCP  local=tcp://127.0.0.1:54182 remote=tcp://127.0.0.1:33165>\n",
      "distributed.comm.tcp - WARNING - Closing dangling stream in <TCP  local=tcp://127.0.0.1:54186 remote=tcp://127.0.0.1:33165>\n",
      "distributed.comm.tcp - WARNING - Closing dangling stream in <TCP  local=tcp://127.0.0.1:54202 remote=tcp://127.0.0.1:33165>\n",
      "distributed.comm.tcp - WARNING - Closing dangling stream in <TCP  local=tcp://127.0.0.1:54212 remote=tcp://127.0.0.1:33165>\n",
      "distributed.comm.tcp - WARNING - Closing dangling stream in <TCP  local=tcp://127.0.0.1:54216 remote=tcp://127.0.0.1:33165>\n",
      "tornado.application - ERROR - Exception in callback <bound method BokehTornado._keep_alive of <bokeh.server.tornado.BokehTornado object at 0x2ba33abb27b8>>\n",
      "Traceback (most recent call last):\n",
      "  File \"/mnt/lustre01/pf/zmaw/m300524/conda-envs/ESMValtool/lib/python3.7/site-packages/tornado/ioloop.py\", line 907, in _run\n",
      "    return self.callback()\n",
      "  File \"/mnt/lustre01/pf/zmaw/m300524/conda-envs/ESMValtool/lib/python3.7/site-packages/bokeh/server/tornado.py\", line 558, in _keep_alive\n",
      "    c.send_ping()\n",
      "  File \"/mnt/lustre01/pf/zmaw/m300524/conda-envs/ESMValtool/lib/python3.7/site-packages/bokeh/server/connection.py\", line 80, in send_ping\n",
      "    self._socket.ping(codecs.encode(str(self._ping_count), \"utf-8\"))\n",
      "  File \"/mnt/lustre01/pf/zmaw/m300524/conda-envs/ESMValtool/lib/python3.7/site-packages/tornado/websocket.py\", line 447, in ping\n",
      "    raise WebSocketClosedError()\n",
      "tornado.websocket.WebSocketClosedError\n",
      "distributed.comm.tcp - WARNING - Closing dangling stream in <TCP  local=tcp://127.0.0.1:54236 remote=tcp://127.0.0.1:33165>\n",
      "distributed.comm.tcp - WARNING - Closing dangling stream in <TCP  local=tcp://127.0.0.1:54240 remote=tcp://127.0.0.1:33165>\n",
      "distributed.comm.tcp - WARNING - Closing dangling stream in <TCP  local=tcp://127.0.0.1:54244 remote=tcp://127.0.0.1:33165>\n",
      "distributed.comm.tcp - WARNING - Closing dangling stream in <TCP  local=tcp://127.0.0.1:54250 remote=tcp://127.0.0.1:33165>\n",
      "distributed.comm.tcp - WARNING - Closing dangling stream in <TCP  local=tcp://127.0.0.1:54254 remote=tcp://127.0.0.1:33165>\n",
      "distributed.comm.tcp - WARNING - Closing dangling stream in <TCP  local=tcp://127.0.0.1:54258 remote=tcp://127.0.0.1:33165>\n",
      "distributed.comm.tcp - WARNING - Closing dangling stream in <TCP  local=tcp://127.0.0.1:54266 remote=tcp://127.0.0.1:33165>\n",
      "distributed.comm.tcp - WARNING - Closing dangling stream in <TCP  local=tcp://127.0.0.1:54268 remote=tcp://127.0.0.1:33165>\n",
      "distributed.comm.tcp - WARNING - Closing dangling stream in <TCP  local=tcp://127.0.0.1:54274 remote=tcp://127.0.0.1:33165>\n",
      "distributed.comm.tcp - WARNING - Closing dangling stream in <TCP  local=tcp://127.0.0.1:54330 remote=tcp://127.0.0.1:33165>\n",
      "distributed.comm.tcp - WARNING - Closing dangling stream in <TCP  local=tcp://127.0.0.1:54332 remote=tcp://127.0.0.1:33165>\n",
      "distributed.comm.tcp - WARNING - Closing dangling stream in <TCP  local=tcp://127.0.0.1:54342 remote=tcp://127.0.0.1:33165>\n",
      "distributed.comm.tcp - WARNING - Closing dangling stream in <TCP  local=tcp://127.0.0.1:54362 remote=tcp://127.0.0.1:33165>\n",
      "distributed.comm.tcp - WARNING - Closing dangling stream in <TCP  local=tcp://127.0.0.1:54372 remote=tcp://127.0.0.1:33165>\n",
      "distributed.comm.tcp - WARNING - Closing dangling stream in <TCP  local=tcp://127.0.0.1:54408 remote=tcp://127.0.0.1:33165>\n",
      "distributed.comm.tcp - WARNING - Closing dangling stream in <TCP  local=tcp://127.0.0.1:54412 remote=tcp://127.0.0.1:33165>\n",
      "distributed.comm.tcp - WARNING - Closing dangling stream in <TCP  local=tcp://127.0.0.1:54414 remote=tcp://127.0.0.1:33165>\n",
      "distributed.comm.tcp - WARNING - Closing dangling stream in <TCP  local=tcp://127.0.0.1:54426 remote=tcp://127.0.0.1:33165>\n",
      "distributed.comm.tcp - WARNING - Closing dangling stream in <TCP  local=tcp://127.0.0.1:54434 remote=tcp://127.0.0.1:33165>\n",
      "distributed.comm.tcp - WARNING - Closing dangling stream in <TCP  local=tcp://127.0.0.1:54466 remote=tcp://127.0.0.1:33165>\n",
      "distributed.comm.tcp - WARNING - Closing dangling stream in <TCP  local=tcp://127.0.0.1:54476 remote=tcp://127.0.0.1:33165>\n",
      "distributed.comm.tcp - WARNING - Closing dangling stream in <TCP  local=tcp://127.0.0.1:54484 remote=tcp://127.0.0.1:33165>\n",
      "distributed.comm.tcp - WARNING - Closing dangling stream in <TCP  local=tcp://127.0.0.1:54508 remote=tcp://127.0.0.1:33165>\n",
      "distributed.comm.tcp - WARNING - Closing dangling stream in <TCP  local=tcp://127.0.0.1:54516 remote=tcp://127.0.0.1:33165>\n",
      "distributed.comm.tcp - WARNING - Closing dangling stream in <TCP  local=tcp://127.0.0.1:54532 remote=tcp://127.0.0.1:33165>\n"
     ]
    },
    {
     "name": "stdout",
     "output_type": "stream",
     "text": [
      "CPU times: user 25min 54s, sys: 1min 28s, total: 27min 22s\n",
      "Wall time: 25min 38s\n"
     ]
    }
   ],
   "source": [
    "%%time\n",
    "idx_to_remove = []\n",
    "for _, group in groups:\n",
    "    if group.version.nunique() > 1:\n",
    "        idx_to_remove.extend(group.sort_values(by=['version'], ascending=False).index[1:].values.tolist())"
   ]
  },
  {
   "cell_type": "code",
   "execution_count": 25,
   "metadata": {},
   "outputs": [
    {
     "data": {
      "text/plain": [
       "277602"
      ]
     },
     "execution_count": 25,
     "metadata": {},
     "output_type": "execute_result"
    }
   ],
   "source": [
    "len(idx_to_remove)"
   ]
  },
  {
   "cell_type": "code",
   "execution_count": 26,
   "metadata": {},
   "outputs": [
    {
     "data": {
      "text/plain": [
       "3541938"
      ]
     },
     "execution_count": 26,
     "metadata": {},
     "output_type": "execute_result"
    }
   ],
   "source": [
    "len(df)"
   ]
  },
  {
   "cell_type": "code",
   "execution_count": 27,
   "metadata": {},
   "outputs": [
    {
     "data": {
      "text/plain": [
       "3264336"
      ]
     },
     "execution_count": 27,
     "metadata": {},
     "output_type": "execute_result"
    }
   ],
   "source": [
    "df1 = df.copy()\n",
    "df = df.drop(index=idx_to_remove)\n",
    "len(df)"
   ]
  },
  {
   "cell_type": "code",
   "execution_count": 28,
   "metadata": {},
   "outputs": [
    {
     "data": {
      "text/html": [
       "<div>\n",
       "<style scoped>\n",
       "    .dataframe tbody tr th:only-of-type {\n",
       "        vertical-align: middle;\n",
       "    }\n",
       "\n",
       "    .dataframe tbody tr th {\n",
       "        vertical-align: top;\n",
       "    }\n",
       "\n",
       "    .dataframe thead th {\n",
       "        text-align: right;\n",
       "    }\n",
       "</style>\n",
       "<table border=\"1\" class=\"dataframe\">\n",
       "  <thead>\n",
       "    <tr style=\"text-align: right;\">\n",
       "      <th></th>\n",
       "      <th>path</th>\n",
       "      <th>variable</th>\n",
       "      <th>mip_table</th>\n",
       "      <th>model</th>\n",
       "      <th>experiment</th>\n",
       "      <th>ensemble_member</th>\n",
       "      <th>temporal_subset</th>\n",
       "      <th>frequency</th>\n",
       "      <th>modeling_realm</th>\n",
       "      <th>version</th>\n",
       "      <th>institute</th>\n",
       "      <th>product_id</th>\n",
       "    </tr>\n",
       "  </thead>\n",
       "  <tbody>\n",
       "    <tr>\n",
       "      <td>0</td>\n",
       "      <td>/work/kd0956/CMIP5/data/cmip5/output1/MOHC/Had...</td>\n",
       "      <td>rhs</td>\n",
       "      <td>day</td>\n",
       "      <td>HadGEM2-CC</td>\n",
       "      <td>historical</td>\n",
       "      <td>r2i1p1</td>\n",
       "      <td>19991201-20041130</td>\n",
       "      <td>day</td>\n",
       "      <td>atmos</td>\n",
       "      <td>v20111129</td>\n",
       "      <td>MOHC</td>\n",
       "      <td>output1</td>\n",
       "    </tr>\n",
       "    <tr>\n",
       "      <td>1</td>\n",
       "      <td>/work/kd0956/CMIP5/data/cmip5/output1/MOHC/Had...</td>\n",
       "      <td>rhs</td>\n",
       "      <td>day</td>\n",
       "      <td>HadGEM2-CC</td>\n",
       "      <td>historical</td>\n",
       "      <td>r2i1p1</td>\n",
       "      <td>20041201-20051130</td>\n",
       "      <td>day</td>\n",
       "      <td>atmos</td>\n",
       "      <td>v20111129</td>\n",
       "      <td>MOHC</td>\n",
       "      <td>output1</td>\n",
       "    </tr>\n",
       "    <tr>\n",
       "      <td>2</td>\n",
       "      <td>/work/kd0956/CMIP5/data/cmip5/output1/MOHC/Had...</td>\n",
       "      <td>rhs</td>\n",
       "      <td>day</td>\n",
       "      <td>HadGEM2-CC</td>\n",
       "      <td>historical</td>\n",
       "      <td>r2i1p1</td>\n",
       "      <td>19791201-19841130</td>\n",
       "      <td>day</td>\n",
       "      <td>atmos</td>\n",
       "      <td>v20111129</td>\n",
       "      <td>MOHC</td>\n",
       "      <td>output1</td>\n",
       "    </tr>\n",
       "    <tr>\n",
       "      <td>3</td>\n",
       "      <td>/work/kd0956/CMIP5/data/cmip5/output1/MOHC/Had...</td>\n",
       "      <td>rhs</td>\n",
       "      <td>day</td>\n",
       "      <td>HadGEM2-CC</td>\n",
       "      <td>historical</td>\n",
       "      <td>r2i1p1</td>\n",
       "      <td>19591201-19641130</td>\n",
       "      <td>day</td>\n",
       "      <td>atmos</td>\n",
       "      <td>v20111129</td>\n",
       "      <td>MOHC</td>\n",
       "      <td>output1</td>\n",
       "    </tr>\n",
       "    <tr>\n",
       "      <td>4</td>\n",
       "      <td>/work/kd0956/CMIP5/data/cmip5/output1/MOHC/Had...</td>\n",
       "      <td>rhs</td>\n",
       "      <td>day</td>\n",
       "      <td>HadGEM2-CC</td>\n",
       "      <td>historical</td>\n",
       "      <td>r2i1p1</td>\n",
       "      <td>19841201-19891130</td>\n",
       "      <td>day</td>\n",
       "      <td>atmos</td>\n",
       "      <td>v20111129</td>\n",
       "      <td>MOHC</td>\n",
       "      <td>output1</td>\n",
       "    </tr>\n",
       "  </tbody>\n",
       "</table>\n",
       "</div>"
      ],
      "text/plain": [
       "                                                path variable mip_table  \\\n",
       "0  /work/kd0956/CMIP5/data/cmip5/output1/MOHC/Had...      rhs       day   \n",
       "1  /work/kd0956/CMIP5/data/cmip5/output1/MOHC/Had...      rhs       day   \n",
       "2  /work/kd0956/CMIP5/data/cmip5/output1/MOHC/Had...      rhs       day   \n",
       "3  /work/kd0956/CMIP5/data/cmip5/output1/MOHC/Had...      rhs       day   \n",
       "4  /work/kd0956/CMIP5/data/cmip5/output1/MOHC/Had...      rhs       day   \n",
       "\n",
       "        model  experiment ensemble_member    temporal_subset frequency  \\\n",
       "0  HadGEM2-CC  historical          r2i1p1  19991201-20041130       day   \n",
       "1  HadGEM2-CC  historical          r2i1p1  20041201-20051130       day   \n",
       "2  HadGEM2-CC  historical          r2i1p1  19791201-19841130       day   \n",
       "3  HadGEM2-CC  historical          r2i1p1  19591201-19641130       day   \n",
       "4  HadGEM2-CC  historical          r2i1p1  19841201-19891130       day   \n",
       "\n",
       "  modeling_realm    version institute product_id  \n",
       "0          atmos  v20111129      MOHC    output1  \n",
       "1          atmos  v20111129      MOHC    output1  \n",
       "2          atmos  v20111129      MOHC    output1  \n",
       "3          atmos  v20111129      MOHC    output1  \n",
       "4          atmos  v20111129      MOHC    output1  "
      ]
     },
     "execution_count": 28,
     "metadata": {},
     "output_type": "execute_result"
    }
   ],
   "source": [
    "df.head()"
   ]
  },
  {
   "cell_type": "code",
   "execution_count": 29,
   "metadata": {},
   "outputs": [
    {
     "data": {
      "text/plain": [
       "(12,)"
      ]
     },
     "execution_count": 29,
     "metadata": {},
     "output_type": "execute_result"
    }
   ],
   "source": [
    "df.columns.shape"
   ]
  },
  {
   "cell_type": "code",
   "execution_count": 30,
   "metadata": {},
   "outputs": [
    {
     "data": {
      "text/html": [
       "<div>\n",
       "<style scoped>\n",
       "    .dataframe tbody tr th:only-of-type {\n",
       "        vertical-align: middle;\n",
       "    }\n",
       "\n",
       "    .dataframe tbody tr th {\n",
       "        vertical-align: top;\n",
       "    }\n",
       "\n",
       "    .dataframe thead th {\n",
       "        text-align: right;\n",
       "    }\n",
       "</style>\n",
       "<table border=\"1\" class=\"dataframe\">\n",
       "  <thead>\n",
       "    <tr style=\"text-align: right;\">\n",
       "      <th></th>\n",
       "      <th>product_id</th>\n",
       "      <th>institute</th>\n",
       "      <th>model</th>\n",
       "      <th>experiment</th>\n",
       "      <th>frequency</th>\n",
       "      <th>modeling_realm</th>\n",
       "      <th>mip_table</th>\n",
       "      <th>ensemble_member</th>\n",
       "      <th>variable</th>\n",
       "      <th>temporal_subset</th>\n",
       "      <th>version</th>\n",
       "      <th>path</th>\n",
       "    </tr>\n",
       "  </thead>\n",
       "  <tbody>\n",
       "    <tr>\n",
       "      <td>0</td>\n",
       "      <td>output1</td>\n",
       "      <td>MOHC</td>\n",
       "      <td>HadGEM2-CC</td>\n",
       "      <td>historical</td>\n",
       "      <td>day</td>\n",
       "      <td>atmos</td>\n",
       "      <td>day</td>\n",
       "      <td>r2i1p1</td>\n",
       "      <td>rhs</td>\n",
       "      <td>19991201-20041130</td>\n",
       "      <td>v20111129</td>\n",
       "      <td>/work/kd0956/CMIP5/data/cmip5/output1/MOHC/Had...</td>\n",
       "    </tr>\n",
       "    <tr>\n",
       "      <td>1</td>\n",
       "      <td>output1</td>\n",
       "      <td>MOHC</td>\n",
       "      <td>HadGEM2-CC</td>\n",
       "      <td>historical</td>\n",
       "      <td>day</td>\n",
       "      <td>atmos</td>\n",
       "      <td>day</td>\n",
       "      <td>r2i1p1</td>\n",
       "      <td>rhs</td>\n",
       "      <td>20041201-20051130</td>\n",
       "      <td>v20111129</td>\n",
       "      <td>/work/kd0956/CMIP5/data/cmip5/output1/MOHC/Had...</td>\n",
       "    </tr>\n",
       "    <tr>\n",
       "      <td>2</td>\n",
       "      <td>output1</td>\n",
       "      <td>MOHC</td>\n",
       "      <td>HadGEM2-CC</td>\n",
       "      <td>historical</td>\n",
       "      <td>day</td>\n",
       "      <td>atmos</td>\n",
       "      <td>day</td>\n",
       "      <td>r2i1p1</td>\n",
       "      <td>rhs</td>\n",
       "      <td>19791201-19841130</td>\n",
       "      <td>v20111129</td>\n",
       "      <td>/work/kd0956/CMIP5/data/cmip5/output1/MOHC/Had...</td>\n",
       "    </tr>\n",
       "    <tr>\n",
       "      <td>3</td>\n",
       "      <td>output1</td>\n",
       "      <td>MOHC</td>\n",
       "      <td>HadGEM2-CC</td>\n",
       "      <td>historical</td>\n",
       "      <td>day</td>\n",
       "      <td>atmos</td>\n",
       "      <td>day</td>\n",
       "      <td>r2i1p1</td>\n",
       "      <td>rhs</td>\n",
       "      <td>19591201-19641130</td>\n",
       "      <td>v20111129</td>\n",
       "      <td>/work/kd0956/CMIP5/data/cmip5/output1/MOHC/Had...</td>\n",
       "    </tr>\n",
       "    <tr>\n",
       "      <td>4</td>\n",
       "      <td>output1</td>\n",
       "      <td>MOHC</td>\n",
       "      <td>HadGEM2-CC</td>\n",
       "      <td>historical</td>\n",
       "      <td>day</td>\n",
       "      <td>atmos</td>\n",
       "      <td>day</td>\n",
       "      <td>r2i1p1</td>\n",
       "      <td>rhs</td>\n",
       "      <td>19841201-19891130</td>\n",
       "      <td>v20111129</td>\n",
       "      <td>/work/kd0956/CMIP5/data/cmip5/output1/MOHC/Had...</td>\n",
       "    </tr>\n",
       "  </tbody>\n",
       "</table>\n",
       "</div>"
      ],
      "text/plain": [
       "  product_id institute       model  experiment frequency modeling_realm  \\\n",
       "0    output1      MOHC  HadGEM2-CC  historical       day          atmos   \n",
       "1    output1      MOHC  HadGEM2-CC  historical       day          atmos   \n",
       "2    output1      MOHC  HadGEM2-CC  historical       day          atmos   \n",
       "3    output1      MOHC  HadGEM2-CC  historical       day          atmos   \n",
       "4    output1      MOHC  HadGEM2-CC  historical       day          atmos   \n",
       "\n",
       "  mip_table ensemble_member variable    temporal_subset    version  \\\n",
       "0       day          r2i1p1      rhs  19991201-20041130  v20111129   \n",
       "1       day          r2i1p1      rhs  20041201-20051130  v20111129   \n",
       "2       day          r2i1p1      rhs  19791201-19841130  v20111129   \n",
       "3       day          r2i1p1      rhs  19591201-19641130  v20111129   \n",
       "4       day          r2i1p1      rhs  19841201-19891130  v20111129   \n",
       "\n",
       "                                                path  \n",
       "0  /work/kd0956/CMIP5/data/cmip5/output1/MOHC/Had...  \n",
       "1  /work/kd0956/CMIP5/data/cmip5/output1/MOHC/Had...  \n",
       "2  /work/kd0956/CMIP5/data/cmip5/output1/MOHC/Had...  \n",
       "3  /work/kd0956/CMIP5/data/cmip5/output1/MOHC/Had...  \n",
       "4  /work/kd0956/CMIP5/data/cmip5/output1/MOHC/Had...  "
      ]
     },
     "execution_count": 30,
     "metadata": {},
     "output_type": "execute_result"
    }
   ],
   "source": [
    "# Re-arange columns\n",
    "columns = [\n",
    "    \"product_id\",\n",
    "    \"institute\",\n",
    "    \"model\",\n",
    "    \"experiment\",\n",
    "    \"frequency\",\n",
    "    \"modeling_realm\",\n",
    "    \"mip_table\",\n",
    "    \"ensemble_member\",\n",
    "    \"variable\",\n",
    "    \"temporal_subset\",\n",
    "    \"version\",\n",
    "    \"path\",\n",
    "]\n",
    "df = df[columns]\n",
    "df.head()"
   ]
  },
  {
   "cell_type": "code",
   "execution_count": 31,
   "metadata": {},
   "outputs": [],
   "source": [
    "df.to_csv(\"../catalogs/mistral-cmip5.csv.gz\", compression=\"gzip\", index=False)"
   ]
  },
  {
   "cell_type": "code",
   "execution_count": null,
   "metadata": {},
   "outputs": [],
   "source": []
  }
 ],
 "metadata": {
  "file_extension": ".py",
  "kernelspec": {
   "display_name": "Python [conda env:intake-esm-dev]",
   "language": "python",
   "name": "conda-env-intake-esm-dev-py"
  },
  "language_info": {
   "codemirror_mode": {
    "name": "ipython",
    "version": 3
   },
   "file_extension": ".py",
   "mimetype": "text/x-python",
   "name": "python",
   "nbconvert_exporter": "python",
   "pygments_lexer": "ipython3",
   "version": "3.7.3"
  },
  "mimetype": "text/x-python",
  "name": "python",
  "npconvert_exporter": "python",
  "pygments_lexer": "ipython3",
  "version": 3
 },
 "nbformat": 4,
 "nbformat_minor": 4
}
