{
 "cells": [
  {
   "cell_type": "code",
   "execution_count": 1,
   "metadata": {},
   "outputs": [],
   "source": [
    "import pandas as pd\n",
    "from intake.source.utils import reverse_format\n",
    "from tqdm.auto import tqdm\n",
    "import s3fs"
   ]
  },
  {
   "cell_type": "markdown",
   "metadata": {},
   "source": [
    "## Get list of available Zarr Stores"
   ]
  },
  {
   "cell_type": "code",
   "execution_count": 2,
   "metadata": {},
   "outputs": [],
   "source": [
    "def get_file_list():\n",
    "    root = \"s3://ncar-cesm-lens\"\n",
    "    fs = s3fs.S3FileSystem(anon=True)\n",
    "    components = fs.ls(root)\n",
    "    stores = []\n",
    "    for component in tqdm(components):\n",
    "        freq = fs.ls(component)[1:]\n",
    "        for f in freq:\n",
    "            print(f)\n",
    "            objects = fs.glob(f\"{f}/*.zarr\")\n",
    "            stores.extend(objects)\n",
    "    return stores"
   ]
  },
  {
   "cell_type": "code",
   "execution_count": 3,
   "metadata": {},
   "outputs": [
    {
     "data": {
      "application/vnd.jupyter.widget-view+json": {
       "model_id": "b465969a76694902b8c32f393815ac8f",
       "version_major": 2,
       "version_minor": 0
      },
      "text/plain": [
       "HBox(children=(IntProgress(value=0, max=5), HTML(value='')))"
      ]
     },
     "metadata": {},
     "output_type": "display_data"
    },
    {
     "name": "stdout",
     "output_type": "stream",
     "text": [
      "ncar-cesm-lens/atm/daily\n",
      "ncar-cesm-lens/atm/hourly6-1990-2005\n",
      "ncar-cesm-lens/atm/hourly6-2026-2035\n",
      "ncar-cesm-lens/atm/hourly6-2071-2080\n",
      "ncar-cesm-lens/atm/monthly\n",
      "ncar-cesm-lens/ice_nh/daily\n",
      "ncar-cesm-lens/ice_nh/monthly\n",
      "ncar-cesm-lens/ice_sh/daily\n",
      "ncar-cesm-lens/ice_sh/monthly\n",
      "ncar-cesm-lens/lnd/daily\n",
      "ncar-cesm-lens/lnd/monthly\n",
      "ncar-cesm-lens/ocn/monthly\n",
      "\n"
     ]
    }
   ],
   "source": [
    "stores = get_file_list()"
   ]
  },
  {
   "cell_type": "code",
   "execution_count": 4,
   "metadata": {},
   "outputs": [
    {
     "data": {
      "text/plain": [
       "['ncar-cesm-lens/atm/daily/cesmLE-20C-FLNS.zarr',\n",
       " 'ncar-cesm-lens/atm/daily/cesmLE-20C-FLNSC.zarr']"
      ]
     },
     "execution_count": 4,
     "metadata": {},
     "output_type": "execute_result"
    }
   ],
   "source": [
    "stores[0:2]"
   ]
  },
  {
   "cell_type": "code",
   "execution_count": 5,
   "metadata": {},
   "outputs": [
    {
     "data": {
      "text/plain": [
       "['s3://ncar-cesm-lens/atm/daily/cesmLE-20C-FLNS.zarr',\n",
       " 's3://ncar-cesm-lens/atm/daily/cesmLE-20C-FLNSC.zarr']"
      ]
     },
     "execution_count": 5,
     "metadata": {},
     "output_type": "execute_result"
    }
   ],
   "source": [
    "stores = [f\"s3://{store}\" for store in stores]\n",
    "stores[0:2]"
   ]
  },
  {
   "cell_type": "markdown",
   "metadata": {},
   "source": [
    "\n",
    "## Extract attributes of zarr stores\n"
   ]
  },
  {
   "cell_type": "code",
   "execution_count": 6,
   "metadata": {},
   "outputs": [
    {
     "data": {
      "text/plain": [
       "'s3://ncar-cesm-lens/atm/daily/cesmLE-20C-FLNSC.zarr'"
      ]
     },
     "execution_count": 6,
     "metadata": {},
     "output_type": "execute_result"
    }
   ],
   "source": [
    "stores[1]"
   ]
  },
  {
   "cell_type": "code",
   "execution_count": 7,
   "metadata": {},
   "outputs": [],
   "source": [
    "template = \"s3://ncar-cesm-lens/{component}/{frequency}/cesmLE-{experiment}-{variable}.zarr\"\n",
    "\n",
    "\n",
    "def get_attrs(store):\n",
    "    f = reverse_format(template, store)\n",
    "    f['path'] = store\n",
    "    return f"
   ]
  },
  {
   "cell_type": "code",
   "execution_count": 8,
   "metadata": {},
   "outputs": [
    {
     "data": {
      "text/plain": [
       "{'component': 'atm',\n",
       " 'frequency': 'daily',\n",
       " 'experiment': '20C',\n",
       " 'variable': 'FLNSC',\n",
       " 'path': 's3://ncar-cesm-lens/atm/daily/cesmLE-20C-FLNSC.zarr'}"
      ]
     },
     "execution_count": 8,
     "metadata": {},
     "output_type": "execute_result"
    }
   ],
   "source": [
    "get_attrs(stores[1])"
   ]
  },
  {
   "cell_type": "code",
   "execution_count": 9,
   "metadata": {},
   "outputs": [
    {
     "name": "stdout",
     "output_type": "stream",
     "text": [
      "CPU times: user 2.96 ms, sys: 0 ns, total: 2.96 ms\n",
      "Wall time: 2.96 ms\n"
     ]
    }
   ],
   "source": [
    "%%time\n",
    "entries = list(map(get_attrs, stores))"
   ]
  },
  {
   "cell_type": "code",
   "execution_count": 10,
   "metadata": {},
   "outputs": [
    {
     "data": {
      "text/plain": [
       "{'component': 'atm',\n",
       " 'frequency': 'daily',\n",
       " 'experiment': '20C',\n",
       " 'variable': 'FLNS',\n",
       " 'path': 's3://ncar-cesm-lens/atm/daily/cesmLE-20C-FLNS.zarr'}"
      ]
     },
     "execution_count": 10,
     "metadata": {},
     "output_type": "execute_result"
    }
   ],
   "source": [
    "entries[0]"
   ]
  },
  {
   "cell_type": "code",
   "execution_count": 11,
   "metadata": {},
   "outputs": [
    {
     "data": {
      "text/html": [
       "<div>\n",
       "<style scoped>\n",
       "    .dataframe tbody tr th:only-of-type {\n",
       "        vertical-align: middle;\n",
       "    }\n",
       "\n",
       "    .dataframe tbody tr th {\n",
       "        vertical-align: top;\n",
       "    }\n",
       "\n",
       "    .dataframe thead th {\n",
       "        text-align: right;\n",
       "    }\n",
       "</style>\n",
       "<table border=\"1\" class=\"dataframe\">\n",
       "  <thead>\n",
       "    <tr style=\"text-align: right;\">\n",
       "      <th></th>\n",
       "      <th>component</th>\n",
       "      <th>frequency</th>\n",
       "      <th>experiment</th>\n",
       "      <th>variable</th>\n",
       "      <th>path</th>\n",
       "    </tr>\n",
       "  </thead>\n",
       "  <tbody>\n",
       "    <tr>\n",
       "      <td>0</td>\n",
       "      <td>atm</td>\n",
       "      <td>daily</td>\n",
       "      <td>20C</td>\n",
       "      <td>FLNS</td>\n",
       "      <td>s3://ncar-cesm-lens/atm/daily/cesmLE-20C-FLNS....</td>\n",
       "    </tr>\n",
       "    <tr>\n",
       "      <td>1</td>\n",
       "      <td>atm</td>\n",
       "      <td>daily</td>\n",
       "      <td>20C</td>\n",
       "      <td>FLNSC</td>\n",
       "      <td>s3://ncar-cesm-lens/atm/daily/cesmLE-20C-FLNSC...</td>\n",
       "    </tr>\n",
       "    <tr>\n",
       "      <td>2</td>\n",
       "      <td>atm</td>\n",
       "      <td>daily</td>\n",
       "      <td>20C</td>\n",
       "      <td>FLUT</td>\n",
       "      <td>s3://ncar-cesm-lens/atm/daily/cesmLE-20C-FLUT....</td>\n",
       "    </tr>\n",
       "    <tr>\n",
       "      <td>3</td>\n",
       "      <td>atm</td>\n",
       "      <td>daily</td>\n",
       "      <td>20C</td>\n",
       "      <td>FSNS</td>\n",
       "      <td>s3://ncar-cesm-lens/atm/daily/cesmLE-20C-FSNS....</td>\n",
       "    </tr>\n",
       "    <tr>\n",
       "      <td>4</td>\n",
       "      <td>atm</td>\n",
       "      <td>daily</td>\n",
       "      <td>20C</td>\n",
       "      <td>FSNSC</td>\n",
       "      <td>s3://ncar-cesm-lens/atm/daily/cesmLE-20C-FSNSC...</td>\n",
       "    </tr>\n",
       "  </tbody>\n",
       "</table>\n",
       "</div>"
      ],
      "text/plain": [
       "  component frequency experiment variable  \\\n",
       "0       atm     daily        20C     FLNS   \n",
       "1       atm     daily        20C    FLNSC   \n",
       "2       atm     daily        20C     FLUT   \n",
       "3       atm     daily        20C     FSNS   \n",
       "4       atm     daily        20C    FSNSC   \n",
       "\n",
       "                                                path  \n",
       "0  s3://ncar-cesm-lens/atm/daily/cesmLE-20C-FLNS....  \n",
       "1  s3://ncar-cesm-lens/atm/daily/cesmLE-20C-FLNSC...  \n",
       "2  s3://ncar-cesm-lens/atm/daily/cesmLE-20C-FLUT....  \n",
       "3  s3://ncar-cesm-lens/atm/daily/cesmLE-20C-FSNS....  \n",
       "4  s3://ncar-cesm-lens/atm/daily/cesmLE-20C-FSNSC...  "
      ]
     },
     "execution_count": 11,
     "metadata": {},
     "output_type": "execute_result"
    }
   ],
   "source": [
    "df = pd.DataFrame(entries)\n",
    "df = df.drop_duplicates(subset=['path'], keep='last').reset_index(drop=True)\n",
    "df.head()"
   ]
  },
  {
   "cell_type": "code",
   "execution_count": 12,
   "metadata": {},
   "outputs": [
    {
     "data": {
      "text/plain": [
       "278"
      ]
     },
     "execution_count": 12,
     "metadata": {},
     "output_type": "execute_result"
    }
   ],
   "source": [
    "len(df)"
   ]
  },
  {
   "cell_type": "code",
   "execution_count": 13,
   "metadata": {},
   "outputs": [
    {
     "data": {
      "text/plain": [
       "array(['atm', 'ice_nh', 'ice_sh', 'lnd', 'ocn'], dtype=object)"
      ]
     },
     "execution_count": 13,
     "metadata": {},
     "output_type": "execute_result"
    }
   ],
   "source": [
    "df.component.unique()"
   ]
  },
  {
   "cell_type": "code",
   "execution_count": 14,
   "metadata": {},
   "outputs": [],
   "source": [
    "df.to_csv(\"../catalogs/aws-cesm1-le.csv.gz\", compression=\"gzip\", index=False)"
   ]
  },
  {
   "cell_type": "code",
   "execution_count": null,
   "metadata": {},
   "outputs": [],
   "source": []
  }
 ],
 "metadata": {
  "file_extension": ".py",
  "kernelspec": {
   "display_name": "Python [conda env:analysis]",
   "language": "python",
   "name": "conda-env-analysis-py"
  },
  "language_info": {
   "codemirror_mode": {
    "name": "ipython",
    "version": 3
   },
   "file_extension": ".py",
   "mimetype": "text/x-python",
   "name": "python",
   "nbconvert_exporter": "python",
   "pygments_lexer": "ipython3",
   "version": "3.7.3"
  },
  "mimetype": "text/x-python",
  "name": "python",
  "npconvert_exporter": "python",
  "pygments_lexer": "ipython3",
  "version": 3
 },
 "nbformat": 4,
 "nbformat_minor": 4
}
