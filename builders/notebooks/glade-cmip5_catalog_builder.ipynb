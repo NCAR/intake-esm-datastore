{
 "cells": [
  {
   "cell_type": "code",
   "execution_count": 1,
   "metadata": {},
   "outputs": [],
   "source": [
    "import pandas as pd\n",
    "import fnmatch\n",
    "import dask.dataframe as dd\n",
    "from intake.source.utils import reverse_format\n",
    "import os\n",
    "import re\n",
    "import subprocess\n",
    "from tqdm.auto import tqdm\n",
    "from pathlib import Path\n",
    "import shutil\n",
    "import numpy as np"
   ]
  },
  {
   "cell_type": "markdown",
   "metadata": {},
   "source": [
    "## Create text file containing all files available"
   ]
  },
  {
   "cell_type": "code",
   "execution_count": 2,
   "metadata": {},
   "outputs": [],
   "source": [
    "def get_file_list(persist_path):\n",
    "    root = Path(\"/glade/collections/cmip/cmip5/\")\n",
    "    p_path = Path(persist_path)\n",
    "    p_path.mkdir(exist_ok=True)\n",
    "    dirs = [x for x in root.iterdir() if x.is_dir()]\n",
    "    for directory in tqdm(dirs):\n",
    "        print(directory)\n",
    "        stem = directory.stem\n",
    "        f = open(f\"{persist_path}/{stem}.txt\", \"w\")\n",
    "        cmd = [\"find\", \"-L\", directory.as_posix(), \"-name\", \"*.nc\"]\n",
    "        p = subprocess.Popen(cmd, stderr=subprocess.PIPE, stdout=f)\n",
    "        p.wait()\n",
    "        "
   ]
  },
  {
   "cell_type": "code",
   "execution_count": 3,
   "metadata": {},
   "outputs": [],
   "source": [
    "persist_path = \"./CMIP5_filelist\"\n",
    "#get_file_list(persist_path)"
   ]
  },
  {
   "cell_type": "markdown",
   "metadata": {},
   "source": [
    "\n",
    "## Extract attributes of a file using information from CMIP5 DRS.\n",
    "\n",
    "\n",
    "\n",
    "Reference:\n",
    "- CMIP5 DRS: https://pcmdi.llnl.gov/mips/cmip5/docs/cmip5_data_reference_syntax.pdf?id=27\n",
    "\n",
    "Directory:\n",
    "```\n",
    "  <activity>/\n",
    "    <product>/\n",
    "        <institute>/\n",
    "            <model>/\n",
    "                <experiment>/\n",
    "                    <frequency>/\n",
    "                        <modeling realm>/\n",
    "                            <MIP table>/\n",
    "                                <ensemble member>/\n",
    "                                    <version number>/\n",
    "                                        <variable name>/\n",
    "                                            <CMOR filename>.nc\n",
    "```\n",
    "                                                \n",
    "CMOR filename: `<variable name>_<MIP table>_<model>_<experiment>_ <ensemble member>[_<temporal subset>][_<geographical info>].nc`\n",
    "\"\"\""
   ]
  },
  {
   "cell_type": "code",
   "execution_count": 4,
   "metadata": {},
   "outputs": [
    {
     "data": {
      "text/plain": [
       "['output1', 'output2', 'output']"
      ]
     },
     "execution_count": 4,
     "metadata": {},
     "output_type": "execute_result"
    }
   ],
   "source": [
    "products = list(Path(persist_path).rglob(\"*.txt\"))\n",
    "products = [product.stem for product in products]\n",
    "products"
   ]
  },
  {
   "cell_type": "code",
   "execution_count": 5,
   "metadata": {},
   "outputs": [
    {
     "data": {
      "text/html": [
       "<div>\n",
       "<style scoped>\n",
       "    .dataframe tbody tr th:only-of-type {\n",
       "        vertical-align: middle;\n",
       "    }\n",
       "\n",
       "    .dataframe tbody tr th {\n",
       "        vertical-align: top;\n",
       "    }\n",
       "\n",
       "    .dataframe thead th {\n",
       "        text-align: right;\n",
       "    }\n",
       "</style>\n",
       "<table border=\"1\" class=\"dataframe\">\n",
       "  <thead>\n",
       "    <tr style=\"text-align: right;\">\n",
       "      <th></th>\n",
       "      <th>path</th>\n",
       "    </tr>\n",
       "  </thead>\n",
       "  <tbody>\n",
       "    <tr>\n",
       "      <td>0</td>\n",
       "      <td>/glade/collections/cmip/cmip5/output/CCCma/Can...</td>\n",
       "    </tr>\n",
       "    <tr>\n",
       "      <td>1</td>\n",
       "      <td>/glade/collections/cmip/cmip5/output/CCCma/Can...</td>\n",
       "    </tr>\n",
       "    <tr>\n",
       "      <td>2</td>\n",
       "      <td>/glade/collections/cmip/cmip5/output/CCCma/Can...</td>\n",
       "    </tr>\n",
       "    <tr>\n",
       "      <td>3</td>\n",
       "      <td>/glade/collections/cmip/cmip5/output/CCCma/Can...</td>\n",
       "    </tr>\n",
       "    <tr>\n",
       "      <td>4</td>\n",
       "      <td>/glade/collections/cmip/cmip5/output/CCCma/Can...</td>\n",
       "    </tr>\n",
       "  </tbody>\n",
       "</table>\n",
       "</div>"
      ],
      "text/plain": [
       "                                                path\n",
       "0  /glade/collections/cmip/cmip5/output/CCCma/Can...\n",
       "1  /glade/collections/cmip/cmip5/output/CCCma/Can...\n",
       "2  /glade/collections/cmip/cmip5/output/CCCma/Can...\n",
       "3  /glade/collections/cmip/cmip5/output/CCCma/Can...\n",
       "4  /glade/collections/cmip/cmip5/output/CCCma/Can..."
      ]
     },
     "execution_count": 5,
     "metadata": {},
     "output_type": "execute_result"
    }
   ],
   "source": [
    "df = dd.read_csv(f\"{persist_path}/*.txt\", header=None).compute()\n",
    "df.columns = [\"path\"]\n",
    "df.head()"
   ]
  },
  {
   "cell_type": "code",
   "execution_count": 6,
   "metadata": {},
   "outputs": [
    {
     "data": {
      "text/plain": [
       "927318"
      ]
     },
     "execution_count": 6,
     "metadata": {},
     "output_type": "execute_result"
    }
   ],
   "source": [
    "len(df)"
   ]
  },
  {
   "cell_type": "code",
   "execution_count": 7,
   "metadata": {},
   "outputs": [],
   "source": [
    "def _reverse_filename_format(file_basename, filename_template=None, gridspec_template=None):\n",
    "    \"\"\"\n",
    "    Uses intake's ``reverse_format`` utility to reverse the string method format.\n",
    "    Given format_string and resolved_string, find arguments\n",
    "    that would give format_string.format(arguments) == resolved_string\n",
    "    \"\"\"\n",
    "    try:\n",
    "        return reverse_format(filename_template, file_basename)\n",
    "    except ValueError:\n",
    "        try:\n",
    "            return reverse_format(gridspec_template, file_basename)\n",
    "        except:\n",
    "            print(\n",
    "                f'Failed to parse file: {file_basename} using patterns: {filename_template} and {gridspec_template}'\n",
    "            )\n",
    "            return {}\n",
    "            \n",
    "def _extract_attr_with_regex(input_str, regex, strip_chars=None):\n",
    "    pattern = re.compile(regex, re.IGNORECASE)\n",
    "    match = re.findall(pattern, input_str)\n",
    "    if match:\n",
    "        match = max(match, key=len)\n",
    "        if strip_chars:\n",
    "            match = match.strip(strip_chars)\n",
    "\n",
    "        else:\n",
    "            match = match.strip()\n",
    "\n",
    "        return match\n",
    "\n",
    "    else:\n",
    "        return None\n",
    "    \n",
    "\n",
    "exclude_patterns = ['*/files/*', '*/latest/*']\n",
    "def _filter_func(path):\n",
    "    return not any(\n",
    "        fnmatch.fnmatch(path, pat=exclude_pattern) for exclude_pattern in exclude_patterns\n",
    "    )\n",
    "\n"
   ]
  },
  {
   "cell_type": "code",
   "execution_count": 8,
   "metadata": {},
   "outputs": [
    {
     "name": "stdout",
     "output_type": "stream",
     "text": [
      "CPU times: user 3.47 s, sys: 47.9 ms, total: 3.52 s\n",
      "Wall time: 3.51 s\n"
     ]
    }
   ],
   "source": [
    "%%time\n",
    "files = df.path.tolist()\n",
    "filelist = list(filter(_filter_func, files))"
   ]
  },
  {
   "cell_type": "code",
   "execution_count": 9,
   "metadata": {},
   "outputs": [
    {
     "data": {
      "text/plain": [
       "629942"
      ]
     },
     "execution_count": 9,
     "metadata": {},
     "output_type": "execute_result"
    }
   ],
   "source": [
    "len(filelist)"
   ]
  },
  {
   "cell_type": "code",
   "execution_count": 10,
   "metadata": {},
   "outputs": [],
   "source": [
    "\n",
    "def get_attrs(filepath):\n",
    "    \"\"\" Extract attributes of a file using information from CMIP5 DRS.\n",
    "    Notes\n",
    "    -----\n",
    "    Reference:\n",
    "    - CMIP5 DRS: https://pcmdi.llnl.gov/mips/cmip5/docs/cmip5_data_reference_syntax.pdf?id=27\n",
    "    \"\"\"\n",
    "\n",
    "    fileparts = {}\n",
    "\n",
    "    freq_regex = r'/3hr/|/6hr/|/day/|/fx/|/mon/|/monClim/|/subhr/|/yr/'\n",
    "    realm_regex = r'aerosol|atmos|land|landIce|ocean|ocnBgchem|seaIce'\n",
    "    version_regex = r'v\\d{4}\\d{2}\\d{2}|v\\d{1}'\n",
    "\n",
    "    file_basename = os.path.basename(filepath)\n",
    "    fileparts['path'] = filepath\n",
    "\n",
    "    filename_template = (\n",
    "        '{variable}_{mip_table}_{model}_{experiment}_{ensemble_member}_{temporal_subset}.nc'\n",
    "    )\n",
    "    gridspec_template = '{variable}_{mip_table}_{model}_{experiment}_{ensemble_member}.nc'\n",
    "    f = _reverse_filename_format(\n",
    "        file_basename, filename_template=filename_template, gridspec_template=gridspec_template\n",
    "    )\n",
    "    fileparts.update(f)\n",
    "\n",
    "    frequency = _extract_attr_with_regex(\n",
    "        filepath, regex=freq_regex, strip_chars='/'\n",
    "    )\n",
    "    realm = _extract_attr_with_regex(filepath, regex=realm_regex)\n",
    "    version = _extract_attr_with_regex(filepath, regex=version_regex) or 'v0'\n",
    "    fileparts['frequency'] = frequency\n",
    "    fileparts['modeling_realm'] = realm\n",
    "    fileparts['version'] = version\n",
    "    try:\n",
    "        part1, part2 = os.path.dirname(filepath).split(fileparts['experiment'])\n",
    "        part1 = part1.strip(\"/\").split(\"/\")\n",
    "        fileparts['institute'] = part1[-2]\n",
    "        fileparts['product_id'] = part1[-3]\n",
    "    except Exception:\n",
    "        print(fileparts)\n",
    "    \n",
    "\n",
    "    return fileparts"
   ]
  },
  {
   "cell_type": "code",
   "execution_count": 11,
   "metadata": {},
   "outputs": [
    {
     "data": {
      "text/plain": [
       "{'path': '/glade/collections/cmip/cmip5/output/CCCma/CanCM4/historical/mon/atmos/r10i1p1/v20130331/hfls/hfls_Amon_CanCM4_historical_r10i1p1_196101-200512.nc',\n",
       " 'variable': 'hfls',\n",
       " 'mip_table': 'Amon',\n",
       " 'model': 'CanCM4',\n",
       " 'experiment': 'historical',\n",
       " 'ensemble_member': 'r10i1p1',\n",
       " 'temporal_subset': '196101-200512',\n",
       " 'frequency': 'mon',\n",
       " 'modeling_realm': 'atmos',\n",
       " 'version': 'v20130331',\n",
       " 'institute': 'CCCma',\n",
       " 'product_id': 'output'}"
      ]
     },
     "execution_count": 11,
     "metadata": {},
     "output_type": "execute_result"
    }
   ],
   "source": [
    "get_attrs(filelist[0])"
   ]
  },
  {
   "cell_type": "code",
   "execution_count": 12,
   "metadata": {},
   "outputs": [
    {
     "name": "stdout",
     "output_type": "stream",
     "text": [
      "CPU times: user 30.3 s, sys: 1.06 s, total: 31.4 s\n",
      "Wall time: 31.4 s\n"
     ]
    }
   ],
   "source": [
    "%%time\n",
    "entries = list(map(get_attrs, filelist))"
   ]
  },
  {
   "cell_type": "code",
   "execution_count": 13,
   "metadata": {},
   "outputs": [
    {
     "data": {
      "text/plain": [
       "{'path': '/glade/collections/cmip/cmip5/output/CCCma/CanCM4/historical/mon/atmos/r9i1p1/v20130331/tas/tas_Amon_CanCM4_historical_r9i1p1_196101-200512.nc',\n",
       " 'variable': 'tas',\n",
       " 'mip_table': 'Amon',\n",
       " 'model': 'CanCM4',\n",
       " 'experiment': 'historical',\n",
       " 'ensemble_member': 'r9i1p1',\n",
       " 'temporal_subset': '196101-200512',\n",
       " 'frequency': 'mon',\n",
       " 'modeling_realm': 'atmos',\n",
       " 'version': 'v20130331',\n",
       " 'institute': 'CCCma',\n",
       " 'product_id': 'output'}"
      ]
     },
     "execution_count": 13,
     "metadata": {},
     "output_type": "execute_result"
    }
   ],
   "source": [
    "entries[10]"
   ]
  },
  {
   "cell_type": "code",
   "execution_count": 14,
   "metadata": {},
   "outputs": [
    {
     "data": {
      "text/plain": [
       "629942"
      ]
     },
     "execution_count": 14,
     "metadata": {},
     "output_type": "execute_result"
    }
   ],
   "source": [
    "len(entries)"
   ]
  },
  {
   "cell_type": "code",
   "execution_count": 15,
   "metadata": {},
   "outputs": [
    {
     "data": {
      "text/html": [
       "<div>\n",
       "<style scoped>\n",
       "    .dataframe tbody tr th:only-of-type {\n",
       "        vertical-align: middle;\n",
       "    }\n",
       "\n",
       "    .dataframe tbody tr th {\n",
       "        vertical-align: top;\n",
       "    }\n",
       "\n",
       "    .dataframe thead th {\n",
       "        text-align: right;\n",
       "    }\n",
       "</style>\n",
       "<table border=\"1\" class=\"dataframe\">\n",
       "  <thead>\n",
       "    <tr style=\"text-align: right;\">\n",
       "      <th></th>\n",
       "      <th>path</th>\n",
       "      <th>variable</th>\n",
       "      <th>mip_table</th>\n",
       "      <th>model</th>\n",
       "      <th>experiment</th>\n",
       "      <th>ensemble_member</th>\n",
       "      <th>temporal_subset</th>\n",
       "      <th>frequency</th>\n",
       "      <th>modeling_realm</th>\n",
       "      <th>version</th>\n",
       "      <th>institute</th>\n",
       "      <th>product_id</th>\n",
       "    </tr>\n",
       "  </thead>\n",
       "  <tbody>\n",
       "    <tr>\n",
       "      <td>0</td>\n",
       "      <td>/glade/collections/cmip/cmip5/output/CCCma/Can...</td>\n",
       "      <td>hfls</td>\n",
       "      <td>Amon</td>\n",
       "      <td>CanCM4</td>\n",
       "      <td>historical</td>\n",
       "      <td>r10i1p1</td>\n",
       "      <td>196101-200512</td>\n",
       "      <td>mon</td>\n",
       "      <td>atmos</td>\n",
       "      <td>v20130331</td>\n",
       "      <td>CCCma</td>\n",
       "      <td>output</td>\n",
       "    </tr>\n",
       "    <tr>\n",
       "      <td>1</td>\n",
       "      <td>/glade/collections/cmip/cmip5/output/CCCma/Can...</td>\n",
       "      <td>tas</td>\n",
       "      <td>Amon</td>\n",
       "      <td>CanCM4</td>\n",
       "      <td>historical</td>\n",
       "      <td>r10i1p1</td>\n",
       "      <td>196101-200512</td>\n",
       "      <td>mon</td>\n",
       "      <td>atmos</td>\n",
       "      <td>v20130331</td>\n",
       "      <td>CCCma</td>\n",
       "      <td>output</td>\n",
       "    </tr>\n",
       "    <tr>\n",
       "      <td>2</td>\n",
       "      <td>/glade/collections/cmip/cmip5/output/CCCma/Can...</td>\n",
       "      <td>pr</td>\n",
       "      <td>Amon</td>\n",
       "      <td>CanCM4</td>\n",
       "      <td>historical</td>\n",
       "      <td>r10i1p1</td>\n",
       "      <td>196101-200512</td>\n",
       "      <td>mon</td>\n",
       "      <td>atmos</td>\n",
       "      <td>v20130331</td>\n",
       "      <td>CCCma</td>\n",
       "      <td>output</td>\n",
       "    </tr>\n",
       "    <tr>\n",
       "      <td>3</td>\n",
       "      <td>/glade/collections/cmip/cmip5/output/CCCma/Can...</td>\n",
       "      <td>hfls</td>\n",
       "      <td>Amon</td>\n",
       "      <td>CanCM4</td>\n",
       "      <td>historical</td>\n",
       "      <td>r1i1p1</td>\n",
       "      <td>196101-200512</td>\n",
       "      <td>mon</td>\n",
       "      <td>atmos</td>\n",
       "      <td>v20130331</td>\n",
       "      <td>CCCma</td>\n",
       "      <td>output</td>\n",
       "    </tr>\n",
       "    <tr>\n",
       "      <td>4</td>\n",
       "      <td>/glade/collections/cmip/cmip5/output/CCCma/Can...</td>\n",
       "      <td>tas</td>\n",
       "      <td>Amon</td>\n",
       "      <td>CanCM4</td>\n",
       "      <td>historical</td>\n",
       "      <td>r1i1p1</td>\n",
       "      <td>196101-200512</td>\n",
       "      <td>mon</td>\n",
       "      <td>atmos</td>\n",
       "      <td>v20130331</td>\n",
       "      <td>CCCma</td>\n",
       "      <td>output</td>\n",
       "    </tr>\n",
       "  </tbody>\n",
       "</table>\n",
       "</div>"
      ],
      "text/plain": [
       "                                                path variable mip_table  \\\n",
       "0  /glade/collections/cmip/cmip5/output/CCCma/Can...     hfls      Amon   \n",
       "1  /glade/collections/cmip/cmip5/output/CCCma/Can...      tas      Amon   \n",
       "2  /glade/collections/cmip/cmip5/output/CCCma/Can...       pr      Amon   \n",
       "3  /glade/collections/cmip/cmip5/output/CCCma/Can...     hfls      Amon   \n",
       "4  /glade/collections/cmip/cmip5/output/CCCma/Can...      tas      Amon   \n",
       "\n",
       "    model  experiment ensemble_member temporal_subset frequency  \\\n",
       "0  CanCM4  historical         r10i1p1   196101-200512       mon   \n",
       "1  CanCM4  historical         r10i1p1   196101-200512       mon   \n",
       "2  CanCM4  historical         r10i1p1   196101-200512       mon   \n",
       "3  CanCM4  historical          r1i1p1   196101-200512       mon   \n",
       "4  CanCM4  historical          r1i1p1   196101-200512       mon   \n",
       "\n",
       "  modeling_realm    version institute product_id  \n",
       "0          atmos  v20130331     CCCma     output  \n",
       "1          atmos  v20130331     CCCma     output  \n",
       "2          atmos  v20130331     CCCma     output  \n",
       "3          atmos  v20130331     CCCma     output  \n",
       "4          atmos  v20130331     CCCma     output  "
      ]
     },
     "execution_count": 15,
     "metadata": {},
     "output_type": "execute_result"
    }
   ],
   "source": [
    "df = pd.DataFrame(entries)\n",
    "df = df.drop_duplicates(subset=['path'], keep='last').reset_index(drop=True)\n",
    "df.head()"
   ]
  },
  {
   "cell_type": "code",
   "execution_count": 16,
   "metadata": {},
   "outputs": [
    {
     "data": {
      "text/plain": [
       "629942"
      ]
     },
     "execution_count": 16,
     "metadata": {},
     "output_type": "execute_result"
    }
   ],
   "source": [
    "len(df)"
   ]
  },
  {
   "cell_type": "code",
   "execution_count": 17,
   "metadata": {},
   "outputs": [
    {
     "data": {
      "text/html": [
       "<div>\n",
       "<style scoped>\n",
       "    .dataframe tbody tr th:only-of-type {\n",
       "        vertical-align: middle;\n",
       "    }\n",
       "\n",
       "    .dataframe tbody tr th {\n",
       "        vertical-align: top;\n",
       "    }\n",
       "\n",
       "    .dataframe thead th {\n",
       "        text-align: right;\n",
       "    }\n",
       "</style>\n",
       "<table border=\"1\" class=\"dataframe\">\n",
       "  <thead>\n",
       "    <tr style=\"text-align: right;\">\n",
       "      <th></th>\n",
       "      <th>path</th>\n",
       "      <th>variable</th>\n",
       "      <th>mip_table</th>\n",
       "      <th>model</th>\n",
       "      <th>experiment</th>\n",
       "      <th>ensemble_member</th>\n",
       "      <th>temporal_subset</th>\n",
       "      <th>frequency</th>\n",
       "      <th>modeling_realm</th>\n",
       "      <th>version</th>\n",
       "      <th>institute</th>\n",
       "      <th>product_id</th>\n",
       "    </tr>\n",
       "  </thead>\n",
       "  <tbody>\n",
       "  </tbody>\n",
       "</table>\n",
       "</div>"
      ],
      "text/plain": [
       "Empty DataFrame\n",
       "Columns: [path, variable, mip_table, model, experiment, ensemble_member, temporal_subset, frequency, modeling_realm, version, institute, product_id]\n",
       "Index: []"
      ]
     },
     "execution_count": 17,
     "metadata": {},
     "output_type": "execute_result"
    }
   ],
   "source": [
    "# Some entries are invalid\n",
    "invalids = df[~df.product_id.isin(products)]\n",
    "invalids\n",
    "#df = df[df.activity_id.isin(activity_ids)]"
   ]
  },
  {
   "cell_type": "code",
   "execution_count": 18,
   "metadata": {},
   "outputs": [
    {
     "data": {
      "text/plain": [
       "629942"
      ]
     },
     "execution_count": 18,
     "metadata": {},
     "output_type": "execute_result"
    }
   ],
   "source": [
    "df = df[df.product_id.isin(products)]\n",
    "len(df)"
   ]
  },
  {
   "cell_type": "code",
   "execution_count": 19,
   "metadata": {},
   "outputs": [
    {
     "data": {
      "text/plain": [
       "array(['r10i1p1', 'r1i1p1', 'r6i1p1', 'r9i1p1', 'r3i1p1', 'r5i1p1',\n",
       "       'r8i1p1', 'r2i1p1', 'r4i1p1', 'r7i1p1', 'r1i1p2', 'r1i1p4',\n",
       "       'r1i1p3', 'r1i2p1', 'r3i2p1', 'r2i2p1', 'r0i0p0', 'r4i2p1',\n",
       "       'r7i2p1', 'r9i2p1', 'r6i2p1', 'r8i2p1', 'r5i2p1', 'r10i2p1',\n",
       "       'r1i2p2', 'r4i1p14', 'r6i1p12', 'r4i1p10', 'r1i1p15', 'r6i1p14',\n",
       "       'r6i1p11', 'r1i1p16', 'r4i1p15', 'r4i1p11', 'r1i1p17', 'r1i1p11',\n",
       "       'r6i1p10', 'r6i1p17', 'r2i1p11', 'r1i1p12', 'r4i1p16', 'r1i1p10',\n",
       "       'r4i1p12', 'r6i1p16', 'r1i1p13', 'r6i1p13', 'r1i1p14', 'r6i1p15',\n",
       "       'r4i1p17', 'r3i1p13', 'r1i1p8', 'r1i1p7', 'r1i1p6', 'r1i1p5',\n",
       "       'r6i1p2', 'r6i1p3', 'r3i1p3', 'r4i1p3', 'r5i1p3', 'r5i1p2',\n",
       "       'r4i1p2', 'r3i1p2', 'r2i1p2', 'r2i1p3', 'r2i1p302', 'r1i1p109',\n",
       "       'r1i1p105', 'r1i1p101', 'r1i1p312', 'r4i1p114', 'r3i1p313',\n",
       "       'r3i1p106', 'r2i1p114', 'r3i1p309', 'r2i1p109', 'r5i1p303',\n",
       "       'r5i1p311', 'r1i1p104', 'r5i1p102', 'r3i1p101', 'r1i1p311',\n",
       "       'r1i1p3031', 'r5i1p313', 'r5i1p109', 'r5i1p104', 'r2i1p106',\n",
       "       'r2i1p313', 'r2i1p104', 'r2i1p311', 'r5i1p106', 'r1i1p103',\n",
       "       'r3i1p102', 'r5i1p114', 'r2i1p3031', 'r5i1p101', 'r1i1p310',\n",
       "       'r3i1p114', 'r5i1p108', 'r3i1p317', 'r2i1p101', 'r1i1p114',\n",
       "       'r2i1p303', 'r1i1p102', 'r4i1p106', 'r3i1p312', 'r3i1p105',\n",
       "       'r4i1p101', 'r4i1p3031', 'r2i1p317', 'r3i1p303', 'r4i1p107',\n",
       "       'r4i1p102', 'r3i1p108', 'r2i1p107', 'r2i1p105', 'r2i1p312',\n",
       "       'r2i1p309', 'r3i1p3031', 'r4i1p108', 'r1i1p309', 'r4i1p310',\n",
       "       'r3i1p109', 'r2i1p102', 'r5i1p302', 'r5i1p310', 'r4i1p103',\n",
       "       'r5i1p309', 'r5i1p317', 'r3i1p311', 'r5i1p312', 'r3i1p104',\n",
       "       'r5i1p103', 'r4i1p309', 'r4i1p109', 'r4i1p311', 'r5i1p105',\n",
       "       'r4i1p104', 'r1i1p108', 'r5i1p3031', 'r3i1p302', 'r5i1p107',\n",
       "       'r4i1p317', 'r3i1p107', 'r1i1p303', 'r2i1p108', 'r4i1p312',\n",
       "       'r1i1p107', 'r4i1p105', 'r4i1p302', 'r1i1p302', 'r2i1p103',\n",
       "       'r2i1p310', 'r4i1p313', 'r3i1p310', 'r1i1p106', 'r1i1p317',\n",
       "       'r3i1p103', 'r1i1p313', 'r4i1p303', 'r1i1p128', 'r1i1p127',\n",
       "       'r1i1p123', 'r1i1p126', 'r1i1p122', 'r1i1p125', 'r1i1p121',\n",
       "       'r1i1p124', 'r1i1p142', 'r1i1p141', 'r2i1p316', 'r3i1p316',\n",
       "       'r1i1p3001', 'r5i1p315', 'r4i1p3001', 'r3i1p315', 'r5i1p3001',\n",
       "       'r4i1p315', 'r3i1p3001', 'r4i1p316', 'r1i1p316', 'r5i1p316',\n",
       "       'r1i1p315', 'r2i1p315', 'r1i1p1221', 'r2i1p3001', 'r3i1p6',\n",
       "       'r2i1p4', 'r2i1p6', 'r7i1p5', 'r4i1p5', 'r8i1p2', 'r2i1p5',\n",
       "       'r7i1p3', 'r8i1p6', 'r9i1p5', 'r3i1p4', 'r9i1p4', 'r3i1p5',\n",
       "       'r10i1p6', 'r7i1p4', 'r5i1p6', 'r5i1p5', 'r4i1p6', 'r4i1p4',\n",
       "       'r5i1p4', 'r13i1p1', 'r11i1p1', 'r14i1p1', 'r12i1p1', 'r3i1p10',\n",
       "       'r3i1p16', 'r2i1p13', 'r2i1p17', 'r2i1p16', 'r2i1p10', 'r2i1p14',\n",
       "       'r3i1p14', 'r3i1p11', 'r2i1p12', 'r3i1p17'], dtype=object)"
      ]
     },
     "execution_count": 19,
     "metadata": {},
     "output_type": "execute_result"
    }
   ],
   "source": [
    "df.ensemble_member.unique()"
   ]
  },
  {
   "cell_type": "markdown",
   "metadata": {},
   "source": [
    "## Pick the latest versions only"
   ]
  },
  {
   "cell_type": "code",
   "execution_count": 20,
   "metadata": {},
   "outputs": [],
   "source": [
    "grpby = list(set(df.columns.tolist()) - {'path', 'version'})\n",
    "groups = df.groupby(grpby)"
   ]
  },
  {
   "cell_type": "code",
   "execution_count": 21,
   "metadata": {},
   "outputs": [
    {
     "name": "stdout",
     "output_type": "stream",
     "text": [
      "CPU times: user 2min 23s, sys: 3.86 s, total: 2min 26s\n",
      "Wall time: 2min 26s\n"
     ]
    }
   ],
   "source": [
    "%%time\n",
    "idx_to_remove = []\n",
    "for _, group in groups:\n",
    "    if group.version.nunique() > 1:\n",
    "        idx_to_remove.extend(group.sort_values(by=['version'], ascending=False).index[1:].values.tolist())"
   ]
  },
  {
   "cell_type": "code",
   "execution_count": 22,
   "metadata": {},
   "outputs": [
    {
     "data": {
      "text/plain": [
       "303368"
      ]
     },
     "execution_count": 22,
     "metadata": {},
     "output_type": "execute_result"
    }
   ],
   "source": [
    "len(idx_to_remove)"
   ]
  },
  {
   "cell_type": "code",
   "execution_count": 23,
   "metadata": {},
   "outputs": [
    {
     "data": {
      "text/plain": [
       "629942"
      ]
     },
     "execution_count": 23,
     "metadata": {},
     "output_type": "execute_result"
    }
   ],
   "source": [
    "len(df)"
   ]
  },
  {
   "cell_type": "code",
   "execution_count": 24,
   "metadata": {},
   "outputs": [
    {
     "data": {
      "text/plain": [
       "326574"
      ]
     },
     "execution_count": 24,
     "metadata": {},
     "output_type": "execute_result"
    }
   ],
   "source": [
    "df1 = df.copy()\n",
    "df = df.drop(index=idx_to_remove)\n",
    "len(df)"
   ]
  },
  {
   "cell_type": "code",
   "execution_count": 25,
   "metadata": {},
   "outputs": [
    {
     "data": {
      "text/html": [
       "<div>\n",
       "<style scoped>\n",
       "    .dataframe tbody tr th:only-of-type {\n",
       "        vertical-align: middle;\n",
       "    }\n",
       "\n",
       "    .dataframe tbody tr th {\n",
       "        vertical-align: top;\n",
       "    }\n",
       "\n",
       "    .dataframe thead th {\n",
       "        text-align: right;\n",
       "    }\n",
       "</style>\n",
       "<table border=\"1\" class=\"dataframe\">\n",
       "  <thead>\n",
       "    <tr style=\"text-align: right;\">\n",
       "      <th></th>\n",
       "      <th>path</th>\n",
       "      <th>variable</th>\n",
       "      <th>mip_table</th>\n",
       "      <th>model</th>\n",
       "      <th>experiment</th>\n",
       "      <th>ensemble_member</th>\n",
       "      <th>temporal_subset</th>\n",
       "      <th>frequency</th>\n",
       "      <th>modeling_realm</th>\n",
       "      <th>version</th>\n",
       "      <th>institute</th>\n",
       "      <th>product_id</th>\n",
       "    </tr>\n",
       "  </thead>\n",
       "  <tbody>\n",
       "    <tr>\n",
       "      <td>0</td>\n",
       "      <td>/glade/collections/cmip/cmip5/output/CCCma/Can...</td>\n",
       "      <td>hfls</td>\n",
       "      <td>Amon</td>\n",
       "      <td>CanCM4</td>\n",
       "      <td>historical</td>\n",
       "      <td>r10i1p1</td>\n",
       "      <td>196101-200512</td>\n",
       "      <td>mon</td>\n",
       "      <td>atmos</td>\n",
       "      <td>v20130331</td>\n",
       "      <td>CCCma</td>\n",
       "      <td>output</td>\n",
       "    </tr>\n",
       "    <tr>\n",
       "      <td>1</td>\n",
       "      <td>/glade/collections/cmip/cmip5/output/CCCma/Can...</td>\n",
       "      <td>tas</td>\n",
       "      <td>Amon</td>\n",
       "      <td>CanCM4</td>\n",
       "      <td>historical</td>\n",
       "      <td>r10i1p1</td>\n",
       "      <td>196101-200512</td>\n",
       "      <td>mon</td>\n",
       "      <td>atmos</td>\n",
       "      <td>v20130331</td>\n",
       "      <td>CCCma</td>\n",
       "      <td>output</td>\n",
       "    </tr>\n",
       "    <tr>\n",
       "      <td>2</td>\n",
       "      <td>/glade/collections/cmip/cmip5/output/CCCma/Can...</td>\n",
       "      <td>pr</td>\n",
       "      <td>Amon</td>\n",
       "      <td>CanCM4</td>\n",
       "      <td>historical</td>\n",
       "      <td>r10i1p1</td>\n",
       "      <td>196101-200512</td>\n",
       "      <td>mon</td>\n",
       "      <td>atmos</td>\n",
       "      <td>v20130331</td>\n",
       "      <td>CCCma</td>\n",
       "      <td>output</td>\n",
       "    </tr>\n",
       "    <tr>\n",
       "      <td>3</td>\n",
       "      <td>/glade/collections/cmip/cmip5/output/CCCma/Can...</td>\n",
       "      <td>hfls</td>\n",
       "      <td>Amon</td>\n",
       "      <td>CanCM4</td>\n",
       "      <td>historical</td>\n",
       "      <td>r1i1p1</td>\n",
       "      <td>196101-200512</td>\n",
       "      <td>mon</td>\n",
       "      <td>atmos</td>\n",
       "      <td>v20130331</td>\n",
       "      <td>CCCma</td>\n",
       "      <td>output</td>\n",
       "    </tr>\n",
       "    <tr>\n",
       "      <td>4</td>\n",
       "      <td>/glade/collections/cmip/cmip5/output/CCCma/Can...</td>\n",
       "      <td>tas</td>\n",
       "      <td>Amon</td>\n",
       "      <td>CanCM4</td>\n",
       "      <td>historical</td>\n",
       "      <td>r1i1p1</td>\n",
       "      <td>196101-200512</td>\n",
       "      <td>mon</td>\n",
       "      <td>atmos</td>\n",
       "      <td>v20130331</td>\n",
       "      <td>CCCma</td>\n",
       "      <td>output</td>\n",
       "    </tr>\n",
       "  </tbody>\n",
       "</table>\n",
       "</div>"
      ],
      "text/plain": [
       "                                                path variable mip_table  \\\n",
       "0  /glade/collections/cmip/cmip5/output/CCCma/Can...     hfls      Amon   \n",
       "1  /glade/collections/cmip/cmip5/output/CCCma/Can...      tas      Amon   \n",
       "2  /glade/collections/cmip/cmip5/output/CCCma/Can...       pr      Amon   \n",
       "3  /glade/collections/cmip/cmip5/output/CCCma/Can...     hfls      Amon   \n",
       "4  /glade/collections/cmip/cmip5/output/CCCma/Can...      tas      Amon   \n",
       "\n",
       "    model  experiment ensemble_member temporal_subset frequency  \\\n",
       "0  CanCM4  historical         r10i1p1   196101-200512       mon   \n",
       "1  CanCM4  historical         r10i1p1   196101-200512       mon   \n",
       "2  CanCM4  historical         r10i1p1   196101-200512       mon   \n",
       "3  CanCM4  historical          r1i1p1   196101-200512       mon   \n",
       "4  CanCM4  historical          r1i1p1   196101-200512       mon   \n",
       "\n",
       "  modeling_realm    version institute product_id  \n",
       "0          atmos  v20130331     CCCma     output  \n",
       "1          atmos  v20130331     CCCma     output  \n",
       "2          atmos  v20130331     CCCma     output  \n",
       "3          atmos  v20130331     CCCma     output  \n",
       "4          atmos  v20130331     CCCma     output  "
      ]
     },
     "execution_count": 25,
     "metadata": {},
     "output_type": "execute_result"
    }
   ],
   "source": [
    "df.head()"
   ]
  },
  {
   "cell_type": "code",
   "execution_count": 26,
   "metadata": {},
   "outputs": [
    {
     "data": {
      "text/plain": [
       "(12,)"
      ]
     },
     "execution_count": 26,
     "metadata": {},
     "output_type": "execute_result"
    }
   ],
   "source": [
    "df.columns.shape"
   ]
  },
  {
   "cell_type": "code",
   "execution_count": 27,
   "metadata": {},
   "outputs": [
    {
     "data": {
      "text/html": [
       "<div>\n",
       "<style scoped>\n",
       "    .dataframe tbody tr th:only-of-type {\n",
       "        vertical-align: middle;\n",
       "    }\n",
       "\n",
       "    .dataframe tbody tr th {\n",
       "        vertical-align: top;\n",
       "    }\n",
       "\n",
       "    .dataframe thead th {\n",
       "        text-align: right;\n",
       "    }\n",
       "</style>\n",
       "<table border=\"1\" class=\"dataframe\">\n",
       "  <thead>\n",
       "    <tr style=\"text-align: right;\">\n",
       "      <th></th>\n",
       "      <th>product_id</th>\n",
       "      <th>institute</th>\n",
       "      <th>model</th>\n",
       "      <th>experiment</th>\n",
       "      <th>frequency</th>\n",
       "      <th>modeling_realm</th>\n",
       "      <th>mip_table</th>\n",
       "      <th>ensemble_member</th>\n",
       "      <th>variable</th>\n",
       "      <th>temporal_subset</th>\n",
       "      <th>version</th>\n",
       "      <th>path</th>\n",
       "    </tr>\n",
       "  </thead>\n",
       "  <tbody>\n",
       "    <tr>\n",
       "      <td>0</td>\n",
       "      <td>output</td>\n",
       "      <td>CCCma</td>\n",
       "      <td>CanCM4</td>\n",
       "      <td>historical</td>\n",
       "      <td>mon</td>\n",
       "      <td>atmos</td>\n",
       "      <td>Amon</td>\n",
       "      <td>r10i1p1</td>\n",
       "      <td>hfls</td>\n",
       "      <td>196101-200512</td>\n",
       "      <td>v20130331</td>\n",
       "      <td>/glade/collections/cmip/cmip5/output/CCCma/Can...</td>\n",
       "    </tr>\n",
       "    <tr>\n",
       "      <td>1</td>\n",
       "      <td>output</td>\n",
       "      <td>CCCma</td>\n",
       "      <td>CanCM4</td>\n",
       "      <td>historical</td>\n",
       "      <td>mon</td>\n",
       "      <td>atmos</td>\n",
       "      <td>Amon</td>\n",
       "      <td>r10i1p1</td>\n",
       "      <td>tas</td>\n",
       "      <td>196101-200512</td>\n",
       "      <td>v20130331</td>\n",
       "      <td>/glade/collections/cmip/cmip5/output/CCCma/Can...</td>\n",
       "    </tr>\n",
       "    <tr>\n",
       "      <td>2</td>\n",
       "      <td>output</td>\n",
       "      <td>CCCma</td>\n",
       "      <td>CanCM4</td>\n",
       "      <td>historical</td>\n",
       "      <td>mon</td>\n",
       "      <td>atmos</td>\n",
       "      <td>Amon</td>\n",
       "      <td>r10i1p1</td>\n",
       "      <td>pr</td>\n",
       "      <td>196101-200512</td>\n",
       "      <td>v20130331</td>\n",
       "      <td>/glade/collections/cmip/cmip5/output/CCCma/Can...</td>\n",
       "    </tr>\n",
       "    <tr>\n",
       "      <td>3</td>\n",
       "      <td>output</td>\n",
       "      <td>CCCma</td>\n",
       "      <td>CanCM4</td>\n",
       "      <td>historical</td>\n",
       "      <td>mon</td>\n",
       "      <td>atmos</td>\n",
       "      <td>Amon</td>\n",
       "      <td>r1i1p1</td>\n",
       "      <td>hfls</td>\n",
       "      <td>196101-200512</td>\n",
       "      <td>v20130331</td>\n",
       "      <td>/glade/collections/cmip/cmip5/output/CCCma/Can...</td>\n",
       "    </tr>\n",
       "    <tr>\n",
       "      <td>4</td>\n",
       "      <td>output</td>\n",
       "      <td>CCCma</td>\n",
       "      <td>CanCM4</td>\n",
       "      <td>historical</td>\n",
       "      <td>mon</td>\n",
       "      <td>atmos</td>\n",
       "      <td>Amon</td>\n",
       "      <td>r1i1p1</td>\n",
       "      <td>tas</td>\n",
       "      <td>196101-200512</td>\n",
       "      <td>v20130331</td>\n",
       "      <td>/glade/collections/cmip/cmip5/output/CCCma/Can...</td>\n",
       "    </tr>\n",
       "  </tbody>\n",
       "</table>\n",
       "</div>"
      ],
      "text/plain": [
       "  product_id institute   model  experiment frequency modeling_realm mip_table  \\\n",
       "0     output     CCCma  CanCM4  historical       mon          atmos      Amon   \n",
       "1     output     CCCma  CanCM4  historical       mon          atmos      Amon   \n",
       "2     output     CCCma  CanCM4  historical       mon          atmos      Amon   \n",
       "3     output     CCCma  CanCM4  historical       mon          atmos      Amon   \n",
       "4     output     CCCma  CanCM4  historical       mon          atmos      Amon   \n",
       "\n",
       "  ensemble_member variable temporal_subset    version  \\\n",
       "0         r10i1p1     hfls   196101-200512  v20130331   \n",
       "1         r10i1p1      tas   196101-200512  v20130331   \n",
       "2         r10i1p1       pr   196101-200512  v20130331   \n",
       "3          r1i1p1     hfls   196101-200512  v20130331   \n",
       "4          r1i1p1      tas   196101-200512  v20130331   \n",
       "\n",
       "                                                path  \n",
       "0  /glade/collections/cmip/cmip5/output/CCCma/Can...  \n",
       "1  /glade/collections/cmip/cmip5/output/CCCma/Can...  \n",
       "2  /glade/collections/cmip/cmip5/output/CCCma/Can...  \n",
       "3  /glade/collections/cmip/cmip5/output/CCCma/Can...  \n",
       "4  /glade/collections/cmip/cmip5/output/CCCma/Can...  "
      ]
     },
     "execution_count": 27,
     "metadata": {},
     "output_type": "execute_result"
    }
   ],
   "source": [
    "# Re-arange columns\n",
    "columns = [\"product_id\", \"institute\", \"model\", \"experiment\", \"frequency\", \n",
    "           \"modeling_realm\", \"mip_table\", \"ensemble_member\", \"variable\", \n",
    "           \"temporal_subset\", \"version\", \"path\"]\n",
    "df = df[columns]\n",
    "df.head()"
   ]
  },
  {
   "cell_type": "code",
   "execution_count": 28,
   "metadata": {},
   "outputs": [],
   "source": [
    "df.to_csv(\"../catalogs/glade-cmip5.csv.gz\", compression=\"gzip\", index=False)"
   ]
  },
  {
   "cell_type": "code",
   "execution_count": null,
   "metadata": {},
   "outputs": [],
   "source": []
  }
 ],
 "metadata": {
  "file_extension": ".py",
  "kernelspec": {
   "display_name": "Python [conda env:analysis]",
   "language": "python",
   "name": "conda-env-analysis-py"
  },
  "language_info": {
   "codemirror_mode": {
    "name": "ipython",
    "version": 3
   },
   "file_extension": ".py",
   "mimetype": "text/x-python",
   "name": "python",
   "nbconvert_exporter": "python",
   "pygments_lexer": "ipython3",
   "version": "3.7.3"
  },
  "mimetype": "text/x-python",
  "name": "python",
  "npconvert_exporter": "python",
  "pygments_lexer": "ipython3",
  "version": 3
 },
 "nbformat": 4,
 "nbformat_minor": 4
}
