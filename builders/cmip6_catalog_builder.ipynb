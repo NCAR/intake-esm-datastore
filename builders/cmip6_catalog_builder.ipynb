{
 "cells": [
  {
   "cell_type": "code",
   "execution_count": 6,
   "metadata": {},
   "outputs": [],
   "source": [
    "import pandas as pd\n",
    "import fnmatch\n",
    "import dask.dataframe as dd\n",
    "from intake.source.utils import reverse_format\n",
    "import os\n",
    "import re\n",
    "import subprocess\n",
    "from tqdm.auto import tqdm\n",
    "from pathlib import Path\n",
    "import shutil\n",
    "import numpy as np\n"
   ]
  },
  {
   "cell_type": "markdown",
   "metadata": {},
   "source": [
    "## Create text file containing all files available"
   ]
  },
  {
   "cell_type": "code",
   "execution_count": 7,
   "metadata": {},
   "outputs": [],
   "source": [
    "def get_file_list(persist_path):\n",
    "    persist_path = Path(persist_path)\n",
    "    if persist_path.exists():\n",
    "        shutil.rmtree(persist_path)\n",
    "    persist_path.mkdir()\n",
    "    root = Path(\"/glade/collections/cmip/CMIP6\")\n",
    "    dirs = [x for x in root.iterdir() if x.is_dir()]\n",
    "    for directory in tqdm(dirs):\n",
    "        print(directory)\n",
    "        stem = directory.stem\n",
    "        f = open(f\"{persist_path}/{stem}.txt\", \"w\")\n",
    "        cmd = [\"find\", \"-L\", directory.as_posix(), \"-name\", \"*.nc\"]\n",
    "        p = subprocess.Popen(cmd, stderr=subprocess.PIPE, stdout=f)\n",
    "        p.wait()\n",
    "        "
   ]
  },
  {
   "cell_type": "code",
   "execution_count": 8,
   "metadata": {},
   "outputs": [
    {
     "data": {
      "application/vnd.jupyter.widget-view+json": {
       "model_id": "13f1975a7d324018a3a73282a03945d9",
       "version_major": 2,
       "version_minor": 0
      },
      "text/plain": [
       "HBox(children=(IntProgress(value=0, max=17), HTML(value='')))"
      ]
     },
     "metadata": {},
     "output_type": "display_data"
    },
    {
     "name": "stdout",
     "output_type": "stream",
     "text": [
      "/glade/collections/cmip/CMIP6/PMIP\n",
      "/glade/collections/cmip/CMIP6/HighResMIP\n",
      "/glade/collections/cmip/CMIP6/ScenarioMIP\n",
      "/glade/collections/cmip/CMIP6/AerChemMIP\n",
      "/glade/collections/cmip/CMIP6/RFMIP\n",
      "/glade/collections/cmip/CMIP6/OMIP\n",
      "/glade/collections/cmip/CMIP6/C4MIP\n",
      "/glade/collections/cmip/CMIP6/GeoMIP\n",
      "/glade/collections/cmip/CMIP6/DCPP\n",
      "/glade/collections/cmip/CMIP6/CMIP\n",
      "/glade/collections/cmip/CMIP6/CFMIP\n",
      "/glade/collections/cmip/CMIP6/LUMIP\n",
      "/glade/collections/cmip/CMIP6/GMMIP\n",
      "/glade/collections/cmip/CMIP6/PAMIP\n",
      "/glade/collections/cmip/CMIP6/DAMIP\n",
      "/glade/collections/cmip/CMIP6/LS3MIP\n",
      "/glade/collections/cmip/CMIP6/CDRMIP\n",
      "\n"
     ]
    }
   ],
   "source": [
    "persist_path = \"./CMIP6_filelist\"\n",
    "get_file_list(persist_path)"
   ]
  },
  {
   "cell_type": "markdown",
   "metadata": {},
   "source": [
    "\n",
    "## Extract attributes of a file using information from CMI6 DRS.\n",
    "\n",
    "\n",
    "References\n",
    " 1. CMIP6 DRS: http://goo.gl/v1drZl\n",
    " 2. Controlled Vocabularies (CVs) for use in CMIP6:\n",
    "    https://github.com/WCRP-CMIP/CMIP6_CVs\n",
    "    \n",
    "    \n",
    "Directory structure =\n",
    "```<mip_era>/\n",
    "    <activity_id>/\n",
    "        <institution_id>/\n",
    "            <source_id>/\n",
    "                <experiment_id>/\n",
    "                    <member_id>/\n",
    "                        <table_id>/\n",
    "                            <variable_id>/\n",
    "                                <grid_label>/\n",
    "                                    <version>\n",
    "```\n",
    "file name =\n",
    "```<variable_id>_<table_id>_<source_id>_<experiment_id >_<member_id>_<grid_label>[_<time_range>].nc```\n",
    "For time-invariant fields, the last segment (time_range) above is omitted.\n",
    "Example when there is no sub-experiment: `tas_Amon_GFDL-CM4_historical_r1i1p1f1_gn_196001-199912.nc`\n",
    "Example with a sub-experiment:   `pr_day_CNRM-CM6-1_dcppA-hindcast_s1960-r2i1p1f1_gn_198001-198412.nc`\n"
   ]
  },
  {
   "cell_type": "code",
   "execution_count": 9,
   "metadata": {},
   "outputs": [
    {
     "data": {
      "text/plain": [
       "['CFMIP',\n",
       " 'CMIP',\n",
       " 'LUMIP',\n",
       " 'C4MIP',\n",
       " 'LS3MIP',\n",
       " 'RFMIP',\n",
       " 'OMIP',\n",
       " 'HighResMIP',\n",
       " 'DCPP',\n",
       " 'CDRMIP',\n",
       " 'AerChemMIP',\n",
       " 'GeoMIP',\n",
       " 'PMIP',\n",
       " 'DAMIP',\n",
       " 'PAMIP',\n",
       " 'GMMIP',\n",
       " 'ScenarioMIP']"
      ]
     },
     "execution_count": 9,
     "metadata": {},
     "output_type": "execute_result"
    }
   ],
   "source": [
    "activity_ids = list(Path(persist_path).rglob(\"*.txt\"))\n",
    "activity_ids = [activity_id.stem for activity_id in activity_ids]\n",
    "activity_ids"
   ]
  },
  {
   "cell_type": "code",
   "execution_count": 10,
   "metadata": {},
   "outputs": [
    {
     "data": {
      "text/html": [
       "<div>\n",
       "<style scoped>\n",
       "    .dataframe tbody tr th:only-of-type {\n",
       "        vertical-align: middle;\n",
       "    }\n",
       "\n",
       "    .dataframe tbody tr th {\n",
       "        vertical-align: top;\n",
       "    }\n",
       "\n",
       "    .dataframe thead th {\n",
       "        text-align: right;\n",
       "    }\n",
       "</style>\n",
       "<table border=\"1\" class=\"dataframe\">\n",
       "  <thead>\n",
       "    <tr style=\"text-align: right;\">\n",
       "      <th></th>\n",
       "      <th>path</th>\n",
       "    </tr>\n",
       "  </thead>\n",
       "  <tbody>\n",
       "    <tr>\n",
       "      <td>0</td>\n",
       "      <td>/glade/collections/cmip/CMIP6/AerChemMIP/BCC/B...</td>\n",
       "    </tr>\n",
       "    <tr>\n",
       "      <td>1</td>\n",
       "      <td>/glade/collections/cmip/CMIP6/AerChemMIP/BCC/B...</td>\n",
       "    </tr>\n",
       "    <tr>\n",
       "      <td>2</td>\n",
       "      <td>/glade/collections/cmip/CMIP6/AerChemMIP/BCC/B...</td>\n",
       "    </tr>\n",
       "    <tr>\n",
       "      <td>3</td>\n",
       "      <td>/glade/collections/cmip/CMIP6/AerChemMIP/BCC/B...</td>\n",
       "    </tr>\n",
       "    <tr>\n",
       "      <td>4</td>\n",
       "      <td>/glade/collections/cmip/CMIP6/AerChemMIP/BCC/B...</td>\n",
       "    </tr>\n",
       "  </tbody>\n",
       "</table>\n",
       "</div>"
      ],
      "text/plain": [
       "                                                path\n",
       "0  /glade/collections/cmip/CMIP6/AerChemMIP/BCC/B...\n",
       "1  /glade/collections/cmip/CMIP6/AerChemMIP/BCC/B...\n",
       "2  /glade/collections/cmip/CMIP6/AerChemMIP/BCC/B...\n",
       "3  /glade/collections/cmip/CMIP6/AerChemMIP/BCC/B...\n",
       "4  /glade/collections/cmip/CMIP6/AerChemMIP/BCC/B..."
      ]
     },
     "execution_count": 10,
     "metadata": {},
     "output_type": "execute_result"
    }
   ],
   "source": [
    "df = dd.read_csv(f\"{persist_path}/*.txt\", header=None).compute()\n",
    "df.columns = [\"path\"]\n",
    "df.head()"
   ]
  },
  {
   "cell_type": "markdown",
   "metadata": {},
   "source": [
    "\n",
    "- 10/13/2019: 1,027,617 \n",
    "- 10/15/2019: 1,113,227\n",
    "- 10/16/2019: 1,129,214\n",
    "- 10/16/2019: 1,138,743\n",
    "- 10/17/2019: 2,352,702\n",
    "- 10/19/2019: 2,492,108"
   ]
  },
  {
   "cell_type": "code",
   "execution_count": 11,
   "metadata": {},
   "outputs": [
    {
     "data": {
      "text/plain": [
       "2492108"
      ]
     },
     "execution_count": 11,
     "metadata": {},
     "output_type": "execute_result"
    }
   ],
   "source": [
    "len(df)"
   ]
  },
  {
   "cell_type": "code",
   "execution_count": 12,
   "metadata": {},
   "outputs": [],
   "source": [
    "def _reverse_filename_format(file_basename, filename_template=None, gridspec_template=None):\n",
    "    \"\"\"\n",
    "    Uses intake's ``reverse_format`` utility to reverse the string method format.\n",
    "    Given format_string and resolved_string, find arguments\n",
    "    that would give format_string.format(arguments) == resolved_string\n",
    "    \"\"\"\n",
    "    try:\n",
    "        return reverse_format(filename_template, file_basename)\n",
    "    except ValueError:\n",
    "        try:\n",
    "            return reverse_format(gridspec_template, file_basename)\n",
    "        except:\n",
    "            print(\n",
    "                f'Failed to parse file: {file_basename} using patterns: {filename_template} and {gridspec_template}'\n",
    "            )\n",
    "            return {}\n",
    "            \n",
    "def _extract_attr_with_regex(input_str, regex, strip_chars=None):\n",
    "    pattern = re.compile(regex, re.IGNORECASE)\n",
    "    match = re.findall(pattern, input_str)\n",
    "    if match:\n",
    "        match = max(match, key=len)\n",
    "        if strip_chars:\n",
    "            match = match.strip(strip_chars)\n",
    "\n",
    "        else:\n",
    "            match = match.strip()\n",
    "\n",
    "        return match\n",
    "\n",
    "    else:\n",
    "        return None\n",
    "    \n",
    "\n",
    "exclude_patterns = ['*/files/*', '*/latest/*']\n",
    "def _filter_func(path):\n",
    "    return not any(\n",
    "        fnmatch.fnmatch(path, pat=exclude_pattern) for exclude_pattern in exclude_patterns\n",
    "    )\n",
    "\n"
   ]
  },
  {
   "cell_type": "code",
   "execution_count": null,
   "metadata": {},
   "outputs": [],
   "source": []
  },
  {
   "cell_type": "code",
   "execution_count": 13,
   "metadata": {},
   "outputs": [
    {
     "name": "stdout",
     "output_type": "stream",
     "text": [
      "CPU times: user 8.34 s, sys: 10.3 ms, total: 8.35 s\n",
      "Wall time: 8.35 s\n"
     ]
    }
   ],
   "source": [
    "%%time\n",
    "files = df.path.tolist()\n",
    "filelist = list(filter(_filter_func, files))"
   ]
  },
  {
   "cell_type": "code",
   "execution_count": 14,
   "metadata": {},
   "outputs": [
    {
     "data": {
      "text/plain": [
       "1205130"
      ]
     },
     "execution_count": 14,
     "metadata": {},
     "output_type": "execute_result"
    }
   ],
   "source": [
    "len(filelist)"
   ]
  },
  {
   "cell_type": "code",
   "execution_count": 15,
   "metadata": {},
   "outputs": [],
   "source": [
    "def get_attrs(filepath):\n",
    "    basename = os.path.basename(filepath)\n",
    "    dirname = os.path.dirname(filepath)\n",
    "    filename_template = '{variable_id}_{table_id}_{source_id}_{experiment_id}_{member_id}_{grid_label}_{time_range}.nc'\n",
    "\n",
    "    gridspec_template = (\n",
    "                '{variable_id}_{table_id}_{source_id}_{experiment_id}_{member_id}_{grid_label}.nc'\n",
    "            )\n",
    "    \n",
    "    f = _reverse_filename_format(\n",
    "            basename, filename_template=filename_template, gridspec_template=gridspec_template\n",
    "        )\n",
    "\n",
    "    fileparts = {}\n",
    "    fileparts.update(f)\n",
    "    parent = os.path.dirname(filepath).strip('/')\n",
    "    parent_split = parent.split(f\"/{fileparts['source_id']}/\")\n",
    "    part_1 = parent_split[0].strip('/').split('/')\n",
    "    grid_label = parent.split(f\"/{fileparts['variable_id']}/\")[1].strip('/').split('/')[0]\n",
    "    fileparts['grid_label'] = grid_label\n",
    "    fileparts['activity_id'] = part_1[-2]\n",
    "    fileparts['institution_id'] = part_1[-1]\n",
    "    version_regex = r'v\\d{4}\\d{2}\\d{2}|v\\d{1}'\n",
    "    version = _extract_attr_with_regex(parent, regex=version_regex) or 'v0'\n",
    "    fileparts['version'] = version\n",
    "    fileparts['path'] = filepath\n",
    "    return fileparts "
   ]
  },
  {
   "cell_type": "code",
   "execution_count": 16,
   "metadata": {},
   "outputs": [
    {
     "name": "stdout",
     "output_type": "stream",
     "text": [
      "CPU times: user 28.4 s, sys: 1.06 s, total: 29.5 s\n",
      "Wall time: 29.5 s\n"
     ]
    }
   ],
   "source": [
    "%%time\n",
    "entries = list(map(get_attrs, filelist))"
   ]
  },
  {
   "cell_type": "code",
   "execution_count": 17,
   "metadata": {},
   "outputs": [
    {
     "data": {
      "text/plain": [
       "{'variable_id': 'pr',\n",
       " 'table_id': 'day',\n",
       " 'source_id': 'BCC-ESM1',\n",
       " 'experiment_id': 'ssp370',\n",
       " 'member_id': 'r2i1p1f1',\n",
       " 'grid_label': 'gn',\n",
       " 'time_range': '20150101-20551231',\n",
       " 'activity_id': 'AerChemMIP',\n",
       " 'institution_id': 'BCC',\n",
       " 'version': 'v20190702',\n",
       " 'path': '/glade/collections/cmip/CMIP6/AerChemMIP/BCC/BCC-ESM1/ssp370/r2i1p1f1/day/pr/gn/v20190702/pr/pr_day_BCC-ESM1_ssp370_r2i1p1f1_gn_20150101-20551231.nc'}"
      ]
     },
     "execution_count": 17,
     "metadata": {},
     "output_type": "execute_result"
    }
   ],
   "source": [
    "entries[0]"
   ]
  },
  {
   "cell_type": "code",
   "execution_count": 18,
   "metadata": {},
   "outputs": [],
   "source": [
    "# a = '/glade/collections/cmip/CMIP6/GMMIP/NCAR/NCAR/CESM2/amip-hist/r2i1p1f1/day/prc/gn/v20190814/prc_day_CESM2_amip-hist_r2i1p1f1_gn_19900101-19991231.nc'\n",
    "# b = '/glade/collections/cmip/CMIP6/AerChemMIP/BCC/BCC-ESM1/ssp370/r2i1p1f1/day/pr/gn/v20190702/pr/pr_day_BCC-ESM1_ssp370_r2i1p1f1_gn_20150101-20551231.nc'\n",
    "# c = '/glade/collections/cmip/CMIP6/GMMIP/NCAR/NCAR/CESM2/amip-hist/r2i1p1f1/day/clt/gn/v20190814/clt_day_CESM2_amip-hist_r2i1p1f1_gn_19200101-19291231.nc',"
   ]
  },
  {
   "cell_type": "code",
   "execution_count": 19,
   "metadata": {},
   "outputs": [
    {
     "data": {
      "text/plain": [
       "1205130"
      ]
     },
     "execution_count": 19,
     "metadata": {},
     "output_type": "execute_result"
    }
   ],
   "source": [
    "len(entries)"
   ]
  },
  {
   "cell_type": "code",
   "execution_count": 20,
   "metadata": {},
   "outputs": [
    {
     "data": {
      "text/html": [
       "<div>\n",
       "<style scoped>\n",
       "    .dataframe tbody tr th:only-of-type {\n",
       "        vertical-align: middle;\n",
       "    }\n",
       "\n",
       "    .dataframe tbody tr th {\n",
       "        vertical-align: top;\n",
       "    }\n",
       "\n",
       "    .dataframe thead th {\n",
       "        text-align: right;\n",
       "    }\n",
       "</style>\n",
       "<table border=\"1\" class=\"dataframe\">\n",
       "  <thead>\n",
       "    <tr style=\"text-align: right;\">\n",
       "      <th></th>\n",
       "      <th>variable_id</th>\n",
       "      <th>table_id</th>\n",
       "      <th>source_id</th>\n",
       "      <th>experiment_id</th>\n",
       "      <th>member_id</th>\n",
       "      <th>grid_label</th>\n",
       "      <th>time_range</th>\n",
       "      <th>activity_id</th>\n",
       "      <th>institution_id</th>\n",
       "      <th>version</th>\n",
       "      <th>path</th>\n",
       "    </tr>\n",
       "  </thead>\n",
       "  <tbody>\n",
       "    <tr>\n",
       "      <td>0</td>\n",
       "      <td>pr</td>\n",
       "      <td>day</td>\n",
       "      <td>BCC-ESM1</td>\n",
       "      <td>ssp370</td>\n",
       "      <td>r2i1p1f1</td>\n",
       "      <td>gn</td>\n",
       "      <td>20150101-20551231</td>\n",
       "      <td>AerChemMIP</td>\n",
       "      <td>BCC</td>\n",
       "      <td>v20190702</td>\n",
       "      <td>/glade/collections/cmip/CMIP6/AerChemMIP/BCC/B...</td>\n",
       "    </tr>\n",
       "    <tr>\n",
       "      <td>1</td>\n",
       "      <td>vmo</td>\n",
       "      <td>Omon</td>\n",
       "      <td>BCC-ESM1</td>\n",
       "      <td>ssp370</td>\n",
       "      <td>r2i1p1f1</td>\n",
       "      <td>gn</td>\n",
       "      <td>205501-205512</td>\n",
       "      <td>AerChemMIP</td>\n",
       "      <td>BCC</td>\n",
       "      <td>v20190624</td>\n",
       "      <td>/glade/collections/cmip/CMIP6/AerChemMIP/BCC/B...</td>\n",
       "    </tr>\n",
       "    <tr>\n",
       "      <td>2</td>\n",
       "      <td>hfls</td>\n",
       "      <td>Amon</td>\n",
       "      <td>BCC-ESM1</td>\n",
       "      <td>ssp370</td>\n",
       "      <td>r2i1p1f1</td>\n",
       "      <td>gn</td>\n",
       "      <td>201501-205512</td>\n",
       "      <td>AerChemMIP</td>\n",
       "      <td>BCC</td>\n",
       "      <td>v20190624</td>\n",
       "      <td>/glade/collections/cmip/CMIP6/AerChemMIP/BCC/B...</td>\n",
       "    </tr>\n",
       "    <tr>\n",
       "      <td>3</td>\n",
       "      <td>prsn</td>\n",
       "      <td>Amon</td>\n",
       "      <td>BCC-ESM1</td>\n",
       "      <td>ssp370</td>\n",
       "      <td>r2i1p1f1</td>\n",
       "      <td>gn</td>\n",
       "      <td>201501-205512</td>\n",
       "      <td>AerChemMIP</td>\n",
       "      <td>BCC</td>\n",
       "      <td>v20190624</td>\n",
       "      <td>/glade/collections/cmip/CMIP6/AerChemMIP/BCC/B...</td>\n",
       "    </tr>\n",
       "    <tr>\n",
       "      <td>4</td>\n",
       "      <td>va</td>\n",
       "      <td>Amon</td>\n",
       "      <td>BCC-ESM1</td>\n",
       "      <td>ssp370</td>\n",
       "      <td>r2i1p1f1</td>\n",
       "      <td>gn</td>\n",
       "      <td>201501-205512</td>\n",
       "      <td>AerChemMIP</td>\n",
       "      <td>BCC</td>\n",
       "      <td>v20190624</td>\n",
       "      <td>/glade/collections/cmip/CMIP6/AerChemMIP/BCC/B...</td>\n",
       "    </tr>\n",
       "  </tbody>\n",
       "</table>\n",
       "</div>"
      ],
      "text/plain": [
       "  variable_id table_id source_id experiment_id member_id grid_label  \\\n",
       "0          pr      day  BCC-ESM1        ssp370  r2i1p1f1         gn   \n",
       "1         vmo     Omon  BCC-ESM1        ssp370  r2i1p1f1         gn   \n",
       "2        hfls     Amon  BCC-ESM1        ssp370  r2i1p1f1         gn   \n",
       "3        prsn     Amon  BCC-ESM1        ssp370  r2i1p1f1         gn   \n",
       "4          va     Amon  BCC-ESM1        ssp370  r2i1p1f1         gn   \n",
       "\n",
       "          time_range activity_id institution_id    version  \\\n",
       "0  20150101-20551231  AerChemMIP            BCC  v20190702   \n",
       "1      205501-205512  AerChemMIP            BCC  v20190624   \n",
       "2      201501-205512  AerChemMIP            BCC  v20190624   \n",
       "3      201501-205512  AerChemMIP            BCC  v20190624   \n",
       "4      201501-205512  AerChemMIP            BCC  v20190624   \n",
       "\n",
       "                                                path  \n",
       "0  /glade/collections/cmip/CMIP6/AerChemMIP/BCC/B...  \n",
       "1  /glade/collections/cmip/CMIP6/AerChemMIP/BCC/B...  \n",
       "2  /glade/collections/cmip/CMIP6/AerChemMIP/BCC/B...  \n",
       "3  /glade/collections/cmip/CMIP6/AerChemMIP/BCC/B...  \n",
       "4  /glade/collections/cmip/CMIP6/AerChemMIP/BCC/B...  "
      ]
     },
     "execution_count": 20,
     "metadata": {},
     "output_type": "execute_result"
    }
   ],
   "source": [
    "df1 = pd.DataFrame(entries)\n",
    "df1.head()"
   ]
  },
  {
   "cell_type": "code",
   "execution_count": 21,
   "metadata": {},
   "outputs": [
    {
     "data": {
      "text/plain": [
       "1205130"
      ]
     },
     "execution_count": 21,
     "metadata": {},
     "output_type": "execute_result"
    }
   ],
   "source": [
    "len(df1)"
   ]
  },
  {
   "cell_type": "code",
   "execution_count": 22,
   "metadata": {},
   "outputs": [
    {
     "data": {
      "text/html": [
       "<div>\n",
       "<style scoped>\n",
       "    .dataframe tbody tr th:only-of-type {\n",
       "        vertical-align: middle;\n",
       "    }\n",
       "\n",
       "    .dataframe tbody tr th {\n",
       "        vertical-align: top;\n",
       "    }\n",
       "\n",
       "    .dataframe thead th {\n",
       "        text-align: right;\n",
       "    }\n",
       "</style>\n",
       "<table border=\"1\" class=\"dataframe\">\n",
       "  <thead>\n",
       "    <tr style=\"text-align: right;\">\n",
       "      <th></th>\n",
       "      <th>variable_id</th>\n",
       "      <th>table_id</th>\n",
       "      <th>source_id</th>\n",
       "      <th>experiment_id</th>\n",
       "      <th>member_id</th>\n",
       "      <th>grid_label</th>\n",
       "      <th>time_range</th>\n",
       "      <th>activity_id</th>\n",
       "      <th>institution_id</th>\n",
       "      <th>version</th>\n",
       "      <th>path</th>\n",
       "    </tr>\n",
       "  </thead>\n",
       "  <tbody>\n",
       "    <tr>\n",
       "      <td>609133</td>\n",
       "      <td>sftlf</td>\n",
       "      <td>fx</td>\n",
       "      <td>abrupt-4xCO2</td>\n",
       "      <td>NorESM2-LM</td>\n",
       "      <td>r1i1p1f1</td>\n",
       "      <td>gn</td>\n",
       "      <td>NaN</td>\n",
       "      <td>NCC</td>\n",
       "      <td>NorESM2-LM</td>\n",
       "      <td>v20190815</td>\n",
       "      <td>/glade/collections/cmip/CMIP6/CMIP/NCC/NorESM2...</td>\n",
       "    </tr>\n",
       "    <tr>\n",
       "      <td>609134</td>\n",
       "      <td>areacella</td>\n",
       "      <td>fx</td>\n",
       "      <td>abrupt-4xCO2</td>\n",
       "      <td>NorESM2-LM</td>\n",
       "      <td>r1i1p1f1</td>\n",
       "      <td>gn</td>\n",
       "      <td>NaN</td>\n",
       "      <td>NCC</td>\n",
       "      <td>NorESM2-LM</td>\n",
       "      <td>v20190815</td>\n",
       "      <td>/glade/collections/cmip/CMIP6/CMIP/NCC/NorESM2...</td>\n",
       "    </tr>\n",
       "    <tr>\n",
       "      <td>610743</td>\n",
       "      <td>sftlf</td>\n",
       "      <td>fx</td>\n",
       "      <td>historical</td>\n",
       "      <td>NorESM2-LM</td>\n",
       "      <td>r1i1p1f1</td>\n",
       "      <td>gn</td>\n",
       "      <td>NaN</td>\n",
       "      <td>NCC</td>\n",
       "      <td>NorESM2-LM</td>\n",
       "      <td>v20190815</td>\n",
       "      <td>/glade/collections/cmip/CMIP6/CMIP/NCC/NorESM2...</td>\n",
       "    </tr>\n",
       "    <tr>\n",
       "      <td>612939</td>\n",
       "      <td>areacella</td>\n",
       "      <td>fx</td>\n",
       "      <td>piControl</td>\n",
       "      <td>NorESM2-LM</td>\n",
       "      <td>r1i1p1f1</td>\n",
       "      <td>gn</td>\n",
       "      <td>NaN</td>\n",
       "      <td>NCC</td>\n",
       "      <td>NorESM2-LM</td>\n",
       "      <td>v20190815</td>\n",
       "      <td>/glade/collections/cmip/CMIP6/CMIP/NCC/NorESM2...</td>\n",
       "    </tr>\n",
       "    <tr>\n",
       "      <td>614044</td>\n",
       "      <td>areacella</td>\n",
       "      <td>fx</td>\n",
       "      <td>1pctCO2</td>\n",
       "      <td>NorESM2-LM</td>\n",
       "      <td>r1i1p1f1</td>\n",
       "      <td>gn</td>\n",
       "      <td>NaN</td>\n",
       "      <td>NCC</td>\n",
       "      <td>NorESM2-LM</td>\n",
       "      <td>v20190815</td>\n",
       "      <td>/glade/collections/cmip/CMIP6/CMIP/NCC/NorESM2...</td>\n",
       "    </tr>\n",
       "    <tr>\n",
       "      <td>623072</td>\n",
       "      <td>sftlf</td>\n",
       "      <td>fx</td>\n",
       "      <td>hist-GHG</td>\n",
       "      <td>NorESM2-LM</td>\n",
       "      <td>r1i1p1f1</td>\n",
       "      <td>gn</td>\n",
       "      <td>NaN</td>\n",
       "      <td>NCC</td>\n",
       "      <td>NorESM2-LM</td>\n",
       "      <td>v20190815</td>\n",
       "      <td>/glade/collections/cmip/CMIP6/DAMIP/NCC/NorESM...</td>\n",
       "    </tr>\n",
       "  </tbody>\n",
       "</table>\n",
       "</div>"
      ],
      "text/plain": [
       "       variable_id table_id     source_id experiment_id member_id grid_label  \\\n",
       "609133       sftlf       fx  abrupt-4xCO2    NorESM2-LM  r1i1p1f1         gn   \n",
       "609134   areacella       fx  abrupt-4xCO2    NorESM2-LM  r1i1p1f1         gn   \n",
       "610743       sftlf       fx    historical    NorESM2-LM  r1i1p1f1         gn   \n",
       "612939   areacella       fx     piControl    NorESM2-LM  r1i1p1f1         gn   \n",
       "614044   areacella       fx       1pctCO2    NorESM2-LM  r1i1p1f1         gn   \n",
       "623072       sftlf       fx      hist-GHG    NorESM2-LM  r1i1p1f1         gn   \n",
       "\n",
       "       time_range activity_id institution_id    version  \\\n",
       "609133        NaN         NCC     NorESM2-LM  v20190815   \n",
       "609134        NaN         NCC     NorESM2-LM  v20190815   \n",
       "610743        NaN         NCC     NorESM2-LM  v20190815   \n",
       "612939        NaN         NCC     NorESM2-LM  v20190815   \n",
       "614044        NaN         NCC     NorESM2-LM  v20190815   \n",
       "623072        NaN         NCC     NorESM2-LM  v20190815   \n",
       "\n",
       "                                                     path  \n",
       "609133  /glade/collections/cmip/CMIP6/CMIP/NCC/NorESM2...  \n",
       "609134  /glade/collections/cmip/CMIP6/CMIP/NCC/NorESM2...  \n",
       "610743  /glade/collections/cmip/CMIP6/CMIP/NCC/NorESM2...  \n",
       "612939  /glade/collections/cmip/CMIP6/CMIP/NCC/NorESM2...  \n",
       "614044  /glade/collections/cmip/CMIP6/CMIP/NCC/NorESM2...  \n",
       "623072  /glade/collections/cmip/CMIP6/DAMIP/NCC/NorESM...  "
      ]
     },
     "execution_count": 22,
     "metadata": {},
     "output_type": "execute_result"
    }
   ],
   "source": [
    "# Some entries are invalid\n",
    "invalids = df1[~df1.activity_id.isin(activity_ids)]\n",
    "df = df1[df1.activity_id.isin(activity_ids)]\n",
    "invalids"
   ]
  },
  {
   "cell_type": "code",
   "execution_count": 23,
   "metadata": {},
   "outputs": [
    {
     "data": {
      "text/plain": [
       "['/glade/collections/cmip/CMIP6/CMIP/NCC/NorESM2-LM/abrupt-4xCO2/r1i1p1f1/fx/sftlf/gn/v20190815/sftlf/sftlf_fx_abrupt-4xCO2_NorESM2-LM_r1i1p1f1_gn.nc',\n",
       " '/glade/collections/cmip/CMIP6/CMIP/NCC/NorESM2-LM/abrupt-4xCO2/r1i1p1f1/fx/areacella/gn/v20190815/areacella/areacella_fx_abrupt-4xCO2_NorESM2-LM_r1i1p1f1_gn.nc',\n",
       " '/glade/collections/cmip/CMIP6/CMIP/NCC/NorESM2-LM/historical/r1i1p1f1/fx/sftlf/gn/v20190815/sftlf/sftlf_fx_historical_NorESM2-LM_r1i1p1f1_gn.nc',\n",
       " '/glade/collections/cmip/CMIP6/CMIP/NCC/NorESM2-LM/piControl/r1i1p1f1/fx/areacella/gn/v20190815/areacella/areacella_fx_piControl_NorESM2-LM_r1i1p1f1_gn.nc',\n",
       " '/glade/collections/cmip/CMIP6/CMIP/NCC/NorESM2-LM/1pctCO2/r1i1p1f1/fx/areacella/gn/v20190815/areacella/areacella_fx_1pctCO2_NorESM2-LM_r1i1p1f1_gn.nc',\n",
       " '/glade/collections/cmip/CMIP6/DAMIP/NCC/NorESM2-LM/hist-GHG/r1i1p1f1/fx/sftlf/gn/v20190815/sftlf/sftlf_fx_hist-GHG_NorESM2-LM_r1i1p1f1_gn.nc']"
      ]
     },
     "execution_count": 23,
     "metadata": {},
     "output_type": "execute_result"
    }
   ],
   "source": [
    "invalids.path.tolist()\n",
    "\n",
    "## Keep latest version"
   ]
  },
  {
   "cell_type": "markdown",
   "metadata": {},
   "source": [
    "## Pick the latest versions"
   ]
  },
  {
   "cell_type": "code",
   "execution_count": 24,
   "metadata": {},
   "outputs": [],
   "source": [
    "grpby = list(set(df.columns.tolist()) - {'path', 'version'})\n",
    "groups = df.groupby(grpby)"
   ]
  },
  {
   "cell_type": "code",
   "execution_count": 25,
   "metadata": {},
   "outputs": [
    {
     "name": "stdout",
     "output_type": "stream",
     "text": [
      "CPU times: user 5min 47s, sys: 6.51 s, total: 5min 53s\n",
      "Wall time: 5min 50s\n"
     ]
    }
   ],
   "source": [
    "%%time\n",
    "idx_to_remove = []\n",
    "for _, group in groups:\n",
    "    if group.version.nunique() > 1:\n",
    "        idx_to_remove.extend(group.sort_values(by=['version'], ascending=False).index[1:].values.tolist())"
   ]
  },
  {
   "cell_type": "code",
   "execution_count": 26,
   "metadata": {},
   "outputs": [
    {
     "data": {
      "text/plain": [
       "23973"
      ]
     },
     "execution_count": 26,
     "metadata": {},
     "output_type": "execute_result"
    }
   ],
   "source": [
    "len(idx_to_remove)"
   ]
  },
  {
   "cell_type": "code",
   "execution_count": 27,
   "metadata": {},
   "outputs": [
    {
     "data": {
      "text/plain": [
       "1205124"
      ]
     },
     "execution_count": 27,
     "metadata": {},
     "output_type": "execute_result"
    }
   ],
   "source": [
    "len(df)"
   ]
  },
  {
   "cell_type": "code",
   "execution_count": 28,
   "metadata": {},
   "outputs": [
    {
     "data": {
      "text/plain": [
       "1181151"
      ]
     },
     "execution_count": 28,
     "metadata": {},
     "output_type": "execute_result"
    }
   ],
   "source": [
    "df = df.drop(index=idx_to_remove)\n",
    "len(df)"
   ]
  },
  {
   "cell_type": "code",
   "execution_count": 29,
   "metadata": {},
   "outputs": [
    {
     "data": {
      "text/html": [
       "<div>\n",
       "<style scoped>\n",
       "    .dataframe tbody tr th:only-of-type {\n",
       "        vertical-align: middle;\n",
       "    }\n",
       "\n",
       "    .dataframe tbody tr th {\n",
       "        vertical-align: top;\n",
       "    }\n",
       "\n",
       "    .dataframe thead th {\n",
       "        text-align: right;\n",
       "    }\n",
       "</style>\n",
       "<table border=\"1\" class=\"dataframe\">\n",
       "  <thead>\n",
       "    <tr style=\"text-align: right;\">\n",
       "      <th></th>\n",
       "      <th>variable_id</th>\n",
       "      <th>table_id</th>\n",
       "      <th>source_id</th>\n",
       "      <th>experiment_id</th>\n",
       "      <th>member_id</th>\n",
       "      <th>grid_label</th>\n",
       "      <th>time_range</th>\n",
       "      <th>activity_id</th>\n",
       "      <th>institution_id</th>\n",
       "      <th>version</th>\n",
       "      <th>path</th>\n",
       "      <th>dcpp_init_year</th>\n",
       "    </tr>\n",
       "  </thead>\n",
       "  <tbody>\n",
       "    <tr>\n",
       "      <td>0</td>\n",
       "      <td>pr</td>\n",
       "      <td>day</td>\n",
       "      <td>BCC-ESM1</td>\n",
       "      <td>ssp370</td>\n",
       "      <td>r2i1p1f1</td>\n",
       "      <td>gn</td>\n",
       "      <td>20150101-20551231</td>\n",
       "      <td>AerChemMIP</td>\n",
       "      <td>BCC</td>\n",
       "      <td>v20190702</td>\n",
       "      <td>/glade/collections/cmip/CMIP6/AerChemMIP/BCC/B...</td>\n",
       "      <td>NaN</td>\n",
       "    </tr>\n",
       "    <tr>\n",
       "      <td>1</td>\n",
       "      <td>vmo</td>\n",
       "      <td>Omon</td>\n",
       "      <td>BCC-ESM1</td>\n",
       "      <td>ssp370</td>\n",
       "      <td>r2i1p1f1</td>\n",
       "      <td>gn</td>\n",
       "      <td>205501-205512</td>\n",
       "      <td>AerChemMIP</td>\n",
       "      <td>BCC</td>\n",
       "      <td>v20190624</td>\n",
       "      <td>/glade/collections/cmip/CMIP6/AerChemMIP/BCC/B...</td>\n",
       "      <td>NaN</td>\n",
       "    </tr>\n",
       "    <tr>\n",
       "      <td>2</td>\n",
       "      <td>hfls</td>\n",
       "      <td>Amon</td>\n",
       "      <td>BCC-ESM1</td>\n",
       "      <td>ssp370</td>\n",
       "      <td>r2i1p1f1</td>\n",
       "      <td>gn</td>\n",
       "      <td>201501-205512</td>\n",
       "      <td>AerChemMIP</td>\n",
       "      <td>BCC</td>\n",
       "      <td>v20190624</td>\n",
       "      <td>/glade/collections/cmip/CMIP6/AerChemMIP/BCC/B...</td>\n",
       "      <td>NaN</td>\n",
       "    </tr>\n",
       "    <tr>\n",
       "      <td>3</td>\n",
       "      <td>prsn</td>\n",
       "      <td>Amon</td>\n",
       "      <td>BCC-ESM1</td>\n",
       "      <td>ssp370</td>\n",
       "      <td>r2i1p1f1</td>\n",
       "      <td>gn</td>\n",
       "      <td>201501-205512</td>\n",
       "      <td>AerChemMIP</td>\n",
       "      <td>BCC</td>\n",
       "      <td>v20190624</td>\n",
       "      <td>/glade/collections/cmip/CMIP6/AerChemMIP/BCC/B...</td>\n",
       "      <td>NaN</td>\n",
       "    </tr>\n",
       "    <tr>\n",
       "      <td>4</td>\n",
       "      <td>va</td>\n",
       "      <td>Amon</td>\n",
       "      <td>BCC-ESM1</td>\n",
       "      <td>ssp370</td>\n",
       "      <td>r2i1p1f1</td>\n",
       "      <td>gn</td>\n",
       "      <td>201501-205512</td>\n",
       "      <td>AerChemMIP</td>\n",
       "      <td>BCC</td>\n",
       "      <td>v20190624</td>\n",
       "      <td>/glade/collections/cmip/CMIP6/AerChemMIP/BCC/B...</td>\n",
       "      <td>NaN</td>\n",
       "    </tr>\n",
       "  </tbody>\n",
       "</table>\n",
       "</div>"
      ],
      "text/plain": [
       "  variable_id table_id source_id experiment_id member_id grid_label  \\\n",
       "0          pr      day  BCC-ESM1        ssp370  r2i1p1f1         gn   \n",
       "1         vmo     Omon  BCC-ESM1        ssp370  r2i1p1f1         gn   \n",
       "2        hfls     Amon  BCC-ESM1        ssp370  r2i1p1f1         gn   \n",
       "3        prsn     Amon  BCC-ESM1        ssp370  r2i1p1f1         gn   \n",
       "4          va     Amon  BCC-ESM1        ssp370  r2i1p1f1         gn   \n",
       "\n",
       "          time_range activity_id institution_id    version  \\\n",
       "0  20150101-20551231  AerChemMIP            BCC  v20190702   \n",
       "1      205501-205512  AerChemMIP            BCC  v20190624   \n",
       "2      201501-205512  AerChemMIP            BCC  v20190624   \n",
       "3      201501-205512  AerChemMIP            BCC  v20190624   \n",
       "4      201501-205512  AerChemMIP            BCC  v20190624   \n",
       "\n",
       "                                                path  dcpp_init_year  \n",
       "0  /glade/collections/cmip/CMIP6/AerChemMIP/BCC/B...             NaN  \n",
       "1  /glade/collections/cmip/CMIP6/AerChemMIP/BCC/B...             NaN  \n",
       "2  /glade/collections/cmip/CMIP6/AerChemMIP/BCC/B...             NaN  \n",
       "3  /glade/collections/cmip/CMIP6/AerChemMIP/BCC/B...             NaN  \n",
       "4  /glade/collections/cmip/CMIP6/AerChemMIP/BCC/B...             NaN  "
      ]
     },
     "execution_count": 29,
     "metadata": {},
     "output_type": "execute_result"
    }
   ],
   "source": [
    "df[\"dcpp_init_year\"] = df.member_id.map(lambda x: float(x.split(\"-\")[0][1:] if x.startswith(\"s\") else np.nan))\n",
    "df[\"member_id\"] = df[\"member_id\"].map(lambda x: x.split(\"-\")[-1] if x.startswith(\"s\") else x)\n",
    "df.head()"
   ]
  },
  {
   "cell_type": "code",
   "execution_count": 30,
   "metadata": {},
   "outputs": [
    {
     "data": {
      "text/html": [
       "<div>\n",
       "<style scoped>\n",
       "    .dataframe tbody tr th:only-of-type {\n",
       "        vertical-align: middle;\n",
       "    }\n",
       "\n",
       "    .dataframe tbody tr th {\n",
       "        vertical-align: top;\n",
       "    }\n",
       "\n",
       "    .dataframe thead th {\n",
       "        text-align: right;\n",
       "    }\n",
       "</style>\n",
       "<table border=\"1\" class=\"dataframe\">\n",
       "  <thead>\n",
       "    <tr style=\"text-align: right;\">\n",
       "      <th></th>\n",
       "      <th>activity_id</th>\n",
       "      <th>institution_id</th>\n",
       "      <th>source_id</th>\n",
       "      <th>experiment_id</th>\n",
       "      <th>member_id</th>\n",
       "      <th>table_id</th>\n",
       "      <th>variable_id</th>\n",
       "      <th>grid_label</th>\n",
       "      <th>dcpp_init_year</th>\n",
       "      <th>version</th>\n",
       "      <th>time_range</th>\n",
       "      <th>path</th>\n",
       "    </tr>\n",
       "  </thead>\n",
       "  <tbody>\n",
       "    <tr>\n",
       "      <td>0</td>\n",
       "      <td>AerChemMIP</td>\n",
       "      <td>BCC</td>\n",
       "      <td>BCC-ESM1</td>\n",
       "      <td>ssp370</td>\n",
       "      <td>r2i1p1f1</td>\n",
       "      <td>day</td>\n",
       "      <td>pr</td>\n",
       "      <td>gn</td>\n",
       "      <td>NaN</td>\n",
       "      <td>v20190702</td>\n",
       "      <td>20150101-20551231</td>\n",
       "      <td>/glade/collections/cmip/CMIP6/AerChemMIP/BCC/B...</td>\n",
       "    </tr>\n",
       "    <tr>\n",
       "      <td>1</td>\n",
       "      <td>AerChemMIP</td>\n",
       "      <td>BCC</td>\n",
       "      <td>BCC-ESM1</td>\n",
       "      <td>ssp370</td>\n",
       "      <td>r2i1p1f1</td>\n",
       "      <td>Omon</td>\n",
       "      <td>vmo</td>\n",
       "      <td>gn</td>\n",
       "      <td>NaN</td>\n",
       "      <td>v20190624</td>\n",
       "      <td>205501-205512</td>\n",
       "      <td>/glade/collections/cmip/CMIP6/AerChemMIP/BCC/B...</td>\n",
       "    </tr>\n",
       "    <tr>\n",
       "      <td>2</td>\n",
       "      <td>AerChemMIP</td>\n",
       "      <td>BCC</td>\n",
       "      <td>BCC-ESM1</td>\n",
       "      <td>ssp370</td>\n",
       "      <td>r2i1p1f1</td>\n",
       "      <td>Amon</td>\n",
       "      <td>hfls</td>\n",
       "      <td>gn</td>\n",
       "      <td>NaN</td>\n",
       "      <td>v20190624</td>\n",
       "      <td>201501-205512</td>\n",
       "      <td>/glade/collections/cmip/CMIP6/AerChemMIP/BCC/B...</td>\n",
       "    </tr>\n",
       "    <tr>\n",
       "      <td>3</td>\n",
       "      <td>AerChemMIP</td>\n",
       "      <td>BCC</td>\n",
       "      <td>BCC-ESM1</td>\n",
       "      <td>ssp370</td>\n",
       "      <td>r2i1p1f1</td>\n",
       "      <td>Amon</td>\n",
       "      <td>prsn</td>\n",
       "      <td>gn</td>\n",
       "      <td>NaN</td>\n",
       "      <td>v20190624</td>\n",
       "      <td>201501-205512</td>\n",
       "      <td>/glade/collections/cmip/CMIP6/AerChemMIP/BCC/B...</td>\n",
       "    </tr>\n",
       "    <tr>\n",
       "      <td>4</td>\n",
       "      <td>AerChemMIP</td>\n",
       "      <td>BCC</td>\n",
       "      <td>BCC-ESM1</td>\n",
       "      <td>ssp370</td>\n",
       "      <td>r2i1p1f1</td>\n",
       "      <td>Amon</td>\n",
       "      <td>va</td>\n",
       "      <td>gn</td>\n",
       "      <td>NaN</td>\n",
       "      <td>v20190624</td>\n",
       "      <td>201501-205512</td>\n",
       "      <td>/glade/collections/cmip/CMIP6/AerChemMIP/BCC/B...</td>\n",
       "    </tr>\n",
       "  </tbody>\n",
       "</table>\n",
       "</div>"
      ],
      "text/plain": [
       "  activity_id institution_id source_id experiment_id member_id table_id  \\\n",
       "0  AerChemMIP            BCC  BCC-ESM1        ssp370  r2i1p1f1      day   \n",
       "1  AerChemMIP            BCC  BCC-ESM1        ssp370  r2i1p1f1     Omon   \n",
       "2  AerChemMIP            BCC  BCC-ESM1        ssp370  r2i1p1f1     Amon   \n",
       "3  AerChemMIP            BCC  BCC-ESM1        ssp370  r2i1p1f1     Amon   \n",
       "4  AerChemMIP            BCC  BCC-ESM1        ssp370  r2i1p1f1     Amon   \n",
       "\n",
       "  variable_id grid_label  dcpp_init_year    version         time_range  \\\n",
       "0          pr         gn             NaN  v20190702  20150101-20551231   \n",
       "1         vmo         gn             NaN  v20190624      205501-205512   \n",
       "2        hfls         gn             NaN  v20190624      201501-205512   \n",
       "3        prsn         gn             NaN  v20190624      201501-205512   \n",
       "4          va         gn             NaN  v20190624      201501-205512   \n",
       "\n",
       "                                                path  \n",
       "0  /glade/collections/cmip/CMIP6/AerChemMIP/BCC/B...  \n",
       "1  /glade/collections/cmip/CMIP6/AerChemMIP/BCC/B...  \n",
       "2  /glade/collections/cmip/CMIP6/AerChemMIP/BCC/B...  \n",
       "3  /glade/collections/cmip/CMIP6/AerChemMIP/BCC/B...  \n",
       "4  /glade/collections/cmip/CMIP6/AerChemMIP/BCC/B...  "
      ]
     },
     "execution_count": 30,
     "metadata": {},
     "output_type": "execute_result"
    }
   ],
   "source": [
    "columns = [\"activity_id\", \"institution_id\", \"source_id\", \"experiment_id\", \"member_id\", \"table_id\", \"variable_id\",\n",
    "           \"grid_label\", \"dcpp_init_year\", \"version\", \"time_range\", \"path\"]\n",
    "df = df[columns]\n",
    "df.head()"
   ]
  },
  {
   "cell_type": "code",
   "execution_count": 36,
   "metadata": {},
   "outputs": [],
   "source": [
    "df.to_csv(\"../catalogs/glade-cmip6.csv.gz\", compression=\"gzip\", index=False)"
   ]
  },
  {
   "cell_type": "code",
   "execution_count": 37,
   "metadata": {},
   "outputs": [
    {
     "data": {
      "text/plain": [
       "1181151"
      ]
     },
     "execution_count": 37,
     "metadata": {},
     "output_type": "execute_result"
    }
   ],
   "source": [
    "len(df)"
   ]
  },
  {
   "cell_type": "code",
   "execution_count": null,
   "metadata": {},
   "outputs": [],
   "source": []
  }
 ],
 "metadata": {
  "file_extension": ".py",
  "kernelspec": {
   "display_name": "Python [conda env:analysis]",
   "language": "python",
   "name": "conda-env-analysis-py"
  },
  "language_info": {
   "codemirror_mode": {
    "name": "ipython",
    "version": 3
   },
   "file_extension": ".py",
   "mimetype": "text/x-python",
   "name": "python",
   "nbconvert_exporter": "python",
   "pygments_lexer": "ipython3",
   "version": "3.7.3"
  },
  "mimetype": "text/x-python",
  "name": "python",
  "npconvert_exporter": "python",
  "pygments_lexer": "ipython3",
  "version": 3
 },
 "nbformat": 4,
 "nbformat_minor": 4
}
